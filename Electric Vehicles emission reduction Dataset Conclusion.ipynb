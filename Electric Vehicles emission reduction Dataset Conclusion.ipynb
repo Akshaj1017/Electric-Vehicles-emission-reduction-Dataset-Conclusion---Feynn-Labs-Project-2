{
 "cells": [
  {
   "cell_type": "code",
   "execution_count": 1,
   "id": "f3750d74",
   "metadata": {},
   "outputs": [],
   "source": [
    "import numpy as np \n",
    "import pandas as pd\n",
    "import matplotlib.pyplot as plt"
   ]
  },
  {
   "cell_type": "markdown",
   "id": "60626858",
   "metadata": {},
   "source": [
    "Load the dataset"
   ]
  },
  {
   "cell_type": "code",
   "execution_count": 2,
   "id": "4530fe74",
   "metadata": {},
   "outputs": [
    {
     "data": {
      "text/html": [
       "<div>\n",
       "<style scoped>\n",
       "    .dataframe tbody tr th:only-of-type {\n",
       "        vertical-align: middle;\n",
       "    }\n",
       "\n",
       "    .dataframe tbody tr th {\n",
       "        vertical-align: top;\n",
       "    }\n",
       "\n",
       "    .dataframe thead th {\n",
       "        text-align: right;\n",
       "    }\n",
       "</style>\n",
       "<table border=\"1\" class=\"dataframe\">\n",
       "  <thead>\n",
       "    <tr style=\"text-align: right;\">\n",
       "      <th></th>\n",
       "      <th>data_through_date</th>\n",
       "      <th>submitted_date</th>\n",
       "      <th>make</th>\n",
       "      <th>model</th>\n",
       "      <th>county</th>\n",
       "      <th>zip</th>\n",
       "      <th>ev_type</th>\n",
       "      <th>transaction_type</th>\n",
       "      <th>annual_ghg_emissions_reductions_mt_co2e</th>\n",
       "      <th>annual_petroleum_reductions_gallons</th>\n",
       "      <th>rebate_amount_usd</th>\n",
       "    </tr>\n",
       "  </thead>\n",
       "  <tbody>\n",
       "    <tr>\n",
       "      <th>0</th>\n",
       "      <td>2020-02-29</td>\n",
       "      <td>2018-01-13</td>\n",
       "      <td>Ford</td>\n",
       "      <td>Focus</td>\n",
       "      <td>Westchester</td>\n",
       "      <td>10598</td>\n",
       "      <td>BEV</td>\n",
       "      <td>Lease</td>\n",
       "      <td>2.76</td>\n",
       "      <td>592.89</td>\n",
       "      <td>1700</td>\n",
       "    </tr>\n",
       "    <tr>\n",
       "      <th>1</th>\n",
       "      <td>2020-02-29</td>\n",
       "      <td>2017-09-25</td>\n",
       "      <td>Ford</td>\n",
       "      <td>Focus</td>\n",
       "      <td>Oneida</td>\n",
       "      <td>13601</td>\n",
       "      <td>BEV</td>\n",
       "      <td>Lease</td>\n",
       "      <td>2.76</td>\n",
       "      <td>592.89</td>\n",
       "      <td>1700</td>\n",
       "    </tr>\n",
       "    <tr>\n",
       "      <th>2</th>\n",
       "      <td>2020-02-29</td>\n",
       "      <td>2018-04-26</td>\n",
       "      <td>Ford</td>\n",
       "      <td>Focus</td>\n",
       "      <td>Suffolk</td>\n",
       "      <td>11776</td>\n",
       "      <td>BEV</td>\n",
       "      <td>Lease</td>\n",
       "      <td>2.76</td>\n",
       "      <td>592.89</td>\n",
       "      <td>1700</td>\n",
       "    </tr>\n",
       "    <tr>\n",
       "      <th>3</th>\n",
       "      <td>2020-02-29</td>\n",
       "      <td>2017-08-30</td>\n",
       "      <td>Ford</td>\n",
       "      <td>Focus</td>\n",
       "      <td>Nassau</td>\n",
       "      <td>11756</td>\n",
       "      <td>BEV</td>\n",
       "      <td>Lease</td>\n",
       "      <td>2.76</td>\n",
       "      <td>592.89</td>\n",
       "      <td>1700</td>\n",
       "    </tr>\n",
       "    <tr>\n",
       "      <th>4</th>\n",
       "      <td>2020-02-29</td>\n",
       "      <td>2018-05-29</td>\n",
       "      <td>Ford</td>\n",
       "      <td>Focus</td>\n",
       "      <td>Onondaga</td>\n",
       "      <td>13039</td>\n",
       "      <td>BEV</td>\n",
       "      <td>Purchase</td>\n",
       "      <td>2.76</td>\n",
       "      <td>592.89</td>\n",
       "      <td>1700</td>\n",
       "    </tr>\n",
       "    <tr>\n",
       "      <th>...</th>\n",
       "      <td>...</td>\n",
       "      <td>...</td>\n",
       "      <td>...</td>\n",
       "      <td>...</td>\n",
       "      <td>...</td>\n",
       "      <td>...</td>\n",
       "      <td>...</td>\n",
       "      <td>...</td>\n",
       "      <td>...</td>\n",
       "      <td>...</td>\n",
       "      <td>...</td>\n",
       "    </tr>\n",
       "    <tr>\n",
       "      <th>23169</th>\n",
       "      <td>2020-02-29</td>\n",
       "      <td>2017-12-27</td>\n",
       "      <td>Volvo</td>\n",
       "      <td>XC60 T8</td>\n",
       "      <td>Onondaga</td>\n",
       "      <td>13039</td>\n",
       "      <td>PHEV</td>\n",
       "      <td>Purchase</td>\n",
       "      <td>0.40</td>\n",
       "      <td>200.58</td>\n",
       "      <td>500</td>\n",
       "    </tr>\n",
       "    <tr>\n",
       "      <th>23170</th>\n",
       "      <td>2020-02-29</td>\n",
       "      <td>2018-05-29</td>\n",
       "      <td>Volvo</td>\n",
       "      <td>XC60 T8</td>\n",
       "      <td>Nassau</td>\n",
       "      <td>11791</td>\n",
       "      <td>PHEV</td>\n",
       "      <td>Purchase</td>\n",
       "      <td>0.40</td>\n",
       "      <td>200.58</td>\n",
       "      <td>500</td>\n",
       "    </tr>\n",
       "    <tr>\n",
       "      <th>23171</th>\n",
       "      <td>2020-02-29</td>\n",
       "      <td>2017-09-25</td>\n",
       "      <td>Volvo</td>\n",
       "      <td>XC90 T8</td>\n",
       "      <td>Niagara</td>\n",
       "      <td>14094</td>\n",
       "      <td>PHEV</td>\n",
       "      <td>Purchase</td>\n",
       "      <td>0.68</td>\n",
       "      <td>231.77</td>\n",
       "      <td>500</td>\n",
       "    </tr>\n",
       "    <tr>\n",
       "      <th>23172</th>\n",
       "      <td>2020-02-29</td>\n",
       "      <td>2017-11-01</td>\n",
       "      <td>Volvo</td>\n",
       "      <td>XC90 T8</td>\n",
       "      <td>Erie</td>\n",
       "      <td>14051</td>\n",
       "      <td>PHEV</td>\n",
       "      <td>Lease</td>\n",
       "      <td>0.68</td>\n",
       "      <td>231.77</td>\n",
       "      <td>500</td>\n",
       "    </tr>\n",
       "    <tr>\n",
       "      <th>23173</th>\n",
       "      <td>2020-02-29</td>\n",
       "      <td>2017-11-22</td>\n",
       "      <td>Volvo</td>\n",
       "      <td>XC90 T8</td>\n",
       "      <td>Monroe</td>\n",
       "      <td>14580</td>\n",
       "      <td>PHEV</td>\n",
       "      <td>Lease</td>\n",
       "      <td>0.68</td>\n",
       "      <td>231.77</td>\n",
       "      <td>500</td>\n",
       "    </tr>\n",
       "  </tbody>\n",
       "</table>\n",
       "<p>23174 rows × 11 columns</p>\n",
       "</div>"
      ],
      "text/plain": [
       "      data_through_date submitted_date   make    model       county    zip  \\\n",
       "0            2020-02-29     2018-01-13   Ford    Focus  Westchester  10598   \n",
       "1            2020-02-29     2017-09-25   Ford    Focus       Oneida  13601   \n",
       "2            2020-02-29     2018-04-26   Ford    Focus      Suffolk  11776   \n",
       "3            2020-02-29     2017-08-30   Ford    Focus       Nassau  11756   \n",
       "4            2020-02-29     2018-05-29   Ford    Focus     Onondaga  13039   \n",
       "...                 ...            ...    ...      ...          ...    ...   \n",
       "23169        2020-02-29     2017-12-27  Volvo  XC60 T8     Onondaga  13039   \n",
       "23170        2020-02-29     2018-05-29  Volvo  XC60 T8       Nassau  11791   \n",
       "23171        2020-02-29     2017-09-25  Volvo  XC90 T8      Niagara  14094   \n",
       "23172        2020-02-29     2017-11-01  Volvo  XC90 T8         Erie  14051   \n",
       "23173        2020-02-29     2017-11-22  Volvo  XC90 T8       Monroe  14580   \n",
       "\n",
       "      ev_type transaction_type  annual_ghg_emissions_reductions_mt_co2e  \\\n",
       "0         BEV            Lease                                     2.76   \n",
       "1         BEV            Lease                                     2.76   \n",
       "2         BEV            Lease                                     2.76   \n",
       "3         BEV            Lease                                     2.76   \n",
       "4         BEV         Purchase                                     2.76   \n",
       "...       ...              ...                                      ...   \n",
       "23169    PHEV         Purchase                                     0.40   \n",
       "23170    PHEV         Purchase                                     0.40   \n",
       "23171    PHEV         Purchase                                     0.68   \n",
       "23172    PHEV            Lease                                     0.68   \n",
       "23173    PHEV            Lease                                     0.68   \n",
       "\n",
       "       annual_petroleum_reductions_gallons  rebate_amount_usd  \n",
       "0                                   592.89               1700  \n",
       "1                                   592.89               1700  \n",
       "2                                   592.89               1700  \n",
       "3                                   592.89               1700  \n",
       "4                                   592.89               1700  \n",
       "...                                    ...                ...  \n",
       "23169                               200.58                500  \n",
       "23170                               200.58                500  \n",
       "23171                               231.77                500  \n",
       "23172                               231.77                500  \n",
       "23173                               231.77                500  \n",
       "\n",
       "[23174 rows x 11 columns]"
      ]
     },
     "execution_count": 2,
     "metadata": {},
     "output_type": "execute_result"
    }
   ],
   "source": [
    "data = pd.read_csv(\"nyserda_electric_vehicle_drive_clean_rebate_data_beginning_2017_1.csv\")\n",
    "data"
   ]
  },
  {
   "cell_type": "code",
   "execution_count": 3,
   "id": "4162187c",
   "metadata": {},
   "outputs": [
    {
     "data": {
      "text/plain": [
       "(23174, 11)"
      ]
     },
     "execution_count": 3,
     "metadata": {},
     "output_type": "execute_result"
    }
   ],
   "source": [
    "data.shape"
   ]
  },
  {
   "cell_type": "code",
   "execution_count": 4,
   "id": "cf70053b",
   "metadata": {},
   "outputs": [
    {
     "data": {
      "text/plain": [
       "array(['data_through_date', 'submitted_date', 'make', 'model', 'county',\n",
       "       'zip', 'ev_type', 'transaction_type',\n",
       "       'annual_ghg_emissions_reductions_mt_co2e',\n",
       "       'annual_petroleum_reductions_gallons', 'rebate_amount_usd'],\n",
       "      dtype=object)"
      ]
     },
     "execution_count": 4,
     "metadata": {},
     "output_type": "execute_result"
    }
   ],
   "source": [
    "data.columns.values"
   ]
  },
  {
   "cell_type": "code",
   "execution_count": 5,
   "id": "c2910445",
   "metadata": {},
   "outputs": [
    {
     "data": {
      "text/plain": [
       "data_through_date                           object\n",
       "submitted_date                              object\n",
       "make                                        object\n",
       "model                                       object\n",
       "county                                      object\n",
       "zip                                          int64\n",
       "ev_type                                     object\n",
       "transaction_type                            object\n",
       "annual_ghg_emissions_reductions_mt_co2e    float64\n",
       "annual_petroleum_reductions_gallons        float64\n",
       "rebate_amount_usd                            int64\n",
       "dtype: object"
      ]
     },
     "execution_count": 5,
     "metadata": {},
     "output_type": "execute_result"
    }
   ],
   "source": [
    "# Checking the data types of all the columns\n",
    "data.dtypes"
   ]
  },
  {
   "cell_type": "code",
   "execution_count": 6,
   "id": "36496ad2",
   "metadata": {},
   "outputs": [
    {
     "data": {
      "text/html": [
       "<div>\n",
       "<style scoped>\n",
       "    .dataframe tbody tr th:only-of-type {\n",
       "        vertical-align: middle;\n",
       "    }\n",
       "\n",
       "    .dataframe tbody tr th {\n",
       "        vertical-align: top;\n",
       "    }\n",
       "\n",
       "    .dataframe thead th {\n",
       "        text-align: right;\n",
       "    }\n",
       "</style>\n",
       "<table border=\"1\" class=\"dataframe\">\n",
       "  <thead>\n",
       "    <tr style=\"text-align: right;\">\n",
       "      <th></th>\n",
       "      <th>zip</th>\n",
       "      <th>annual_ghg_emissions_reductions_mt_co2e</th>\n",
       "      <th>annual_petroleum_reductions_gallons</th>\n",
       "      <th>rebate_amount_usd</th>\n",
       "    </tr>\n",
       "  </thead>\n",
       "  <tbody>\n",
       "    <tr>\n",
       "      <th>count</th>\n",
       "      <td>23174.000000</td>\n",
       "      <td>23174.000000</td>\n",
       "      <td>23174.000000</td>\n",
       "      <td>23174.000000</td>\n",
       "    </tr>\n",
       "    <tr>\n",
       "      <th>mean</th>\n",
       "      <td>12206.410935</td>\n",
       "      <td>2.692061</td>\n",
       "      <td>488.940697</td>\n",
       "      <td>1408.893588</td>\n",
       "    </tr>\n",
       "    <tr>\n",
       "      <th>std</th>\n",
       "      <td>1314.792418</td>\n",
       "      <td>0.641441</td>\n",
       "      <td>108.241707</td>\n",
       "      <td>494.254611</td>\n",
       "    </tr>\n",
       "    <tr>\n",
       "      <th>min</th>\n",
       "      <td>10001.000000</td>\n",
       "      <td>-0.930000</td>\n",
       "      <td>-7.110000</td>\n",
       "      <td>500.000000</td>\n",
       "    </tr>\n",
       "    <tr>\n",
       "      <th>25%</th>\n",
       "      <td>11369.250000</td>\n",
       "      <td>2.650000</td>\n",
       "      <td>440.110000</td>\n",
       "      <td>1100.000000</td>\n",
       "    </tr>\n",
       "    <tr>\n",
       "      <th>50%</th>\n",
       "      <td>11788.000000</td>\n",
       "      <td>2.990000</td>\n",
       "      <td>503.600000</td>\n",
       "      <td>1100.000000</td>\n",
       "    </tr>\n",
       "    <tr>\n",
       "      <th>75%</th>\n",
       "      <td>13041.000000</td>\n",
       "      <td>3.030000</td>\n",
       "      <td>592.890000</td>\n",
       "      <td>2000.000000</td>\n",
       "    </tr>\n",
       "    <tr>\n",
       "      <th>max</th>\n",
       "      <td>14905.000000</td>\n",
       "      <td>3.310000</td>\n",
       "      <td>592.890000</td>\n",
       "      <td>2000.000000</td>\n",
       "    </tr>\n",
       "  </tbody>\n",
       "</table>\n",
       "</div>"
      ],
      "text/plain": [
       "                zip  annual_ghg_emissions_reductions_mt_co2e  \\\n",
       "count  23174.000000                             23174.000000   \n",
       "mean   12206.410935                                 2.692061   \n",
       "std     1314.792418                                 0.641441   \n",
       "min    10001.000000                                -0.930000   \n",
       "25%    11369.250000                                 2.650000   \n",
       "50%    11788.000000                                 2.990000   \n",
       "75%    13041.000000                                 3.030000   \n",
       "max    14905.000000                                 3.310000   \n",
       "\n",
       "       annual_petroleum_reductions_gallons  rebate_amount_usd  \n",
       "count                         23174.000000       23174.000000  \n",
       "mean                            488.940697        1408.893588  \n",
       "std                             108.241707         494.254611  \n",
       "min                              -7.110000         500.000000  \n",
       "25%                             440.110000        1100.000000  \n",
       "50%                             503.600000        1100.000000  \n",
       "75%                             592.890000        2000.000000  \n",
       "max                             592.890000        2000.000000  "
      ]
     },
     "execution_count": 6,
     "metadata": {},
     "output_type": "execute_result"
    }
   ],
   "source": [
    "# Check the descriptive statistics of numeric variables\n",
    "data.describe()"
   ]
  },
  {
   "cell_type": "code",
   "execution_count": 7,
   "id": "e4425c62",
   "metadata": {},
   "outputs": [
    {
     "data": {
      "text/plain": [
       "data_through_date                          0\n",
       "submitted_date                             0\n",
       "make                                       0\n",
       "model                                      0\n",
       "county                                     0\n",
       "zip                                        0\n",
       "ev_type                                    0\n",
       "transaction_type                           0\n",
       "annual_ghg_emissions_reductions_mt_co2e    0\n",
       "annual_petroleum_reductions_gallons        0\n",
       "rebate_amount_usd                          0\n",
       "dtype: int64"
      ]
     },
     "execution_count": 7,
     "metadata": {},
     "output_type": "execute_result"
    }
   ],
   "source": [
    "data.isnull().sum() #How many values are null"
   ]
  },
  {
   "cell_type": "code",
   "execution_count": 8,
   "id": "2793b396",
   "metadata": {},
   "outputs": [
    {
     "name": "stdout",
     "output_type": "stream",
     "text": [
      "<class 'pandas.core.frame.DataFrame'>\n",
      "RangeIndex: 23174 entries, 0 to 23173\n",
      "Data columns (total 11 columns):\n",
      " #   Column                                   Non-Null Count  Dtype  \n",
      "---  ------                                   --------------  -----  \n",
      " 0   data_through_date                        23174 non-null  object \n",
      " 1   submitted_date                           23174 non-null  object \n",
      " 2   make                                     23174 non-null  object \n",
      " 3   model                                    23174 non-null  object \n",
      " 4   county                                   23174 non-null  object \n",
      " 5   zip                                      23174 non-null  int64  \n",
      " 6   ev_type                                  23174 non-null  object \n",
      " 7   transaction_type                         23174 non-null  object \n",
      " 8   annual_ghg_emissions_reductions_mt_co2e  23174 non-null  float64\n",
      " 9   annual_petroleum_reductions_gallons      23174 non-null  float64\n",
      " 10  rebate_amount_usd                        23174 non-null  int64  \n",
      "dtypes: float64(2), int64(2), object(7)\n",
      "memory usage: 1.9+ MB\n"
     ]
    }
   ],
   "source": [
    "data.info()"
   ]
  },
  {
   "cell_type": "code",
   "execution_count": 9,
   "id": "c92c997f",
   "metadata": {},
   "outputs": [],
   "source": [
    "data2=data.copy()"
   ]
  },
  {
   "cell_type": "code",
   "execution_count": 10,
   "id": "1e74b7eb",
   "metadata": {},
   "outputs": [],
   "source": [
    "data2= data.drop(['zip', 'county'], axis=1)\n"
   ]
  },
  {
   "cell_type": "code",
   "execution_count": 11,
   "id": "ba6790a6",
   "metadata": {},
   "outputs": [
    {
     "data": {
      "text/html": [
       "<div>\n",
       "<style scoped>\n",
       "    .dataframe tbody tr th:only-of-type {\n",
       "        vertical-align: middle;\n",
       "    }\n",
       "\n",
       "    .dataframe tbody tr th {\n",
       "        vertical-align: top;\n",
       "    }\n",
       "\n",
       "    .dataframe thead th {\n",
       "        text-align: right;\n",
       "    }\n",
       "</style>\n",
       "<table border=\"1\" class=\"dataframe\">\n",
       "  <thead>\n",
       "    <tr style=\"text-align: right;\">\n",
       "      <th></th>\n",
       "      <th>data_through_date</th>\n",
       "      <th>submitted_date</th>\n",
       "      <th>make</th>\n",
       "      <th>model</th>\n",
       "      <th>ev_type</th>\n",
       "      <th>transaction_type</th>\n",
       "      <th>annual_ghg_emissions_reductions_mt_co2e</th>\n",
       "      <th>annual_petroleum_reductions_gallons</th>\n",
       "      <th>rebate_amount_usd</th>\n",
       "    </tr>\n",
       "  </thead>\n",
       "  <tbody>\n",
       "    <tr>\n",
       "      <th>0</th>\n",
       "      <td>2020-02-29</td>\n",
       "      <td>2018-01-13</td>\n",
       "      <td>Ford</td>\n",
       "      <td>Focus</td>\n",
       "      <td>BEV</td>\n",
       "      <td>Lease</td>\n",
       "      <td>2.76</td>\n",
       "      <td>592.89</td>\n",
       "      <td>1700</td>\n",
       "    </tr>\n",
       "    <tr>\n",
       "      <th>1</th>\n",
       "      <td>2020-02-29</td>\n",
       "      <td>2017-09-25</td>\n",
       "      <td>Ford</td>\n",
       "      <td>Focus</td>\n",
       "      <td>BEV</td>\n",
       "      <td>Lease</td>\n",
       "      <td>2.76</td>\n",
       "      <td>592.89</td>\n",
       "      <td>1700</td>\n",
       "    </tr>\n",
       "    <tr>\n",
       "      <th>2</th>\n",
       "      <td>2020-02-29</td>\n",
       "      <td>2018-04-26</td>\n",
       "      <td>Ford</td>\n",
       "      <td>Focus</td>\n",
       "      <td>BEV</td>\n",
       "      <td>Lease</td>\n",
       "      <td>2.76</td>\n",
       "      <td>592.89</td>\n",
       "      <td>1700</td>\n",
       "    </tr>\n",
       "    <tr>\n",
       "      <th>3</th>\n",
       "      <td>2020-02-29</td>\n",
       "      <td>2017-08-30</td>\n",
       "      <td>Ford</td>\n",
       "      <td>Focus</td>\n",
       "      <td>BEV</td>\n",
       "      <td>Lease</td>\n",
       "      <td>2.76</td>\n",
       "      <td>592.89</td>\n",
       "      <td>1700</td>\n",
       "    </tr>\n",
       "    <tr>\n",
       "      <th>4</th>\n",
       "      <td>2020-02-29</td>\n",
       "      <td>2018-05-29</td>\n",
       "      <td>Ford</td>\n",
       "      <td>Focus</td>\n",
       "      <td>BEV</td>\n",
       "      <td>Purchase</td>\n",
       "      <td>2.76</td>\n",
       "      <td>592.89</td>\n",
       "      <td>1700</td>\n",
       "    </tr>\n",
       "    <tr>\n",
       "      <th>...</th>\n",
       "      <td>...</td>\n",
       "      <td>...</td>\n",
       "      <td>...</td>\n",
       "      <td>...</td>\n",
       "      <td>...</td>\n",
       "      <td>...</td>\n",
       "      <td>...</td>\n",
       "      <td>...</td>\n",
       "      <td>...</td>\n",
       "    </tr>\n",
       "    <tr>\n",
       "      <th>23169</th>\n",
       "      <td>2020-02-29</td>\n",
       "      <td>2017-12-27</td>\n",
       "      <td>Volvo</td>\n",
       "      <td>XC60 T8</td>\n",
       "      <td>PHEV</td>\n",
       "      <td>Purchase</td>\n",
       "      <td>0.40</td>\n",
       "      <td>200.58</td>\n",
       "      <td>500</td>\n",
       "    </tr>\n",
       "    <tr>\n",
       "      <th>23170</th>\n",
       "      <td>2020-02-29</td>\n",
       "      <td>2018-05-29</td>\n",
       "      <td>Volvo</td>\n",
       "      <td>XC60 T8</td>\n",
       "      <td>PHEV</td>\n",
       "      <td>Purchase</td>\n",
       "      <td>0.40</td>\n",
       "      <td>200.58</td>\n",
       "      <td>500</td>\n",
       "    </tr>\n",
       "    <tr>\n",
       "      <th>23171</th>\n",
       "      <td>2020-02-29</td>\n",
       "      <td>2017-09-25</td>\n",
       "      <td>Volvo</td>\n",
       "      <td>XC90 T8</td>\n",
       "      <td>PHEV</td>\n",
       "      <td>Purchase</td>\n",
       "      <td>0.68</td>\n",
       "      <td>231.77</td>\n",
       "      <td>500</td>\n",
       "    </tr>\n",
       "    <tr>\n",
       "      <th>23172</th>\n",
       "      <td>2020-02-29</td>\n",
       "      <td>2017-11-01</td>\n",
       "      <td>Volvo</td>\n",
       "      <td>XC90 T8</td>\n",
       "      <td>PHEV</td>\n",
       "      <td>Lease</td>\n",
       "      <td>0.68</td>\n",
       "      <td>231.77</td>\n",
       "      <td>500</td>\n",
       "    </tr>\n",
       "    <tr>\n",
       "      <th>23173</th>\n",
       "      <td>2020-02-29</td>\n",
       "      <td>2017-11-22</td>\n",
       "      <td>Volvo</td>\n",
       "      <td>XC90 T8</td>\n",
       "      <td>PHEV</td>\n",
       "      <td>Lease</td>\n",
       "      <td>0.68</td>\n",
       "      <td>231.77</td>\n",
       "      <td>500</td>\n",
       "    </tr>\n",
       "  </tbody>\n",
       "</table>\n",
       "<p>23174 rows × 9 columns</p>\n",
       "</div>"
      ],
      "text/plain": [
       "      data_through_date submitted_date   make    model ev_type  \\\n",
       "0            2020-02-29     2018-01-13   Ford    Focus     BEV   \n",
       "1            2020-02-29     2017-09-25   Ford    Focus     BEV   \n",
       "2            2020-02-29     2018-04-26   Ford    Focus     BEV   \n",
       "3            2020-02-29     2017-08-30   Ford    Focus     BEV   \n",
       "4            2020-02-29     2018-05-29   Ford    Focus     BEV   \n",
       "...                 ...            ...    ...      ...     ...   \n",
       "23169        2020-02-29     2017-12-27  Volvo  XC60 T8    PHEV   \n",
       "23170        2020-02-29     2018-05-29  Volvo  XC60 T8    PHEV   \n",
       "23171        2020-02-29     2017-09-25  Volvo  XC90 T8    PHEV   \n",
       "23172        2020-02-29     2017-11-01  Volvo  XC90 T8    PHEV   \n",
       "23173        2020-02-29     2017-11-22  Volvo  XC90 T8    PHEV   \n",
       "\n",
       "      transaction_type  annual_ghg_emissions_reductions_mt_co2e  \\\n",
       "0                Lease                                     2.76   \n",
       "1                Lease                                     2.76   \n",
       "2                Lease                                     2.76   \n",
       "3                Lease                                     2.76   \n",
       "4             Purchase                                     2.76   \n",
       "...                ...                                      ...   \n",
       "23169         Purchase                                     0.40   \n",
       "23170         Purchase                                     0.40   \n",
       "23171         Purchase                                     0.68   \n",
       "23172            Lease                                     0.68   \n",
       "23173            Lease                                     0.68   \n",
       "\n",
       "       annual_petroleum_reductions_gallons  rebate_amount_usd  \n",
       "0                                   592.89               1700  \n",
       "1                                   592.89               1700  \n",
       "2                                   592.89               1700  \n",
       "3                                   592.89               1700  \n",
       "4                                   592.89               1700  \n",
       "...                                    ...                ...  \n",
       "23169                               200.58                500  \n",
       "23170                               200.58                500  \n",
       "23171                               231.77                500  \n",
       "23172                               231.77                500  \n",
       "23173                               231.77                500  \n",
       "\n",
       "[23174 rows x 9 columns]"
      ]
     },
     "execution_count": 11,
     "metadata": {},
     "output_type": "execute_result"
    }
   ],
   "source": [
    "data2"
   ]
  },
  {
   "cell_type": "markdown",
   "id": "3b656b6a",
   "metadata": {},
   "source": [
    "## Finding out the unique values of each attribute of the dataset"
   ]
  },
  {
   "cell_type": "code",
   "execution_count": 12,
   "id": "22588473",
   "metadata": {},
   "outputs": [
    {
     "data": {
      "text/plain": [
       "1"
      ]
     },
     "execution_count": 12,
     "metadata": {},
     "output_type": "execute_result"
    }
   ],
   "source": [
    "data2['data_through_date'].nunique()"
   ]
  },
  {
   "cell_type": "code",
   "execution_count": 13,
   "id": "b884fd85",
   "metadata": {},
   "outputs": [
    {
     "data": {
      "text/plain": [
       "array(['2020-02-29'], dtype=object)"
      ]
     },
     "execution_count": 13,
     "metadata": {},
     "output_type": "execute_result"
    }
   ],
   "source": [
    "data2['data_through_date'].unique()"
   ]
  },
  {
   "cell_type": "markdown",
   "id": "427ecfdf",
   "metadata": {},
   "source": [
    "\n",
    "We see that the information regarding the ev cars was added to the datset on 29/02/2020, concluded from the fact that all the values of data_through_date is 29/02/2020. "
   ]
  },
  {
   "cell_type": "code",
   "execution_count": 14,
   "id": "5036b75b",
   "metadata": {},
   "outputs": [
    {
     "data": {
      "text/plain": [
       "993"
      ]
     },
     "execution_count": 14,
     "metadata": {},
     "output_type": "execute_result"
    }
   ],
   "source": [
    "data2['submitted_date'].nunique()"
   ]
  },
  {
   "cell_type": "code",
   "execution_count": 15,
   "id": "87588bd0",
   "metadata": {},
   "outputs": [
    {
     "data": {
      "text/plain": [
       "array(['2018-01-13', '2017-09-25', '2018-04-26', '2017-08-30',\n",
       "       '2018-05-29', '2017-07-10', '2017-10-02', '2017-12-27',\n",
       "       '2018-03-12', '2017-07-25', '2017-10-04', '2017-12-18',\n",
       "       '2017-09-01', '2017-05-02', '2017-04-20', '2017-08-14',\n",
       "       '2017-04-24', '2017-06-27', '2017-05-08', '2017-12-30',\n",
       "       '2018-06-08', '2018-02-27', '2017-04-28', '2017-07-31',\n",
       "       '2017-06-14', '2017-09-16', '2017-10-26', '2017-07-07',\n",
       "       '2017-06-22', '2018-01-19', '2017-09-15', '2017-10-23',\n",
       "       '2017-09-06', '2017-08-24', '2017-11-24', '2017-10-25',\n",
       "       '2017-11-15', '2017-09-20', '2017-08-07', '2018-01-03',\n",
       "       '2017-10-20', '2017-05-31', '2017-05-26', '2018-01-24',\n",
       "       '2017-09-19', '2017-07-12', '2018-05-03', '2017-11-17',\n",
       "       '2018-01-25', '2017-05-16', '2017-11-16', '2017-11-20',\n",
       "       '2017-07-01', '2017-06-30', '2017-11-13', '2017-10-19',\n",
       "       '2017-04-19', '2017-05-11', '2017-12-11', '2017-05-15',\n",
       "       '2017-04-07', '2017-07-03', '2017-10-11', '2017-08-16',\n",
       "       '2018-01-22', '2017-11-27', '2017-07-06', '2017-08-04',\n",
       "       '2017-08-18', '2018-04-19', '2017-11-21', '2017-06-21',\n",
       "       '2018-01-15', '2017-11-09', '2017-09-11', '2017-08-10',\n",
       "       '2017-09-26', '2017-07-26', '2017-09-07', '2017-11-02',\n",
       "       '2017-08-02', '2017-08-15', '2017-11-22', '2017-08-12',\n",
       "       '2017-08-21', '2017-05-09', '2017-08-22', '2017-07-21',\n",
       "       '2017-09-18', '2017-05-04', '2017-07-29', '2017-12-01',\n",
       "       '2017-11-30', '2018-01-23', '2017-10-17', '2017-11-28',\n",
       "       '2017-06-12', '2017-09-09', '2017-07-24', '2017-07-08',\n",
       "       '2017-05-30', '2017-07-17', '2017-06-23', '2017-11-10',\n",
       "       '2017-10-27', '2017-12-28', '2017-06-08', '2017-06-19',\n",
       "       '2017-08-17', '2017-09-30', '2017-10-31', '2017-12-22',\n",
       "       '2017-09-29', '2017-05-27', '2017-04-27', '2017-10-09',\n",
       "       '2017-04-12', '2018-03-20', '2017-09-12', '2017-10-13',\n",
       "       '2017-07-19', '2017-12-05', '2017-07-05', '2017-05-23',\n",
       "       '2017-05-05', '2017-06-16', '2017-07-20', '2017-05-06',\n",
       "       '2018-01-29', '2017-12-08', '2017-06-15', '2017-07-18',\n",
       "       '2017-06-01', '2017-06-05', '2017-09-27', '2017-07-15',\n",
       "       '2017-10-28', '2018-01-02', '2017-07-28', '2017-12-20',\n",
       "       '2017-07-14', '2017-04-30', '2017-07-11', '2017-04-25',\n",
       "       '2017-05-18', '2017-08-31', '2017-08-29', '2017-12-16',\n",
       "       '2017-06-26', '2017-12-02', '2017-11-12', '2017-06-07',\n",
       "       '2018-02-13', '2018-06-27', '2018-07-17', '2017-08-23',\n",
       "       '2017-12-29', '2017-06-17', '2017-12-26', '2018-04-30',\n",
       "       '2017-12-04', '2018-05-30', '2017-09-22', '2017-09-14',\n",
       "       '2017-08-28', '2017-12-07', '2018-01-10', '2018-02-08',\n",
       "       '2017-11-25', '2018-03-21', '2018-10-31', '2018-07-10',\n",
       "       '2018-09-05', '2018-06-19', '2018-06-04', '2018-06-11',\n",
       "       '2018-08-27', '2018-08-15', '2018-08-14', '2018-08-28',\n",
       "       '2018-10-17', '2019-04-29', '2019-10-28', '2019-09-19',\n",
       "       '2017-05-12', '2017-03-24', '2017-04-10', '2017-05-13',\n",
       "       '2017-06-03', '2017-09-21', '2017-05-19', '2018-07-23',\n",
       "       '2017-12-21', '2017-12-13', '2017-06-20', '2018-06-13',\n",
       "       '2017-09-05', '2017-12-06', '2018-07-24', '2018-03-06',\n",
       "       '2017-11-29', '2018-07-13', '2018-01-09', '2017-11-07',\n",
       "       '2017-08-08', '2018-01-04', '2017-09-13', '2018-11-28',\n",
       "       '2018-03-13', '2018-03-22', '2018-07-19', '2018-09-04',\n",
       "       '2018-07-09', '2018-08-06', '2018-12-10', '2018-10-09',\n",
       "       '2018-09-24', '2019-10-17', '2019-09-04', '2019-05-29',\n",
       "       '2017-08-11', '2017-04-05', '2017-04-26', '2017-05-03',\n",
       "       '2017-10-03', '2018-02-26', '2017-08-25', '2019-01-08',\n",
       "       '2018-05-25', '2018-02-14', '2018-11-07', '2017-10-18',\n",
       "       '2018-05-23', '2018-01-08', '2018-01-17', '2018-05-16',\n",
       "       '2018-09-20', '2019-07-25', '2019-02-27', '2017-08-03',\n",
       "       '2017-05-01', '2017-11-08', '2017-05-10', '2017-08-01',\n",
       "       '2017-12-15', '2017-06-28', '2018-05-15', '2018-01-18',\n",
       "       '2017-10-22', '2019-04-15', '2017-10-24', '2018-01-05',\n",
       "       '2018-02-21', '2018-02-22', '2018-08-08', '2018-05-08',\n",
       "       '2018-03-30', '2019-10-08', '2019-10-03', '2019-09-26',\n",
       "       '2020-01-28', '2018-03-15', '2017-10-10', '2017-10-12',\n",
       "       '2017-12-03', '2018-10-11', '2018-01-31', '2017-12-09',\n",
       "       '2018-02-09', '2018-01-11', '2018-02-20', '2018-02-06',\n",
       "       '2018-07-04', '2018-07-03', '2018-04-12', '2018-05-02',\n",
       "       '2018-06-21', '2018-12-24', '2018-09-25', '2019-08-09',\n",
       "       '2019-07-16', '2019-03-18', '2018-09-26', '2017-04-13',\n",
       "       '2018-03-05', '2017-07-27', '2018-01-16', '2018-03-07',\n",
       "       '2018-04-05', '2017-09-28', '2017-12-14', '2017-12-12',\n",
       "       '2018-01-26', '2018-05-17', '2019-04-08', '2019-11-18',\n",
       "       '2017-05-22', '2017-03-27', '2017-04-21', '2017-06-02',\n",
       "       '2017-09-17', '2017-08-13', '2018-02-02', '2017-10-05',\n",
       "       '2018-05-07', '2018-07-06', '2018-05-24', '2018-05-10',\n",
       "       '2018-09-17', '2018-10-08', '2018-12-21', '2019-03-08',\n",
       "       '2020-01-10', '2018-09-06', '2019-01-10', '2017-08-09',\n",
       "       '2018-06-05', '2017-05-25', '2018-06-25', '2018-04-11',\n",
       "       '2018-04-10', '2018-04-16', '2018-12-26', '2018-07-30',\n",
       "       '2018-04-27', '2020-02-06', '2018-12-19', '2018-02-17',\n",
       "       '2018-02-01', '2017-11-06', '2018-03-01', '2018-05-05',\n",
       "       '2018-07-18', '2018-05-11', '2017-04-18', '2017-05-17',\n",
       "       '2018-08-20', '2017-06-06', '2017-06-13', '2018-06-02',\n",
       "       '2018-06-14', '2018-08-13', '2017-11-01', '2018-02-05',\n",
       "       '2018-02-24', '2018-06-28', '2018-05-31', '2018-09-22',\n",
       "       '2019-02-06', '2018-08-02', '2018-08-07', '2018-11-13',\n",
       "       '2018-09-10', '2018-12-20', '2019-02-16', '2019-10-04',\n",
       "       '2017-06-09', '2018-01-06', '2018-07-20', '2018-07-31',\n",
       "       '2018-07-26', '2019-06-20', '2020-02-10', '2018-01-12',\n",
       "       '2018-07-27', '2018-04-24', '2018-05-01', '2017-04-06',\n",
       "       '2017-10-16', '2018-03-14', '2018-07-14', '2018-09-14',\n",
       "       '2019-01-23', '2018-11-20', '2018-04-04', '2018-04-02',\n",
       "       '2018-03-31', '2018-10-04', '2019-03-20', '2017-09-24',\n",
       "       '2017-03-30', '2018-08-03', '2018-03-02', '2018-10-30',\n",
       "       '2017-11-03', '2018-03-19', '2018-10-29', '2019-10-07',\n",
       "       '2017-04-14', '2017-04-29', '2017-10-30', '2018-04-25',\n",
       "       '2018-12-27', '2017-06-24', '2018-03-03', '2018-11-15',\n",
       "       '2018-08-01', '2017-09-08', '2018-02-12', '2018-06-15',\n",
       "       '2017-06-29', '2017-12-19', '2017-10-06', '2018-06-20',\n",
       "       '2018-07-16', '2018-10-06', '2019-05-21', '2017-04-11',\n",
       "       '2018-06-22', '2018-02-07', '2018-03-16', '2018-04-09',\n",
       "       '2019-03-11', '2019-08-27', '2019-05-30', '2018-07-02',\n",
       "       '2018-06-30', '2018-04-13', '2018-05-14', '2019-01-16',\n",
       "       '2018-10-16', '2019-03-26', '2018-12-04', '2019-03-24',\n",
       "       '2019-04-10', '2019-06-11', '2019-03-12', '2019-05-28',\n",
       "       '2019-05-25', '2019-09-24', '2019-04-05', '2020-01-07',\n",
       "       '2019-11-25', '2019-03-28', '2019-09-30', '2019-12-17',\n",
       "       '2019-07-14', '2019-09-23', '2020-01-31', '2020-02-27',\n",
       "       '2020-01-27', '2020-02-24', '2019-05-24', '2019-01-02',\n",
       "       '2019-03-15', '2019-03-07', '2019-09-09', '2019-04-23',\n",
       "       '2019-03-30', '2019-09-06', '2019-05-10', '2019-11-27',\n",
       "       '2020-01-30', '2020-02-04', '2020-01-23', '2020-02-08',\n",
       "       '2020-02-21', '2019-01-15', '2018-12-03', '2019-10-16',\n",
       "       '2019-02-18', '2019-11-01', '2018-12-14', '2019-12-31',\n",
       "       '2019-01-14', '2019-10-25', '2019-01-18', '2019-11-26',\n",
       "       '2019-04-24', '2019-05-03', '2019-12-19', '2019-08-26',\n",
       "       '2019-11-14', '2019-08-23', '2019-11-04', '2020-01-24',\n",
       "       '2020-01-25', '2020-02-03', '2020-02-13', '2020-02-20',\n",
       "       '2018-11-27', '2018-10-18', '2019-03-29', '2019-09-17',\n",
       "       '2020-01-15', '2019-01-03', '2019-03-25', '2019-02-22',\n",
       "       '2019-01-05', '2019-06-21', '2019-10-22', '2019-10-24',\n",
       "       '2019-11-12', '2019-09-12', '2020-01-20', '2020-02-26',\n",
       "       '2020-01-22', '2018-12-07', '2019-12-11', '2018-12-31',\n",
       "       '2019-02-09', '2019-06-24', '2019-07-22', '2018-12-11',\n",
       "       '2019-04-12', '2019-10-02', '2019-11-29', '2020-02-01',\n",
       "       '2018-10-22', '2019-02-21', '2018-11-06', '2019-01-31',\n",
       "       '2019-09-11', '2019-06-17', '2019-05-04', '2019-11-15',\n",
       "       '2019-09-20', '2020-01-06', '2020-01-16', '2020-02-11',\n",
       "       '2019-03-22', '2019-01-25', '2019-05-22', '2019-03-16',\n",
       "       '2019-02-19', '2019-05-15', '2019-09-03', '2020-02-19',\n",
       "       '2020-01-21', '2020-02-18', '2018-12-13', '2019-03-27',\n",
       "       '2019-04-01', '2019-12-26', '2019-03-05', '2019-08-06',\n",
       "       '2019-10-31', '2019-09-10', '2020-02-25', '2019-01-24',\n",
       "       '2019-04-25', '2018-12-18', '2018-12-28', '2018-11-30',\n",
       "       '2018-11-25', '2019-04-13', '2019-02-04', '2019-12-12',\n",
       "       '2019-08-29', '2019-11-11', '2019-07-09', '2019-12-30',\n",
       "       '2020-01-14', '2019-10-01', '2018-10-02', '2019-11-06',\n",
       "       '2019-02-08', '2018-12-08', '2019-08-20', '2019-04-17',\n",
       "       '2020-02-05', '2020-02-17', '2018-09-19', '2019-09-25',\n",
       "       '2019-06-12', '2018-10-19', '2019-11-19', '2020-01-08',\n",
       "       '2019-10-05', '2019-09-18', '2020-02-15', '2019-09-16',\n",
       "       '2018-12-22', '2018-12-06', '2019-01-04', '2019-01-07',\n",
       "       '2019-02-14', '2019-08-05', '2020-01-03', '2019-09-28',\n",
       "       '2019-08-12', '2020-01-17', '2019-02-11', '2019-04-22',\n",
       "       '2019-02-15', '2020-02-12', '2018-11-12', '2019-04-11',\n",
       "       '2019-08-22', '2019-03-06', '2019-11-20', '2019-07-12',\n",
       "       '2019-08-14', '2019-03-01', '2019-10-29', '2019-08-24',\n",
       "       '2020-02-14', '2018-10-10', '2019-05-20', '2019-11-17',\n",
       "       '2019-11-21', '2018-09-18', '2018-10-01', '2019-01-30',\n",
       "       '2018-11-08', '2019-02-13', '2019-04-30', '2020-01-13',\n",
       "       '2018-09-27', '2018-11-01', '2019-01-22', '2019-07-18',\n",
       "       '2019-12-24', '2018-11-21', '2019-03-21', '2019-04-04',\n",
       "       '2019-06-03', '2018-10-23', '2019-05-13', '2019-10-19',\n",
       "       '2019-05-17', '2020-01-29', '2019-05-23', '2019-05-01',\n",
       "       '2019-08-13', '2020-02-07', '2019-07-03', '2018-02-28',\n",
       "       '2019-01-01', '2019-03-09', '2019-06-19', '2019-11-08',\n",
       "       '2019-08-07', '2018-04-03', '2019-04-09', '2019-08-10',\n",
       "       '2017-08-19', '2018-07-25', '2018-11-19', '2018-07-11',\n",
       "       '2018-10-03', '2018-11-05', '2018-11-29', '2019-01-29',\n",
       "       '2018-11-17', '2019-04-16', '2018-11-02', '2019-01-11',\n",
       "       '2018-10-25', '2019-04-02', '2018-12-17', '2019-07-05',\n",
       "       '2019-06-28', '2019-04-19', '2019-09-07', '2017-10-21',\n",
       "       '2017-11-14', '2017-09-04', '2018-05-22', '2018-12-29',\n",
       "       '2018-10-12', '2018-09-01', '2018-05-21', '2018-08-22',\n",
       "       '2018-11-26', '2019-03-04', '2018-12-12', '2019-12-02',\n",
       "       '2019-01-21', '2019-08-30', '2019-06-18', '2019-07-24',\n",
       "       '2017-05-20', '2018-02-23', '2018-05-18', '2018-04-28',\n",
       "       '2018-09-15', '2018-03-23', '2018-08-10', '2018-11-10',\n",
       "       '2018-10-20', '2018-10-07', '2019-01-19', '2019-02-23',\n",
       "       '2019-07-30', '2019-12-09', '2019-06-27', '2018-01-30',\n",
       "       '2018-03-09', '2018-03-28', '2018-10-27', '2018-07-12',\n",
       "       '2018-06-18', '2018-05-12', '2018-06-26', '2018-11-09',\n",
       "       '2019-01-09', '2019-07-29', '2019-05-27', '2019-08-19',\n",
       "       '2019-03-19', '2017-04-17', '2017-11-04', '2018-04-17',\n",
       "       '2018-10-15', '2018-12-05', '2019-01-28', '2018-11-14',\n",
       "       '2019-02-20', '2019-02-05', '2019-05-06', '2019-05-11',\n",
       "       '2019-02-28', '2019-11-13', '2019-03-13', '2019-07-31',\n",
       "       '2019-07-08', '2019-02-25', '2018-09-13', '2018-08-30',\n",
       "       '2019-05-02', '2018-10-24', '2019-10-30', '2019-10-23',\n",
       "       '2019-06-06', '2019-11-05', '2019-07-02', '2018-09-21',\n",
       "       '2018-03-24', '2018-02-15', '2018-08-17', '2019-02-26',\n",
       "       '2018-08-24', '2018-06-12', '2018-06-06', '2019-10-11',\n",
       "       '2019-12-10', '2019-04-03', '2019-10-21', '2019-12-16',\n",
       "       '2017-06-25', '2018-09-28', '2019-09-05', '2019-05-16',\n",
       "       '2019-05-14', '2019-06-26', '2019-08-02', '2019-11-30',\n",
       "       '2018-08-29', '2018-09-29', '2019-07-10', '2019-10-15',\n",
       "       '2018-05-19', '2019-02-07', '2018-08-23', '2018-09-07',\n",
       "       '2018-08-09', '2019-10-09', '2019-06-10', '2020-01-02',\n",
       "       '2017-04-04', '2018-02-19', '2018-06-07', '2019-02-01',\n",
       "       '2018-08-16', '2018-12-15', '2019-07-27', '2019-05-07',\n",
       "       '2019-07-17', '2019-08-08', '2018-10-26', '2018-04-23',\n",
       "       '2019-06-04', '2018-07-29', '2017-07-13', '2018-08-21',\n",
       "       '2019-03-14', '2018-08-12', '2019-09-14', '2019-07-19',\n",
       "       '2017-08-26', '2019-07-01', '2019-04-27', '2017-11-18',\n",
       "       '2018-08-26', '2017-10-07', '2019-07-23', '2018-04-06',\n",
       "       '2018-04-18', '2017-04-08', '2018-03-29', '2018-08-18',\n",
       "       '2018-12-16', '2018-11-23', '2018-12-01', '2019-01-17',\n",
       "       '2019-12-07', '2019-06-25', '2019-05-09', '2019-09-27',\n",
       "       '2019-12-28', '2018-05-26', '2018-11-03', '2019-06-13',\n",
       "       '2019-10-10', '2018-05-09', '2018-10-13', '2018-08-25',\n",
       "       '2019-02-17', '2019-12-03', '2018-05-28', '2018-12-09',\n",
       "       '2018-11-24', '2019-06-14', '2019-06-29', '2019-07-15',\n",
       "       '2019-08-17', '2018-03-08', '2019-06-15', '2019-07-26',\n",
       "       '2019-12-05', '2019-11-22', '2019-12-21', '2018-08-11',\n",
       "       '2019-12-23', '2019-08-15', '2019-04-06', '2019-05-08',\n",
       "       '2018-04-22', '2019-06-07', '2019-10-26', '2019-07-06',\n",
       "       '2019-10-14', '2019-06-08', '2019-12-20', '2019-11-07',\n",
       "       '2018-09-08', '2017-10-01', '2017-09-02', '2017-09-23',\n",
       "       '2019-06-05', '2019-10-12', '2019-11-23', '2019-04-07',\n",
       "       '2019-04-26', '2019-12-06', '2019-12-13', '2018-03-10',\n",
       "       '2019-09-01', '2018-06-09', '2018-11-16', '2017-11-11',\n",
       "       '2018-08-31', '2018-12-23', '2018-03-26', '2019-06-01',\n",
       "       '2018-02-16', '2017-04-09', '2018-06-01', '2017-05-24',\n",
       "       '2017-04-15', '2018-06-16', '2017-04-22', '2018-09-11',\n",
       "       '2017-03-31', '2018-03-11', '2018-05-04', '2018-07-05',\n",
       "       '2018-04-14', '2017-03-29', '2017-04-03', '2018-05-20',\n",
       "       '2019-03-02', '2019-01-26', '2019-08-16', '2020-02-29',\n",
       "       '2018-01-27', '2019-03-31', '2019-08-25', '2019-04-18',\n",
       "       '2020-01-18', '2020-02-09', '2020-01-09', '2019-06-30',\n",
       "       '2019-10-06', '2019-10-18', '2019-07-11', '2019-08-21',\n",
       "       '2017-05-29', '2019-12-18', '2019-02-02', '2019-02-12',\n",
       "       '2019-04-20', '2019-07-13', '2019-08-01', '2019-12-27',\n",
       "       '2019-11-16', '2020-02-22', '2019-03-03', '2019-11-02',\n",
       "       '2019-04-28', '2019-08-03', '2019-09-13', '2019-12-08',\n",
       "       '2019-10-27', '2019-08-31', '2019-09-21', '2019-05-31',\n",
       "       '2018-06-10', '2017-11-26', '2017-12-31', '2017-05-28',\n",
       "       '2018-09-12', '2018-09-03', '2018-04-01', '2018-03-27',\n",
       "       '2019-08-28', '2019-08-11', '2019-12-29', '2019-11-28',\n",
       "       '2018-12-30', '2018-06-29', '2019-09-29', '2020-01-12',\n",
       "       '2019-09-15', '2018-07-28', '2019-01-27', '2018-08-04',\n",
       "       '2018-07-21', '2019-10-13', '2018-07-07', '2018-02-10',\n",
       "       '2018-04-21', '2018-06-23', '2019-12-14', '2018-03-25',\n",
       "       '2019-12-22', '2018-04-20', '2019-11-24', '2018-09-02',\n",
       "       '2018-09-30', '2019-06-22', '2018-09-16', '2018-10-05',\n",
       "       '2019-01-12', '2018-04-29', '2018-12-02', '2018-08-19',\n",
       "       '2018-11-18', '2018-11-22', '2018-05-27', '2018-11-04',\n",
       "       '2019-09-02', '2018-02-03', '2018-07-01', '2018-04-15',\n",
       "       '2018-10-28', '2017-03-25', '2017-03-28', '2017-08-05',\n",
       "       '2017-07-16', '2018-03-17', '2019-03-23', '2017-04-01',\n",
       "       '2020-02-28', '2019-12-04', '2018-01-01', '2019-11-03',\n",
       "       '2018-04-07', '2017-11-19', '2019-02-24', '2020-01-11',\n",
       "       '2017-06-18', '2017-12-23', '2018-07-22', '2018-07-08',\n",
       "       '2019-11-09', '2018-03-18', '2020-01-01', '2020-01-26',\n",
       "       '2020-01-05', '2020-01-04', '2020-02-02', '2017-11-05',\n",
       "       '2020-02-16', '2017-08-27', '2017-05-14', '2019-05-19',\n",
       "       '2017-10-29', '2018-01-20', '2017-07-22', '2017-10-14',\n",
       "       '2018-06-03'], dtype=object)"
      ]
     },
     "execution_count": 15,
     "metadata": {},
     "output_type": "execute_result"
    }
   ],
   "source": [
    "data2['submitted_date'].unique()"
   ]
  },
  {
   "cell_type": "code",
   "execution_count": 16,
   "id": "6dfe72f1",
   "metadata": {},
   "outputs": [
    {
     "data": {
      "text/plain": [
       "20"
      ]
     },
     "execution_count": 16,
     "metadata": {},
     "output_type": "execute_result"
    }
   ],
   "source": [
    "data2['make'].nunique()"
   ]
  },
  {
   "cell_type": "markdown",
   "id": "5cd74e9e",
   "metadata": {},
   "source": [
    "\n",
    "We are working with 20 car maufactures"
   ]
  },
  {
   "cell_type": "code",
   "execution_count": 17,
   "id": "d10fcde4",
   "metadata": {},
   "outputs": [
    {
     "data": {
      "text/plain": [
       "array(['Ford', 'Chevrolet', 'Nissan', 'Chrysler', 'Mercedes-Benz', 'BMW',\n",
       "       'Tesla', 'Mitsubishi', 'Subaru', 'Honda', 'Toyota', 'Hyundai',\n",
       "       'Kia', 'Volvo', 'Jaguar', 'Audi', 'Smart', 'MINI', 'Porsche',\n",
       "       'Volkswagen'], dtype=object)"
      ]
     },
     "execution_count": 17,
     "metadata": {},
     "output_type": "execute_result"
    }
   ],
   "source": [
    "data2['make'].unique()"
   ]
  },
  {
   "cell_type": "code",
   "execution_count": 18,
   "id": "88c8c683",
   "metadata": {},
   "outputs": [
    {
     "data": {
      "text/plain": [
       "45"
      ]
     },
     "execution_count": 18,
     "metadata": {},
     "output_type": "execute_result"
    }
   ],
   "source": [
    "data2['model'].nunique()"
   ]
  },
  {
   "cell_type": "code",
   "execution_count": 19,
   "id": "7139f6b4",
   "metadata": {},
   "outputs": [
    {
     "data": {
      "text/plain": [
       "array(['Focus', 'C-MAX Energi', 'Bolt', 'Volt', 'LEAF', 'Pacifica',\n",
       "       'Fusion Energi', 'GLE 550e', 'X5', 'Model 3', 'Model S', 'Model X',\n",
       "       'C350e', 'Outlander', 'Crosstrek PHEV', 'Clarity', 'Prius Prime',\n",
       "       'Ionic Plug-In Hybrid', 'Kona Electric', 'Ionic_Electric',\n",
       "       'Sonata Plug-in', 'Optima Plug-in', 'Niro', 'Soul EV', 'S90 T8',\n",
       "       'XC60 T8', 'I-PACE', 'e-tron', 'A3 e-tron', '740e', '330e', '530e',\n",
       "       'i3', 'i3 REx', 'i8', 'GLC350e', 'B250e', 'Electric Fortwo Coupe',\n",
       "       'Electric Fortwo Cabriolet', 'Cooper', 'Taycan',\n",
       "       'Panamera 4 E-Hybrid', 'Cayenne S E-Hybrid', 'e-Golf', 'XC90 T8'],\n",
       "      dtype=object)"
      ]
     },
     "execution_count": 19,
     "metadata": {},
     "output_type": "execute_result"
    }
   ],
   "source": [
    "data2['model'].unique()"
   ]
  },
  {
   "cell_type": "code",
   "execution_count": 20,
   "id": "b24d5958",
   "metadata": {},
   "outputs": [
    {
     "data": {
      "text/plain": [
       "2"
      ]
     },
     "execution_count": 20,
     "metadata": {},
     "output_type": "execute_result"
    }
   ],
   "source": [
    "data2['ev_type'].nunique()"
   ]
  },
  {
   "cell_type": "code",
   "execution_count": 21,
   "id": "ec050b3a",
   "metadata": {},
   "outputs": [
    {
     "data": {
      "text/plain": [
       "array(['BEV', 'PHEV'], dtype=object)"
      ]
     },
     "execution_count": 21,
     "metadata": {},
     "output_type": "execute_result"
    }
   ],
   "source": [
    "data2['ev_type'].unique()\n"
   ]
  },
  {
   "cell_type": "markdown",
   "id": "a717c345",
   "metadata": {},
   "source": [
    "\n",
    "We only consider 2 types of electric vehicles , i.e BEV and PHEV"
   ]
  },
  {
   "cell_type": "code",
   "execution_count": 22,
   "id": "940eb518",
   "metadata": {},
   "outputs": [
    {
     "data": {
      "text/plain": [
       "2"
      ]
     },
     "execution_count": 22,
     "metadata": {},
     "output_type": "execute_result"
    }
   ],
   "source": [
    "data2['transaction_type'].nunique()"
   ]
  },
  {
   "cell_type": "code",
   "execution_count": 23,
   "id": "fe8809d7",
   "metadata": {},
   "outputs": [
    {
     "data": {
      "text/plain": [
       "array(['Lease', 'Purchase'], dtype=object)"
      ]
     },
     "execution_count": 23,
     "metadata": {},
     "output_type": "execute_result"
    }
   ],
   "source": [
    "data2['transaction_type'].unique()"
   ]
  },
  {
   "cell_type": "markdown",
   "id": "25b5b1f3",
   "metadata": {},
   "source": [
    "\n",
    "We only consider 2 types of transactions, i.e Lease and Purchase"
   ]
  },
  {
   "cell_type": "code",
   "execution_count": 24,
   "id": "ad2fbbcb",
   "metadata": {},
   "outputs": [
    {
     "data": {
      "text/plain": [
       "53"
      ]
     },
     "execution_count": 24,
     "metadata": {},
     "output_type": "execute_result"
    }
   ],
   "source": [
    "data2['annual_ghg_emissions_reductions_mt_co2e'].nunique()"
   ]
  },
  {
   "cell_type": "code",
   "execution_count": 25,
   "id": "437001f6",
   "metadata": {},
   "outputs": [
    {
     "data": {
      "text/plain": [
       "array([ 2.76,  1.97,  2.1 ,  3.07,  2.7 ,  2.69,  2.91,  1.69,  2.26,\n",
       "       -0.93, -0.04,  3.23,  3.15,  3.31,  2.99,  2.68,  2.52,  2.83,\n",
       "        2.6 ,  2.2 ,  2.44,  2.36,  2.28,  1.89,  2.12,  0.83,  0.65,\n",
       "        1.73,  2.65,  3.03,  2.89,  2.32,  2.55,  1.09,  0.4 ,  1.81,\n",
       "        1.65,  1.66,  0.56,  1.13,  0.84,  0.75,  2.95,  0.88,  0.7 ,\n",
       "        2.78,  0.06,  0.54,  1.41, -0.37, -0.64,  0.26,  0.68])"
      ]
     },
     "execution_count": 25,
     "metadata": {},
     "output_type": "execute_result"
    }
   ],
   "source": [
    "data2['annual_ghg_emissions_reductions_mt_co2e'].unique()"
   ]
  },
  {
   "cell_type": "markdown",
   "id": "1a21eddc",
   "metadata": {},
   "source": [
    "Here we see there are 4 outliers for the attribute annual_ghg_emissions_reductions_mt_co2e which must be removed."
   ]
  },
  {
   "cell_type": "code",
   "execution_count": 26,
   "id": "05857130",
   "metadata": {},
   "outputs": [
    {
     "data": {
      "text/plain": [
       "33"
      ]
     },
     "execution_count": 26,
     "metadata": {},
     "output_type": "execute_result"
    }
   ],
   "source": [
    "data2['annual_petroleum_reductions_gallons'].nunique()"
   ]
  },
  {
   "cell_type": "code",
   "execution_count": 27,
   "id": "5ddbe503",
   "metadata": {},
   "outputs": [
    {
     "data": {
      "text/plain": [
       "array([592.89, 336.31, 350.58, 525.03, 391.32, 375.03,  -7.11, 136.64,\n",
       "       172.89, 232.89, 301.46, 503.6 , 440.11, 451.54, 397.89, 409.14,\n",
       "       416.8 , 277.37, 200.58, 292.89, 187.33, 239.66, 212.53, 201.81,\n",
       "       577.5 , 226.22, 575.74, 100.89, 165.11, 115.61,  95.16, 184.89,\n",
       "       231.77])"
      ]
     },
     "execution_count": 27,
     "metadata": {},
     "output_type": "execute_result"
    }
   ],
   "source": [
    "data2['annual_petroleum_reductions_gallons'].unique()"
   ]
  },
  {
   "cell_type": "markdown",
   "id": "af9d9bcf",
   "metadata": {},
   "source": [
    "Here we see there are 1 outlier for the attribute annual_petroleum_reductions_gallons which must be removed."
   ]
  },
  {
   "cell_type": "code",
   "execution_count": 28,
   "id": "df0456ac",
   "metadata": {},
   "outputs": [
    {
     "data": {
      "text/plain": [
       "4"
      ]
     },
     "execution_count": 28,
     "metadata": {},
     "output_type": "execute_result"
    }
   ],
   "source": [
    "data2['rebate_amount_usd'].nunique()"
   ]
  },
  {
   "cell_type": "code",
   "execution_count": 29,
   "id": "4aaeb74c",
   "metadata": {},
   "outputs": [
    {
     "data": {
      "text/plain": [
       "array([1700,  500, 1100, 2000], dtype=int64)"
      ]
     },
     "execution_count": 29,
     "metadata": {},
     "output_type": "execute_result"
    }
   ],
   "source": [
    "data2['rebate_amount_usd'].unique()"
   ]
  },
  {
   "cell_type": "markdown",
   "id": "ed1a7058",
   "metadata": {},
   "source": [
    "## Removing Outliers"
   ]
  },
  {
   "cell_type": "markdown",
   "id": "1baf194f",
   "metadata": {},
   "source": [
    "#### 1)Removing Outliers from 'annual_ghg_emissions_reductions_mt_co2e' column"
   ]
  },
  {
   "cell_type": "code",
   "execution_count": 30,
   "id": "8cf8b1a1",
   "metadata": {},
   "outputs": [],
   "source": [
    "data2 = data2.drop(data2[data2['annual_ghg_emissions_reductions_mt_co2e'] == -0.93].index)\n",
    "data2 = data2.drop(data2[data2['annual_ghg_emissions_reductions_mt_co2e'] == -0.04].index)\n",
    "data2 = data2.drop(data2[data2['annual_ghg_emissions_reductions_mt_co2e'] == -0.37].index)\n",
    "data2 = data2.drop(data2[data2['annual_ghg_emissions_reductions_mt_co2e'] == -0.64].index)"
   ]
  },
  {
   "cell_type": "code",
   "execution_count": 31,
   "id": "4d6e55b9",
   "metadata": {},
   "outputs": [
    {
     "data": {
      "text/html": [
       "<div>\n",
       "<style scoped>\n",
       "    .dataframe tbody tr th:only-of-type {\n",
       "        vertical-align: middle;\n",
       "    }\n",
       "\n",
       "    .dataframe tbody tr th {\n",
       "        vertical-align: top;\n",
       "    }\n",
       "\n",
       "    .dataframe thead th {\n",
       "        text-align: right;\n",
       "    }\n",
       "</style>\n",
       "<table border=\"1\" class=\"dataframe\">\n",
       "  <thead>\n",
       "    <tr style=\"text-align: right;\">\n",
       "      <th></th>\n",
       "      <th>data_through_date</th>\n",
       "      <th>submitted_date</th>\n",
       "      <th>make</th>\n",
       "      <th>model</th>\n",
       "      <th>ev_type</th>\n",
       "      <th>transaction_type</th>\n",
       "      <th>annual_ghg_emissions_reductions_mt_co2e</th>\n",
       "      <th>annual_petroleum_reductions_gallons</th>\n",
       "      <th>rebate_amount_usd</th>\n",
       "    </tr>\n",
       "  </thead>\n",
       "  <tbody>\n",
       "    <tr>\n",
       "      <th>0</th>\n",
       "      <td>2020-02-29</td>\n",
       "      <td>2018-01-13</td>\n",
       "      <td>Ford</td>\n",
       "      <td>Focus</td>\n",
       "      <td>BEV</td>\n",
       "      <td>Lease</td>\n",
       "      <td>2.76</td>\n",
       "      <td>592.89</td>\n",
       "      <td>1700</td>\n",
       "    </tr>\n",
       "    <tr>\n",
       "      <th>1</th>\n",
       "      <td>2020-02-29</td>\n",
       "      <td>2017-09-25</td>\n",
       "      <td>Ford</td>\n",
       "      <td>Focus</td>\n",
       "      <td>BEV</td>\n",
       "      <td>Lease</td>\n",
       "      <td>2.76</td>\n",
       "      <td>592.89</td>\n",
       "      <td>1700</td>\n",
       "    </tr>\n",
       "    <tr>\n",
       "      <th>2</th>\n",
       "      <td>2020-02-29</td>\n",
       "      <td>2018-04-26</td>\n",
       "      <td>Ford</td>\n",
       "      <td>Focus</td>\n",
       "      <td>BEV</td>\n",
       "      <td>Lease</td>\n",
       "      <td>2.76</td>\n",
       "      <td>592.89</td>\n",
       "      <td>1700</td>\n",
       "    </tr>\n",
       "    <tr>\n",
       "      <th>3</th>\n",
       "      <td>2020-02-29</td>\n",
       "      <td>2017-08-30</td>\n",
       "      <td>Ford</td>\n",
       "      <td>Focus</td>\n",
       "      <td>BEV</td>\n",
       "      <td>Lease</td>\n",
       "      <td>2.76</td>\n",
       "      <td>592.89</td>\n",
       "      <td>1700</td>\n",
       "    </tr>\n",
       "    <tr>\n",
       "      <th>4</th>\n",
       "      <td>2020-02-29</td>\n",
       "      <td>2018-05-29</td>\n",
       "      <td>Ford</td>\n",
       "      <td>Focus</td>\n",
       "      <td>BEV</td>\n",
       "      <td>Purchase</td>\n",
       "      <td>2.76</td>\n",
       "      <td>592.89</td>\n",
       "      <td>1700</td>\n",
       "    </tr>\n",
       "    <tr>\n",
       "      <th>...</th>\n",
       "      <td>...</td>\n",
       "      <td>...</td>\n",
       "      <td>...</td>\n",
       "      <td>...</td>\n",
       "      <td>...</td>\n",
       "      <td>...</td>\n",
       "      <td>...</td>\n",
       "      <td>...</td>\n",
       "      <td>...</td>\n",
       "    </tr>\n",
       "    <tr>\n",
       "      <th>23169</th>\n",
       "      <td>2020-02-29</td>\n",
       "      <td>2017-12-27</td>\n",
       "      <td>Volvo</td>\n",
       "      <td>XC60 T8</td>\n",
       "      <td>PHEV</td>\n",
       "      <td>Purchase</td>\n",
       "      <td>0.40</td>\n",
       "      <td>200.58</td>\n",
       "      <td>500</td>\n",
       "    </tr>\n",
       "    <tr>\n",
       "      <th>23170</th>\n",
       "      <td>2020-02-29</td>\n",
       "      <td>2018-05-29</td>\n",
       "      <td>Volvo</td>\n",
       "      <td>XC60 T8</td>\n",
       "      <td>PHEV</td>\n",
       "      <td>Purchase</td>\n",
       "      <td>0.40</td>\n",
       "      <td>200.58</td>\n",
       "      <td>500</td>\n",
       "    </tr>\n",
       "    <tr>\n",
       "      <th>23171</th>\n",
       "      <td>2020-02-29</td>\n",
       "      <td>2017-09-25</td>\n",
       "      <td>Volvo</td>\n",
       "      <td>XC90 T8</td>\n",
       "      <td>PHEV</td>\n",
       "      <td>Purchase</td>\n",
       "      <td>0.68</td>\n",
       "      <td>231.77</td>\n",
       "      <td>500</td>\n",
       "    </tr>\n",
       "    <tr>\n",
       "      <th>23172</th>\n",
       "      <td>2020-02-29</td>\n",
       "      <td>2017-11-01</td>\n",
       "      <td>Volvo</td>\n",
       "      <td>XC90 T8</td>\n",
       "      <td>PHEV</td>\n",
       "      <td>Lease</td>\n",
       "      <td>0.68</td>\n",
       "      <td>231.77</td>\n",
       "      <td>500</td>\n",
       "    </tr>\n",
       "    <tr>\n",
       "      <th>23173</th>\n",
       "      <td>2020-02-29</td>\n",
       "      <td>2017-11-22</td>\n",
       "      <td>Volvo</td>\n",
       "      <td>XC90 T8</td>\n",
       "      <td>PHEV</td>\n",
       "      <td>Lease</td>\n",
       "      <td>0.68</td>\n",
       "      <td>231.77</td>\n",
       "      <td>500</td>\n",
       "    </tr>\n",
       "  </tbody>\n",
       "</table>\n",
       "<p>22888 rows × 9 columns</p>\n",
       "</div>"
      ],
      "text/plain": [
       "      data_through_date submitted_date   make    model ev_type  \\\n",
       "0            2020-02-29     2018-01-13   Ford    Focus     BEV   \n",
       "1            2020-02-29     2017-09-25   Ford    Focus     BEV   \n",
       "2            2020-02-29     2018-04-26   Ford    Focus     BEV   \n",
       "3            2020-02-29     2017-08-30   Ford    Focus     BEV   \n",
       "4            2020-02-29     2018-05-29   Ford    Focus     BEV   \n",
       "...                 ...            ...    ...      ...     ...   \n",
       "23169        2020-02-29     2017-12-27  Volvo  XC60 T8    PHEV   \n",
       "23170        2020-02-29     2018-05-29  Volvo  XC60 T8    PHEV   \n",
       "23171        2020-02-29     2017-09-25  Volvo  XC90 T8    PHEV   \n",
       "23172        2020-02-29     2017-11-01  Volvo  XC90 T8    PHEV   \n",
       "23173        2020-02-29     2017-11-22  Volvo  XC90 T8    PHEV   \n",
       "\n",
       "      transaction_type  annual_ghg_emissions_reductions_mt_co2e  \\\n",
       "0                Lease                                     2.76   \n",
       "1                Lease                                     2.76   \n",
       "2                Lease                                     2.76   \n",
       "3                Lease                                     2.76   \n",
       "4             Purchase                                     2.76   \n",
       "...                ...                                      ...   \n",
       "23169         Purchase                                     0.40   \n",
       "23170         Purchase                                     0.40   \n",
       "23171         Purchase                                     0.68   \n",
       "23172            Lease                                     0.68   \n",
       "23173            Lease                                     0.68   \n",
       "\n",
       "       annual_petroleum_reductions_gallons  rebate_amount_usd  \n",
       "0                                   592.89               1700  \n",
       "1                                   592.89               1700  \n",
       "2                                   592.89               1700  \n",
       "3                                   592.89               1700  \n",
       "4                                   592.89               1700  \n",
       "...                                    ...                ...  \n",
       "23169                               200.58                500  \n",
       "23170                               200.58                500  \n",
       "23171                               231.77                500  \n",
       "23172                               231.77                500  \n",
       "23173                               231.77                500  \n",
       "\n",
       "[22888 rows x 9 columns]"
      ]
     },
     "execution_count": 31,
     "metadata": {},
     "output_type": "execute_result"
    }
   ],
   "source": [
    "data2"
   ]
  },
  {
   "cell_type": "markdown",
   "id": "f84b3aee",
   "metadata": {},
   "source": [
    "#### 2)Removing Outliers from 'annual_petroleum_reductions_gallons' column"
   ]
  },
  {
   "cell_type": "code",
   "execution_count": 32,
   "id": "2be8cdb3",
   "metadata": {},
   "outputs": [],
   "source": [
    "data2 = data2.drop(data2[data2['annual_petroleum_reductions_gallons'] == -7.11].index)"
   ]
  },
  {
   "cell_type": "code",
   "execution_count": 33,
   "id": "21457b7f",
   "metadata": {},
   "outputs": [
    {
     "data": {
      "text/html": [
       "<div>\n",
       "<style scoped>\n",
       "    .dataframe tbody tr th:only-of-type {\n",
       "        vertical-align: middle;\n",
       "    }\n",
       "\n",
       "    .dataframe tbody tr th {\n",
       "        vertical-align: top;\n",
       "    }\n",
       "\n",
       "    .dataframe thead th {\n",
       "        text-align: right;\n",
       "    }\n",
       "</style>\n",
       "<table border=\"1\" class=\"dataframe\">\n",
       "  <thead>\n",
       "    <tr style=\"text-align: right;\">\n",
       "      <th></th>\n",
       "      <th>data_through_date</th>\n",
       "      <th>submitted_date</th>\n",
       "      <th>make</th>\n",
       "      <th>model</th>\n",
       "      <th>ev_type</th>\n",
       "      <th>transaction_type</th>\n",
       "      <th>annual_ghg_emissions_reductions_mt_co2e</th>\n",
       "      <th>annual_petroleum_reductions_gallons</th>\n",
       "      <th>rebate_amount_usd</th>\n",
       "    </tr>\n",
       "  </thead>\n",
       "  <tbody>\n",
       "    <tr>\n",
       "      <th>0</th>\n",
       "      <td>2020-02-29</td>\n",
       "      <td>2018-01-13</td>\n",
       "      <td>Ford</td>\n",
       "      <td>Focus</td>\n",
       "      <td>BEV</td>\n",
       "      <td>Lease</td>\n",
       "      <td>2.76</td>\n",
       "      <td>592.89</td>\n",
       "      <td>1700</td>\n",
       "    </tr>\n",
       "    <tr>\n",
       "      <th>1</th>\n",
       "      <td>2020-02-29</td>\n",
       "      <td>2017-09-25</td>\n",
       "      <td>Ford</td>\n",
       "      <td>Focus</td>\n",
       "      <td>BEV</td>\n",
       "      <td>Lease</td>\n",
       "      <td>2.76</td>\n",
       "      <td>592.89</td>\n",
       "      <td>1700</td>\n",
       "    </tr>\n",
       "    <tr>\n",
       "      <th>2</th>\n",
       "      <td>2020-02-29</td>\n",
       "      <td>2018-04-26</td>\n",
       "      <td>Ford</td>\n",
       "      <td>Focus</td>\n",
       "      <td>BEV</td>\n",
       "      <td>Lease</td>\n",
       "      <td>2.76</td>\n",
       "      <td>592.89</td>\n",
       "      <td>1700</td>\n",
       "    </tr>\n",
       "    <tr>\n",
       "      <th>3</th>\n",
       "      <td>2020-02-29</td>\n",
       "      <td>2017-08-30</td>\n",
       "      <td>Ford</td>\n",
       "      <td>Focus</td>\n",
       "      <td>BEV</td>\n",
       "      <td>Lease</td>\n",
       "      <td>2.76</td>\n",
       "      <td>592.89</td>\n",
       "      <td>1700</td>\n",
       "    </tr>\n",
       "    <tr>\n",
       "      <th>4</th>\n",
       "      <td>2020-02-29</td>\n",
       "      <td>2018-05-29</td>\n",
       "      <td>Ford</td>\n",
       "      <td>Focus</td>\n",
       "      <td>BEV</td>\n",
       "      <td>Purchase</td>\n",
       "      <td>2.76</td>\n",
       "      <td>592.89</td>\n",
       "      <td>1700</td>\n",
       "    </tr>\n",
       "    <tr>\n",
       "      <th>...</th>\n",
       "      <td>...</td>\n",
       "      <td>...</td>\n",
       "      <td>...</td>\n",
       "      <td>...</td>\n",
       "      <td>...</td>\n",
       "      <td>...</td>\n",
       "      <td>...</td>\n",
       "      <td>...</td>\n",
       "      <td>...</td>\n",
       "    </tr>\n",
       "    <tr>\n",
       "      <th>23169</th>\n",
       "      <td>2020-02-29</td>\n",
       "      <td>2017-12-27</td>\n",
       "      <td>Volvo</td>\n",
       "      <td>XC60 T8</td>\n",
       "      <td>PHEV</td>\n",
       "      <td>Purchase</td>\n",
       "      <td>0.40</td>\n",
       "      <td>200.58</td>\n",
       "      <td>500</td>\n",
       "    </tr>\n",
       "    <tr>\n",
       "      <th>23170</th>\n",
       "      <td>2020-02-29</td>\n",
       "      <td>2018-05-29</td>\n",
       "      <td>Volvo</td>\n",
       "      <td>XC60 T8</td>\n",
       "      <td>PHEV</td>\n",
       "      <td>Purchase</td>\n",
       "      <td>0.40</td>\n",
       "      <td>200.58</td>\n",
       "      <td>500</td>\n",
       "    </tr>\n",
       "    <tr>\n",
       "      <th>23171</th>\n",
       "      <td>2020-02-29</td>\n",
       "      <td>2017-09-25</td>\n",
       "      <td>Volvo</td>\n",
       "      <td>XC90 T8</td>\n",
       "      <td>PHEV</td>\n",
       "      <td>Purchase</td>\n",
       "      <td>0.68</td>\n",
       "      <td>231.77</td>\n",
       "      <td>500</td>\n",
       "    </tr>\n",
       "    <tr>\n",
       "      <th>23172</th>\n",
       "      <td>2020-02-29</td>\n",
       "      <td>2017-11-01</td>\n",
       "      <td>Volvo</td>\n",
       "      <td>XC90 T8</td>\n",
       "      <td>PHEV</td>\n",
       "      <td>Lease</td>\n",
       "      <td>0.68</td>\n",
       "      <td>231.77</td>\n",
       "      <td>500</td>\n",
       "    </tr>\n",
       "    <tr>\n",
       "      <th>23173</th>\n",
       "      <td>2020-02-29</td>\n",
       "      <td>2017-11-22</td>\n",
       "      <td>Volvo</td>\n",
       "      <td>XC90 T8</td>\n",
       "      <td>PHEV</td>\n",
       "      <td>Lease</td>\n",
       "      <td>0.68</td>\n",
       "      <td>231.77</td>\n",
       "      <td>500</td>\n",
       "    </tr>\n",
       "  </tbody>\n",
       "</table>\n",
       "<p>22888 rows × 9 columns</p>\n",
       "</div>"
      ],
      "text/plain": [
       "      data_through_date submitted_date   make    model ev_type  \\\n",
       "0            2020-02-29     2018-01-13   Ford    Focus     BEV   \n",
       "1            2020-02-29     2017-09-25   Ford    Focus     BEV   \n",
       "2            2020-02-29     2018-04-26   Ford    Focus     BEV   \n",
       "3            2020-02-29     2017-08-30   Ford    Focus     BEV   \n",
       "4            2020-02-29     2018-05-29   Ford    Focus     BEV   \n",
       "...                 ...            ...    ...      ...     ...   \n",
       "23169        2020-02-29     2017-12-27  Volvo  XC60 T8    PHEV   \n",
       "23170        2020-02-29     2018-05-29  Volvo  XC60 T8    PHEV   \n",
       "23171        2020-02-29     2017-09-25  Volvo  XC90 T8    PHEV   \n",
       "23172        2020-02-29     2017-11-01  Volvo  XC90 T8    PHEV   \n",
       "23173        2020-02-29     2017-11-22  Volvo  XC90 T8    PHEV   \n",
       "\n",
       "      transaction_type  annual_ghg_emissions_reductions_mt_co2e  \\\n",
       "0                Lease                                     2.76   \n",
       "1                Lease                                     2.76   \n",
       "2                Lease                                     2.76   \n",
       "3                Lease                                     2.76   \n",
       "4             Purchase                                     2.76   \n",
       "...                ...                                      ...   \n",
       "23169         Purchase                                     0.40   \n",
       "23170         Purchase                                     0.40   \n",
       "23171         Purchase                                     0.68   \n",
       "23172            Lease                                     0.68   \n",
       "23173            Lease                                     0.68   \n",
       "\n",
       "       annual_petroleum_reductions_gallons  rebate_amount_usd  \n",
       "0                                   592.89               1700  \n",
       "1                                   592.89               1700  \n",
       "2                                   592.89               1700  \n",
       "3                                   592.89               1700  \n",
       "4                                   592.89               1700  \n",
       "...                                    ...                ...  \n",
       "23169                               200.58                500  \n",
       "23170                               200.58                500  \n",
       "23171                               231.77                500  \n",
       "23172                               231.77                500  \n",
       "23173                               231.77                500  \n",
       "\n",
       "[22888 rows x 9 columns]"
      ]
     },
     "execution_count": 33,
     "metadata": {},
     "output_type": "execute_result"
    }
   ],
   "source": [
    "data2"
   ]
  },
  {
   "cell_type": "markdown",
   "id": "c4fb566b",
   "metadata": {},
   "source": [
    "## Now we count each car type on the basis of make and model"
   ]
  },
  {
   "cell_type": "code",
   "execution_count": 34,
   "id": "ab61ef69",
   "metadata": {},
   "outputs": [
    {
     "data": {
      "image/png": "[encoded data removed]",
      "text/plain": [
       "<Figure size 432x288 with 1 Axes>"
      ]
     },
     "metadata": {
      "needs_background": "light"
     },
     "output_type": "display_data"
    },
    {
     "data": {
      "text/plain": [
       "25"
      ]
     },
     "execution_count": 34,
     "metadata": {},
     "output_type": "execute_result"
    }
   ],
   "source": [
    "filtered_df = data2.loc[(data2['make'] == 'Ford') & (data2['model'] == 'Focus')]\n",
    "count = len(filtered_df)\n",
    "fig, ax = plt.subplots()\n",
    "ax.bar(['Ford Focus'], [count])\n",
    "ax.set_ylabel('Count')\n",
    "ax.set_title('Count of Ford Focus')\n",
    "\n",
    "plt.show()\n",
    "\n",
    "count"
   ]
  },
  {
   "cell_type": "code",
   "execution_count": 35,
   "id": "bcfc5d94",
   "metadata": {},
   "outputs": [
    {
     "data": {
      "image/png": "[encoded data removed]",
      "text/plain": [
       "<Figure size 432x288 with 1 Axes>"
      ]
     },
     "metadata": {
      "needs_background": "light"
     },
     "output_type": "display_data"
    },
    {
     "data": {
      "text/plain": [
       "250"
      ]
     },
     "execution_count": 35,
     "metadata": {},
     "output_type": "execute_result"
    }
   ],
   "source": [
    "filtered_df = data2.loc[(data2['make'] == 'Ford') & (data2['model'] == 'C-MAX Energi')]\n",
    "count = len(filtered_df)\n",
    "fig, ax = plt.subplots()\n",
    "ax.bar(['Ford C-MAX Energi'], [count])\n",
    "ax.set_ylabel('Count')\n",
    "ax.set_title('Count of Ford C-MAX Energi')\n",
    "\n",
    "plt.show()\n",
    "\n",
    "count"
   ]
  },
  {
   "cell_type": "code",
   "execution_count": 36,
   "id": "103ff26b",
   "metadata": {},
   "outputs": [
    {
     "data": {
      "image/png": "[encoded data removed]",
      "text/plain": [
       "<Figure size 432x288 with 1 Axes>"
      ]
     },
     "metadata": {
      "needs_background": "light"
     },
     "output_type": "display_data"
    },
    {
     "data": {
      "text/plain": [
       "1460"
      ]
     },
     "execution_count": 36,
     "metadata": {},
     "output_type": "execute_result"
    }
   ],
   "source": [
    "filtered_df = data2.loc[(data2['make'] == 'Chevrolet') & (data2['model'] == 'Bolt')]\n",
    "count = len(filtered_df)\n",
    "fig, ax = plt.subplots()\n",
    "ax.bar(['Chevrolet Bolt'], [count])\n",
    "ax.set_ylabel('Count')\n",
    "ax.set_title('Count of Chevrolet Bolt')\n",
    "\n",
    "plt.show()\n",
    "\n",
    "count"
   ]
  },
  {
   "cell_type": "code",
   "execution_count": 37,
   "id": "f259eaef",
   "metadata": {},
   "outputs": [
    {
     "data": {
      "image/png": "[encoded data removed]",
      "text/plain": [
       "<Figure size 432x288 with 1 Axes>"
      ]
     },
     "metadata": {
      "needs_background": "light"
     },
     "output_type": "display_data"
    },
    {
     "name": "stdout",
     "output_type": "stream",
     "text": [
      "759\n"
     ]
    }
   ],
   "source": [
    "filtered_df = data2.loc[(data2['make'] == 'Nissan') & (data2['model'] == 'LEAF')]\n",
    "count = len(filtered_df)\n",
    "fig, ax = plt.subplots()\n",
    "ax.bar(['Nissan LEAF'], [count])\n",
    "ax.set_ylabel('Count')\n",
    "ax.set_title('Count of Nissan LEAF')\n",
    "\n",
    "plt.show()\n",
    "\n",
    "print(count)"
   ]
  },
  {
   "cell_type": "code",
   "execution_count": 38,
   "id": "85841b0b",
   "metadata": {},
   "outputs": [
    {
     "data": {
      "image/png": "[encoded data removed]",
      "text/plain": [
       "<Figure size 432x288 with 1 Axes>"
      ]
     },
     "metadata": {
      "needs_background": "light"
     },
     "output_type": "display_data"
    },
    {
     "data": {
      "text/plain": [
       "206"
      ]
     },
     "execution_count": 38,
     "metadata": {},
     "output_type": "execute_result"
    }
   ],
   "source": [
    "filtered_df = data2.loc[(data2['make'] == 'Chrysler') & (data2['model'] == 'Pacifica')]\n",
    "count = len(filtered_df)\n",
    "fig, ax = plt.subplots()\n",
    "ax.bar(['Chrysler Pacifica'], [count])\n",
    "ax.set_ylabel('Count')\n",
    "ax.set_title('Count of Chrysler Pacifica')\n",
    "\n",
    "plt.show()\n",
    "\n",
    "count"
   ]
  },
  {
   "cell_type": "code",
   "execution_count": 39,
   "id": "6bcd0375",
   "metadata": {},
   "outputs": [
    {
     "data": {
      "image/png": "[encoded data removed]",
      "text/plain": [
       "<Figure size 432x288 with 1 Axes>"
      ]
     },
     "metadata": {
      "needs_background": "light"
     },
     "output_type": "display_data"
    },
    {
     "data": {
      "text/plain": [
       "1594"
      ]
     },
     "execution_count": 39,
     "metadata": {},
     "output_type": "execute_result"
    }
   ],
   "source": [
    "filtered_df = data2.loc[(data2['make'] == 'Ford') & (data2['model'] == 'Fusion Energi')]\n",
    "count = len(filtered_df)\n",
    "fig, ax = plt.subplots()\n",
    "ax.bar(['Ford Fusion Energi'], [count])\n",
    "ax.set_ylabel('Count')\n",
    "ax.set_title('Count of Ford Fusion Energi')\n",
    "\n",
    "plt.show()\n",
    "\n",
    "count"
   ]
  },
  {
   "cell_type": "code",
   "execution_count": 40,
   "id": "c518c40d",
   "metadata": {},
   "outputs": [
    {
     "data": {
      "image/png": "[encoded data removed]",
      "text/plain": [
       "<Figure size 432x288 with 1 Axes>"
      ]
     },
     "metadata": {
      "needs_background": "light"
     },
     "output_type": "display_data"
    },
    {
     "data": {
      "text/plain": [
       "0"
      ]
     },
     "execution_count": 40,
     "metadata": {},
     "output_type": "execute_result"
    }
   ],
   "source": [
    "filtered_df = data2.loc[(data2['make'] == 'Mercedes-Benz') & (data2['model'] == 'GLE 550e')]\n",
    "count = len(filtered_df)\n",
    "fig, ax = plt.subplots()\n",
    "ax.bar(['Mercedes-Benz GLE 550e'], [count])\n",
    "ax.set_ylabel('Count')\n",
    "ax.set_title('Count of Mercedes-Benz GLE 550e')\n",
    "\n",
    "plt.show()\n",
    "\n",
    "count"
   ]
  },
  {
   "cell_type": "code",
   "execution_count": 41,
   "id": "e178b7b3",
   "metadata": {},
   "outputs": [
    {
     "data": {
      "image/png": "[encoded data removed]",
      "text/plain": [
       "<Figure size 432x288 with 1 Axes>"
      ]
     },
     "metadata": {
      "needs_background": "light"
     },
     "output_type": "display_data"
    },
    {
     "data": {
      "text/plain": [
       "0"
      ]
     },
     "execution_count": 41,
     "metadata": {},
     "output_type": "execute_result"
    }
   ],
   "source": [
    "filtered_df = data2.loc[(data2['make'] == 'BMW') & (data2['model'] == 'X5')]\n",
    "count = len(filtered_df)\n",
    "fig, ax = plt.subplots()\n",
    "ax.bar(['BMW X5'], [count])\n",
    "ax.set_ylabel('Count')\n",
    "ax.set_title('Count of BMW X5')\n",
    "\n",
    "plt.show()\n",
    "\n",
    "count"
   ]
  },
  {
   "cell_type": "code",
   "execution_count": 42,
   "id": "e4c95ab0",
   "metadata": {},
   "outputs": [
    {
     "data": {
      "image/png": "[encoded data removed]",
      "text/plain": [
       "<Figure size 432x288 with 1 Axes>"
      ]
     },
     "metadata": {
      "needs_background": "light"
     },
     "output_type": "display_data"
    },
    {
     "data": {
      "text/plain": [
       "3823"
      ]
     },
     "execution_count": 42,
     "metadata": {},
     "output_type": "execute_result"
    }
   ],
   "source": [
    "filtered_df = data2.loc[(data2['make'] == 'Tesla') & (data2['model'] == 'Model 3')]\n",
    "count = len(filtered_df)\n",
    "fig, ax = plt.subplots()\n",
    "ax.bar(['Tesla Model 3'], [count])\n",
    "ax.set_ylabel('Count')\n",
    "ax.set_title('Count of Tesla Model 3')\n",
    "\n",
    "plt.show()\n",
    "\n",
    "count"
   ]
  },
  {
   "cell_type": "code",
   "execution_count": 43,
   "id": "24aeca4b",
   "metadata": {},
   "outputs": [
    {
     "data": {
      "image/png": "[encoded data removed]",
      "text/plain": [
       "<Figure size 432x288 with 1 Axes>"
      ]
     },
     "metadata": {
      "needs_background": "light"
     },
     "output_type": "display_data"
    },
    {
     "data": {
      "text/plain": [
       "694"
      ]
     },
     "execution_count": 43,
     "metadata": {},
     "output_type": "execute_result"
    }
   ],
   "source": [
    "filtered_df = data2.loc[(data2['make'] == 'Tesla') & (data2['model'] == 'Model X')]\n",
    "count = len(filtered_df)\n",
    "fig, ax = plt.subplots()\n",
    "ax.bar(['Tesla Model X'], [count])\n",
    "ax.set_ylabel('Count')\n",
    "ax.set_title('Count of Tesla Model X')\n",
    "\n",
    "plt.show()\n",
    "\n",
    "count"
   ]
  },
  {
   "cell_type": "code",
   "execution_count": 44,
   "id": "e16bd17b",
   "metadata": {},
   "outputs": [
    {
     "data": {
      "image/png": "[encoded data removed]",
      "text/plain": [
       "<Figure size 432x288 with 1 Axes>"
      ]
     },
     "metadata": {
      "needs_background": "light"
     },
     "output_type": "display_data"
    },
    {
     "data": {
      "text/plain": [
       "611"
      ]
     },
     "execution_count": 44,
     "metadata": {},
     "output_type": "execute_result"
    }
   ],
   "source": [
    "filtered_df = data2.loc[(data2['make'] == 'Tesla') & (data2['model'] == 'Model S')]\n",
    "count = len(filtered_df)\n",
    "fig, ax = plt.subplots()\n",
    "ax.bar(['Tesla Model S'], [count])\n",
    "ax.set_ylabel('Count')\n",
    "ax.set_title('Count of Tesla Model S')\n",
    "\n",
    "plt.show()\n",
    "\n",
    "count"
   ]
  },
  {
   "cell_type": "code",
   "execution_count": 45,
   "id": "65f4f214",
   "metadata": {},
   "outputs": [
    {
     "data": {
      "image/png": "[encoded data removed]",
      "text/plain": [
       "<Figure size 432x288 with 1 Axes>"
      ]
     },
     "metadata": {
      "needs_background": "light"
     },
     "output_type": "display_data"
    },
    {
     "data": {
      "text/plain": [
       "506"
      ]
     },
     "execution_count": 45,
     "metadata": {},
     "output_type": "execute_result"
    }
   ],
   "source": [
    "filtered_df = data2.loc[(data2['make'] == 'Mitsubishi') & (data2['model'] == 'Outlander')]\n",
    "count = len(filtered_df)\n",
    "fig, ax = plt.subplots()\n",
    "ax.bar(['Mitsubishil Outlander'], [count])\n",
    "ax.set_ylabel('Count')\n",
    "ax.set_title('Count of Outlander')\n",
    "\n",
    "plt.show()\n",
    "\n",
    "count"
   ]
  },
  {
   "cell_type": "code",
   "execution_count": 46,
   "id": "93ad02be",
   "metadata": {},
   "outputs": [
    {
     "data": {
      "image/png": "[encoded data removed]",
      "text/plain": [
       "<Figure size 432x288 with 1 Axes>"
      ]
     },
     "metadata": {
      "needs_background": "light"
     },
     "output_type": "display_data"
    },
    {
     "data": {
      "text/plain": [
       "131"
      ]
     },
     "execution_count": 46,
     "metadata": {},
     "output_type": "execute_result"
    }
   ],
   "source": [
    "filtered_df = data2.loc[(data2['make'] == 'Subaru') & (data2['model'] == 'Crosstrek PHEV')]\n",
    "count = len(filtered_df)\n",
    "fig, ax = plt.subplots()\n",
    "ax.bar(['Subaru Crosstrek PHEV'], [count])\n",
    "ax.set_ylabel('Count')\n",
    "ax.set_title('Count of Subaru Crosstrek PHEV')\n",
    "\n",
    "plt.show()\n",
    "\n",
    "count"
   ]
  },
  {
   "cell_type": "code",
   "execution_count": 47,
   "id": "05f9d1f5",
   "metadata": {},
   "outputs": [
    {
     "data": {
      "image/png": "[encoded data removed]",
      "text/plain": [
       "<Figure size 432x288 with 1 Axes>"
      ]
     },
     "metadata": {
      "needs_background": "light"
     },
     "output_type": "display_data"
    },
    {
     "data": {
      "text/plain": [
       "2087"
      ]
     },
     "execution_count": 47,
     "metadata": {},
     "output_type": "execute_result"
    }
   ],
   "source": [
    "filtered_df = data2.loc[(data2['make'] == 'Honda') & (data2['model'] == 'Clarity')]\n",
    "count = len(filtered_df)\n",
    "fig, ax = plt.subplots()\n",
    "ax.bar(['Honda Clarity'], [count])\n",
    "ax.set_ylabel('Count')\n",
    "ax.set_title('Count of Honda Clarity')\n",
    "\n",
    "plt.show()\n",
    "\n",
    "count"
   ]
  },
  {
   "cell_type": "code",
   "execution_count": 48,
   "id": "34c91532",
   "metadata": {},
   "outputs": [
    {
     "data": {
      "image/png": "[encoded data removed]",
      "text/plain": [
       "<Figure size 432x288 with 1 Axes>"
      ]
     },
     "metadata": {
      "needs_background": "light"
     },
     "output_type": "display_data"
    },
    {
     "data": {
      "text/plain": [
       "5804"
      ]
     },
     "execution_count": 48,
     "metadata": {},
     "output_type": "execute_result"
    }
   ],
   "source": [
    "filtered_df = data2.loc[(data2['make'] == 'Toyota') & (data2['model'] == 'Prius Prime')]\n",
    "count = len(filtered_df)\n",
    "fig, ax = plt.subplots()\n",
    "ax.bar(['Toyota Prius Prime'], [count])\n",
    "ax.set_ylabel('Count')\n",
    "ax.set_title('Count of Toyota Prius Prime')\n",
    "\n",
    "plt.show()\n",
    "\n",
    "count"
   ]
  },
  {
   "cell_type": "code",
   "execution_count": 49,
   "id": "3ccd5c32",
   "metadata": {},
   "outputs": [
    {
     "data": {
      "image/png": "[encoded data removed]",
      "text/plain": [
       "<Figure size 432x288 with 1 Axes>"
      ]
     },
     "metadata": {
      "needs_background": "light"
     },
     "output_type": "display_data"
    },
    {
     "data": {
      "text/plain": [
       "593"
      ]
     },
     "execution_count": 49,
     "metadata": {},
     "output_type": "execute_result"
    }
   ],
   "source": [
    "filtered_df = data2.loc[(data2['make'] == 'Hyundai') & (data2['model'] == 'Ionic Plug-In Hybrid')]\n",
    "count = len(filtered_df)\n",
    "fig, ax = plt.subplots()\n",
    "ax.bar(['Hyundai Ionic Plug-In Hybrid'], [count])\n",
    "ax.set_ylabel('Count')\n",
    "ax.set_title('Count of Hyundai Ionic Plug-In Hybrid')\n",
    "\n",
    "plt.show()\n",
    "\n",
    "count"
   ]
  },
  {
   "cell_type": "code",
   "execution_count": 50,
   "id": "a555eda4",
   "metadata": {},
   "outputs": [
    {
     "data": {
      "image/png": "[encoded data removed]",
      "text/plain": [
       "<Figure size 432x288 with 1 Axes>"
      ]
     },
     "metadata": {
      "needs_background": "light"
     },
     "output_type": "display_data"
    },
    {
     "data": {
      "text/plain": [
       "593"
      ]
     },
     "execution_count": 50,
     "metadata": {},
     "output_type": "execute_result"
    }
   ],
   "source": [
    "filtered_df = data2.loc[(data2['make'] == 'Hyundai') & (data2['model'] == 'Ionic Plug-In Hybrid')]\n",
    "count = len(filtered_df)\n",
    "fig, ax = plt.subplots()\n",
    "ax.bar(['Hyundai Ionic Plug-In Hybrid'], [count])\n",
    "ax.set_ylabel('Count')\n",
    "ax.set_title('Count of Hyundai Ionic Plug-In Hybrid')\n",
    "\n",
    "plt.show()\n",
    "\n",
    "count"
   ]
  },
  {
   "cell_type": "code",
   "execution_count": 51,
   "id": "0f8d0e4a",
   "metadata": {},
   "outputs": [
    {
     "data": {
      "image/png": "[encoded data removed]",
      "text/plain": [
       "<Figure size 432x288 with 1 Axes>"
      ]
     },
     "metadata": {
      "needs_background": "light"
     },
     "output_type": "display_data"
    },
    {
     "data": {
      "text/plain": [
       "195"
      ]
     },
     "execution_count": 51,
     "metadata": {},
     "output_type": "execute_result"
    }
   ],
   "source": [
    "filtered_df = data2.loc[(data2['make'] == 'Hyundai') & (data2['model'] == 'Kona Electric')]\n",
    "count = len(filtered_df)\n",
    "fig, ax = plt.subplots()\n",
    "ax.bar(['Hyundai Kona Electric'], [count])\n",
    "ax.set_ylabel('Count')\n",
    "ax.set_title('Count of Hyundai Kona Electric')\n",
    "\n",
    "plt.show()\n",
    "\n",
    "count"
   ]
  },
  {
   "cell_type": "code",
   "execution_count": 52,
   "id": "01d238c7",
   "metadata": {},
   "outputs": [
    {
     "data": {
      "image/png": "[encoded data removed]",
      "text/plain": [
       "<Figure size 432x288 with 1 Axes>"
      ]
     },
     "metadata": {
      "needs_background": "light"
     },
     "output_type": "display_data"
    },
    {
     "data": {
      "text/plain": [
       "312"
      ]
     },
     "execution_count": 52,
     "metadata": {},
     "output_type": "execute_result"
    }
   ],
   "source": [
    "filtered_df = data2.loc[(data2['make'] == 'Hyundai') & (data2['model'] == 'Ionic_Electric')]\n",
    "count = len(filtered_df)\n",
    "fig, ax = plt.subplots()\n",
    "ax.bar(['Hyundai Ionic_Electric'], [count])\n",
    "ax.set_ylabel('Count')\n",
    "ax.set_title('Count of Hyundai Ionic_Electric')\n",
    "\n",
    "plt.show()\n",
    "\n",
    "count"
   ]
  },
  {
   "cell_type": "code",
   "execution_count": 53,
   "id": "afbadfb3",
   "metadata": {},
   "outputs": [
    {
     "data": {
      "image/png": "[encoded data removed]",
      "text/plain": [
       "<Figure size 432x288 with 1 Axes>"
      ]
     },
     "metadata": {
      "needs_background": "light"
     },
     "output_type": "display_data"
    },
    {
     "data": {
      "text/plain": [
       "264"
      ]
     },
     "execution_count": 53,
     "metadata": {},
     "output_type": "execute_result"
    }
   ],
   "source": [
    "filtered_df = data2.loc[(data2['make'] == 'Kia') & (data2['model'] == 'Optima Plug-in')]\n",
    "count = len(filtered_df)\n",
    "fig, ax = plt.subplots()\n",
    "ax.bar(['Kia Optima Plug-in'], [count])\n",
    "ax.set_ylabel('Count')\n",
    "ax.set_title('Count of Kia Optima Plug-in')\n",
    "\n",
    "plt.show()\n",
    "\n",
    "count"
   ]
  },
  {
   "cell_type": "code",
   "execution_count": 54,
   "id": "3b2ddd82",
   "metadata": {},
   "outputs": [
    {
     "data": {
      "image/png": "[encoded data removed]",
      "text/plain": [
       "<Figure size 432x288 with 1 Axes>"
      ]
     },
     "metadata": {
      "needs_background": "light"
     },
     "output_type": "display_data"
    },
    {
     "data": {
      "text/plain": [
       "254"
      ]
     },
     "execution_count": 54,
     "metadata": {},
     "output_type": "execute_result"
    }
   ],
   "source": [
    "filtered_df = data2.loc[(data2['make'] == 'Kia') & (data2['model'] == 'Niro')]\n",
    "count = len(filtered_df)\n",
    "fig, ax = plt.subplots()\n",
    "ax.bar(['Kia Niro'], [count])\n",
    "ax.set_ylabel('Count')\n",
    "ax.set_title('Count of Kia Niro')\n",
    "\n",
    "plt.show()\n",
    "\n",
    "count"
   ]
  },
  {
   "cell_type": "code",
   "execution_count": 55,
   "id": "20b53646",
   "metadata": {},
   "outputs": [
    {
     "data": {
      "image/png": "[encoded data removed]",
      "text/plain": [
       "<Figure size 432x288 with 1 Axes>"
      ]
     },
     "metadata": {
      "needs_background": "light"
     },
     "output_type": "display_data"
    },
    {
     "data": {
      "text/plain": [
       "498"
      ]
     },
     "execution_count": 55,
     "metadata": {},
     "output_type": "execute_result"
    }
   ],
   "source": [
    "filtered_df = data2.loc[(data2['make'] == 'Kia') & (data2['model'] == 'Soul EV')]\n",
    "count = len(filtered_df)\n",
    "fig, ax = plt.subplots()\n",
    "ax.bar(['Kia Soul EV'], [count])\n",
    "ax.set_ylabel('Count')\n",
    "ax.set_title('Count of Kia Soul EV')\n",
    "\n",
    "plt.show()\n",
    "\n",
    "count"
   ]
  },
  {
   "cell_type": "code",
   "execution_count": 56,
   "id": "a1d2a10b",
   "metadata": {},
   "outputs": [
    {
     "data": {
      "image/png": "[encoded data removed]",
      "text/plain": [
       "<Figure size 432x288 with 1 Axes>"
      ]
     },
     "metadata": {
      "needs_background": "light"
     },
     "output_type": "display_data"
    },
    {
     "data": {
      "text/plain": [
       "2"
      ]
     },
     "execution_count": 56,
     "metadata": {},
     "output_type": "execute_result"
    }
   ],
   "source": [
    "filtered_df = data2.loc[(data2['make'] == 'Volvo') & (data2['model'] == 'S90 T8')]\n",
    "count = len(filtered_df)\n",
    "fig, ax = plt.subplots()\n",
    "ax.bar(['Volvo S90 T8'], [count])\n",
    "ax.set_ylabel('Count')\n",
    "ax.set_title('Count of Volvo S90 T8')\n",
    "\n",
    "plt.show()\n",
    "\n",
    "count"
   ]
  },
  {
   "cell_type": "code",
   "execution_count": 57,
   "id": "20715a66",
   "metadata": {},
   "outputs": [
    {
     "data": {
      "image/png": "[encoded data removed]",
      "text/plain": [
       "<Figure size 432x288 with 1 Axes>"
      ]
     },
     "metadata": {
      "needs_background": "light"
     },
     "output_type": "display_data"
    },
    {
     "data": {
      "text/plain": [
       "10"
      ]
     },
     "execution_count": 57,
     "metadata": {},
     "output_type": "execute_result"
    }
   ],
   "source": [
    "   filtered_df = data2.loc[(data2['make'] == 'Volvo') & (data2['model'] == 'XC60 T8')]\n",
    "count = len(filtered_df)\n",
    "fig, ax = plt.subplots()\n",
    "ax.bar(['Volvo XC60 T8'], [count])\n",
    "ax.set_ylabel('Count')\n",
    "ax.set_title('Count of Volvo XC60 T8')\n",
    "\n",
    "plt.show()\n",
    "\n",
    "count"
   ]
  },
  {
   "cell_type": "code",
   "execution_count": 58,
   "id": "d98f338f",
   "metadata": {},
   "outputs": [
    {
     "data": {
      "image/png": "[encoded data removed]",
      "text/plain": [
       "<Figure size 432x288 with 1 Axes>"
      ]
     },
     "metadata": {
      "needs_background": "light"
     },
     "output_type": "display_data"
    },
    {
     "data": {
      "text/plain": [
       "6"
      ]
     },
     "execution_count": 58,
     "metadata": {},
     "output_type": "execute_result"
    }
   ],
   "source": [
    "   filtered_df = data2.loc[(data2['make'] == 'Volvo') & (data2['model'] == 'XC90 T8')]\n",
    "count = len(filtered_df)\n",
    "fig, ax = plt.subplots()\n",
    "ax.bar(['Volvo XC90 T8'], [count])\n",
    "ax.set_ylabel('Count')\n",
    "ax.set_title('Count of Volvo XC90 T8')\n",
    "\n",
    "plt.show()\n",
    "\n",
    "count"
   ]
  },
  {
   "cell_type": "code",
   "execution_count": 59,
   "id": "3da64302",
   "metadata": {},
   "outputs": [
    {
     "data": {
      "image/png": "[encoded data removed]",
      "text/plain": [
       "<Figure size 432x288 with 1 Axes>"
      ]
     },
     "metadata": {
      "needs_background": "light"
     },
     "output_type": "display_data"
    },
    {
     "data": {
      "text/plain": [
       "35"
      ]
     },
     "execution_count": 59,
     "metadata": {},
     "output_type": "execute_result"
    }
   ],
   "source": [
    "   filtered_df = data2.loc[(data2['make'] == 'Jaguar') & (data2['model'] == 'I-PACE')]\n",
    "count = len(filtered_df)\n",
    "fig, ax = plt.subplots()\n",
    "ax.bar(['Jaguar I-PACE'], [count])\n",
    "ax.set_ylabel('Count')\n",
    "ax.set_title('Count of Jaguar I-PACE')\n",
    "\n",
    "plt.show()\n",
    "\n",
    "count"
   ]
  },
  {
   "cell_type": "code",
   "execution_count": 60,
   "id": "17af1967",
   "metadata": {},
   "outputs": [
    {
     "data": {
      "image/png": "[encoded data removed]",
      "text/plain": [
       "<Figure size 432x288 with 1 Axes>"
      ]
     },
     "metadata": {
      "needs_background": "light"
     },
     "output_type": "display_data"
    },
    {
     "data": {
      "text/plain": [
       "39"
      ]
     },
     "execution_count": 60,
     "metadata": {},
     "output_type": "execute_result"
    }
   ],
   "source": [
    "   filtered_df = data2.loc[(data2['make'] == 'Audi') & (data2['model'] == 'e-tron')]\n",
    "count = len(filtered_df)\n",
    "fig, ax = plt.subplots()\n",
    "ax.bar(['Audi e-tron'], [count])\n",
    "ax.set_ylabel('Count')\n",
    "ax.set_title('Count of Audi e-tron')\n",
    "\n",
    "plt.show()\n",
    "\n",
    "count"
   ]
  },
  {
   "cell_type": "code",
   "execution_count": 61,
   "id": "a81e7f94",
   "metadata": {},
   "outputs": [
    {
     "data": {
      "image/png": "[encoded data removed]",
      "text/plain": [
       "<Figure size 432x288 with 1 Axes>"
      ]
     },
     "metadata": {
      "needs_background": "light"
     },
     "output_type": "display_data"
    },
    {
     "data": {
      "text/plain": [
       "2"
      ]
     },
     "execution_count": 61,
     "metadata": {},
     "output_type": "execute_result"
    }
   ],
   "source": [
    "   filtered_df = data2.loc[(data2['make'] == 'Audi') & (data2['model'] == 'A3 e-tron')]\n",
    "count = len(filtered_df)\n",
    "fig, ax = plt.subplots()\n",
    "ax.bar(['Audi A3 e-tron'], [count])\n",
    "ax.set_ylabel('Count')\n",
    "ax.set_title('Count of Audi A3 e-tron')\n",
    "\n",
    "plt.show()\n",
    "\n",
    "count"
   ]
  },
  {
   "cell_type": "code",
   "execution_count": 62,
   "id": "ae605dc5",
   "metadata": {},
   "outputs": [
    {
     "data": {
      "image/png": "[encoded data removed]",
      "text/plain": [
       "<Figure size 432x288 with 1 Axes>"
      ]
     },
     "metadata": {
      "needs_background": "light"
     },
     "output_type": "display_data"
    },
    {
     "data": {
      "text/plain": [
       "34"
      ]
     },
     "execution_count": 62,
     "metadata": {},
     "output_type": "execute_result"
    }
   ],
   "source": [
    "   filtered_df = data2.loc[(data2['make'] == 'BMW') & (data2['model'] == '740e')]\n",
    "count = len(filtered_df)\n",
    "fig, ax = plt.subplots()\n",
    "ax.bar(['BMW 740e'], [count])\n",
    "ax.set_ylabel('Count')\n",
    "ax.set_title('Count of BMW 740e')\n",
    "\n",
    "plt.show()\n",
    "\n",
    "count"
   ]
  },
  {
   "cell_type": "code",
   "execution_count": 63,
   "id": "b334d2c2",
   "metadata": {},
   "outputs": [
    {
     "data": {
      "image/png": "[encoded data removed]",
      "text/plain": [
       "<Figure size 432x288 with 1 Axes>"
      ]
     },
     "metadata": {
      "needs_background": "light"
     },
     "output_type": "display_data"
    },
    {
     "data": {
      "text/plain": [
       "16"
      ]
     },
     "execution_count": 63,
     "metadata": {},
     "output_type": "execute_result"
    }
   ],
   "source": [
    "   filtered_df = data2.loc[(data2['make'] == 'BMW') & (data2['model'] == '330e')]\n",
    "count = len(filtered_df)\n",
    "fig, ax = plt.subplots()\n",
    "ax.bar(['BMW 330e'], [count])\n",
    "ax.set_ylabel('Count')\n",
    "ax.set_title('Count of BMW 330e')\n",
    "\n",
    "plt.show()\n",
    "\n",
    "count"
   ]
  },
  {
   "cell_type": "code",
   "execution_count": 64,
   "id": "a2177496",
   "metadata": {},
   "outputs": [
    {
     "data": {
      "image/png": "[encoded data removed]",
      "text/plain": [
       "<Figure size 432x288 with 1 Axes>"
      ]
     },
     "metadata": {
      "needs_background": "light"
     },
     "output_type": "display_data"
    },
    {
     "data": {
      "text/plain": [
       "494"
      ]
     },
     "execution_count": 64,
     "metadata": {},
     "output_type": "execute_result"
    }
   ],
   "source": [
    "   filtered_df = data2.loc[(data2['make'] == 'BMW') & (data2['model'] == '530e')]\n",
    "count = len(filtered_df)\n",
    "fig, ax = plt.subplots()\n",
    "ax.bar(['BMW 530e'], [count])\n",
    "ax.set_ylabel('Count')\n",
    "ax.set_title('Count of BMW 530e')\n",
    "\n",
    "plt.show()\n",
    "\n",
    "count"
   ]
  },
  {
   "cell_type": "code",
   "execution_count": 65,
   "id": "b57af8a6",
   "metadata": {},
   "outputs": [
    {
     "data": {
      "image/png": "[encoded data removed]",
      "text/plain": [
       "<Figure size 432x288 with 1 Axes>"
      ]
     },
     "metadata": {
      "needs_background": "light"
     },
     "output_type": "display_data"
    },
    {
     "data": {
      "text/plain": [
       "38"
      ]
     },
     "execution_count": 65,
     "metadata": {},
     "output_type": "execute_result"
    }
   ],
   "source": [
    "   filtered_df = data2.loc[(data2['make'] == 'BMW') & (data2['model'] == 'i3')]\n",
    "count = len(filtered_df)\n",
    "fig, ax = plt.subplots()\n",
    "ax.bar(['BMW i3'], [count])\n",
    "ax.set_ylabel('Count')\n",
    "ax.set_title('Count of BMW i3')\n",
    "\n",
    "plt.show()\n",
    "\n",
    "count"
   ]
  },
  {
   "cell_type": "code",
   "execution_count": 66,
   "id": "8855eecf",
   "metadata": {},
   "outputs": [
    {
     "data": {
      "image/png": "[encoded data removed]",
      "text/plain": [
       "<Figure size 432x288 with 1 Axes>"
      ]
     },
     "metadata": {
      "needs_background": "light"
     },
     "output_type": "display_data"
    },
    {
     "data": {
      "text/plain": [
       "217"
      ]
     },
     "execution_count": 66,
     "metadata": {},
     "output_type": "execute_result"
    }
   ],
   "source": [
    "   filtered_df = data2.loc[(data2['make'] == 'BMW') & (data2['model'] == 'i3 REx')]\n",
    "count = len(filtered_df)\n",
    "fig, ax = plt.subplots()\n",
    "ax.bar(['BMW i3 REx'], [count])\n",
    "ax.set_ylabel('Count')\n",
    "ax.set_title('Count of BMW i3 REx')\n",
    "\n",
    "plt.show()\n",
    "\n",
    "count"
   ]
  },
  {
   "cell_type": "code",
   "execution_count": 67,
   "id": "5718b7ae",
   "metadata": {},
   "outputs": [
    {
     "data": {
      "image/png": "[encoded data removed]",
      "text/plain": [
       "<Figure size 432x288 with 1 Axes>"
      ]
     },
     "metadata": {
      "needs_background": "light"
     },
     "output_type": "display_data"
    },
    {
     "data": {
      "text/plain": [
       "28"
      ]
     },
     "execution_count": 67,
     "metadata": {},
     "output_type": "execute_result"
    }
   ],
   "source": [
    "   filtered_df = data2.loc[(data2['make'] == 'BMW') & (data2['model'] == 'i8')]\n",
    "count = len(filtered_df)\n",
    "fig, ax = plt.subplots()\n",
    "ax.bar(['BMW i8'], [count])\n",
    "ax.set_ylabel('Count')\n",
    "ax.set_title('Count of BMW i8')\n",
    "\n",
    "plt.show()\n",
    "\n",
    "count"
   ]
  },
  {
   "cell_type": "code",
   "execution_count": 68,
   "id": "4ddae3f7",
   "metadata": {},
   "outputs": [
    {
     "data": {
      "image/png": "[encoded data removed]",
      "text/plain": [
       "<Figure size 432x288 with 1 Axes>"
      ]
     },
     "metadata": {
      "needs_background": "light"
     },
     "output_type": "display_data"
    },
    {
     "data": {
      "text/plain": [
       "24"
      ]
     },
     "execution_count": 68,
     "metadata": {},
     "output_type": "execute_result"
    }
   ],
   "source": [
    "filtered_df = data2.loc[(data2['make'] == 'Mercedes-Benz') & (data2['model'] == 'GLC350e')]\n",
    "count = len(filtered_df)\n",
    "fig, ax = plt.subplots()\n",
    "ax.bar(['Mercedes-Benz GLC350e'], [count])\n",
    "ax.set_ylabel('Count')\n",
    "ax.set_title('Count of Mercedes-Benz GLC350e')\n",
    "\n",
    "plt.show()\n",
    "\n",
    "count"
   ]
  },
  {
   "cell_type": "code",
   "execution_count": 69,
   "id": "7c5f9d28",
   "metadata": {},
   "outputs": [
    {
     "data": {
      "image/png": "[encoded data removed]",
      "text/plain": [
       "<Figure size 432x288 with 1 Axes>"
      ]
     },
     "metadata": {
      "needs_background": "light"
     },
     "output_type": "display_data"
    },
    {
     "data": {
      "text/plain": [
       "3"
      ]
     },
     "execution_count": 69,
     "metadata": {},
     "output_type": "execute_result"
    }
   ],
   "source": [
    "filtered_df = data2.loc[(data2['make'] == 'Mercedes-Benz') & (data2['model'] == 'B250e')]\n",
    "count = len(filtered_df)\n",
    "fig, ax = plt.subplots()\n",
    "ax.bar(['Mercedes-Benz B250e'], [count])\n",
    "ax.set_ylabel('Count')\n",
    "ax.set_title('Count of Mercedes-Benz B250e')\n",
    "\n",
    "plt.show()\n",
    "\n",
    "count"
   ]
  },
  {
   "cell_type": "code",
   "execution_count": 70,
   "id": "ec1fc97a",
   "metadata": {},
   "outputs": [
    {
     "data": {
      "image/png": "[encoded data removed]",
      "text/plain": [
       "<Figure size 432x288 with 1 Axes>"
      ]
     },
     "metadata": {
      "needs_background": "light"
     },
     "output_type": "display_data"
    },
    {
     "data": {
      "text/plain": [
       "86"
      ]
     },
     "execution_count": 70,
     "metadata": {},
     "output_type": "execute_result"
    }
   ],
   "source": [
    "filtered_df = data2.loc[(data2['make'] == 'Smart') & (data2['model'] == 'Electric Fortwo Coupe')]\n",
    "count = len(filtered_df)\n",
    "fig, ax = plt.subplots()\n",
    "ax.bar(['Smart Electric Fortwo Coupe'], [count])\n",
    "ax.set_ylabel('Count')\n",
    "ax.set_title('Count of Smart Electric Fortwo Coupe')\n",
    "\n",
    "plt.show()\n",
    "\n",
    "count"
   ]
  },
  {
   "cell_type": "code",
   "execution_count": 71,
   "id": "b568e301",
   "metadata": {},
   "outputs": [
    {
     "data": {
      "image/png": "[encoded data removed]",
      "text/plain": [
       "<Figure size 432x288 with 1 Axes>"
      ]
     },
     "metadata": {
      "needs_background": "light"
     },
     "output_type": "display_data"
    },
    {
     "data": {
      "text/plain": [
       "17"
      ]
     },
     "execution_count": 71,
     "metadata": {},
     "output_type": "execute_result"
    }
   ],
   "source": [
    "filtered_df = data2.loc[(data2['make'] == 'MINI') & (data2['model'] == 'Cooper')]\n",
    "count = len(filtered_df)\n",
    "fig, ax = plt.subplots()\n",
    "ax.bar(['MINI Cooper'], [count])\n",
    "ax.set_ylabel('Count')\n",
    "ax.set_title('Count of MINI Cooper')\n",
    "\n",
    "plt.show()\n",
    "\n",
    "count"
   ]
  },
  {
   "cell_type": "code",
   "execution_count": 72,
   "id": "a1116d58",
   "metadata": {},
   "outputs": [
    {
     "data": {
      "image/png": "[encoded data removed]",
      "text/plain": [
       "<Figure size 432x288 with 1 Axes>"
      ]
     },
     "metadata": {
      "needs_background": "light"
     },
     "output_type": "display_data"
    },
    {
     "data": {
      "text/plain": [
       "1"
      ]
     },
     "execution_count": 72,
     "metadata": {},
     "output_type": "execute_result"
    }
   ],
   "source": [
    "filtered_df = data2.loc[(data2['make'] == 'Porsche') & (data2['model'] == 'Taycan')]\n",
    "count = len(filtered_df)\n",
    "fig, ax = plt.subplots()\n",
    "ax.bar(['Porsche Taycan'], [count])\n",
    "ax.set_ylabel('Count')\n",
    "ax.set_title('Count of Porsche Taycan')\n",
    "\n",
    "plt.show()\n",
    "\n",
    "count"
   ]
  },
  {
   "cell_type": "code",
   "execution_count": 73,
   "id": "12a974ee",
   "metadata": {},
   "outputs": [
    {
     "data": {
      "image/png": "[encoded data removed]",
      "text/plain": [
       "<Figure size 432x288 with 1 Axes>"
      ]
     },
     "metadata": {
      "needs_background": "light"
     },
     "output_type": "display_data"
    },
    {
     "data": {
      "text/plain": [
       "0"
      ]
     },
     "execution_count": 73,
     "metadata": {},
     "output_type": "execute_result"
    }
   ],
   "source": [
    "filtered_df = data2.loc[(data2['make'] == 'Porsche') & (data2['model'] == 'Panamera 4 E-Hybrid')]\n",
    "count = len(filtered_df)\n",
    "fig, ax = plt.subplots()\n",
    "ax.bar(['Porsche Panamera 4 E-Hybrid'], [count])\n",
    "ax.set_ylabel('Count')\n",
    "ax.set_title('Count of Panamera 4 E-Hybrid')\n",
    "\n",
    "plt.show()\n",
    "\n",
    "count"
   ]
  },
  {
   "cell_type": "code",
   "execution_count": 74,
   "id": "0cc3ae99",
   "metadata": {},
   "outputs": [
    {
     "data": {
      "image/png": "[encoded data removed]",
      "text/plain": [
       "<Figure size 432x288 with 1 Axes>"
      ]
     },
     "metadata": {
      "needs_background": "light"
     },
     "output_type": "display_data"
    },
    {
     "data": {
      "text/plain": [
       "0"
      ]
     },
     "execution_count": 74,
     "metadata": {},
     "output_type": "execute_result"
    }
   ],
   "source": [
    "filtered_df = data2.loc[(data2['make'] == 'Porsche') & (data2['model'] == 'Cayenne S E-Hybrid')]\n",
    "count = len(filtered_df)\n",
    "fig, ax = plt.subplots()\n",
    "ax.bar(['Porsche Cayenne S E-Hybrid'], [count])\n",
    "ax.set_ylabel('Count')\n",
    "ax.set_title('Count of Cayenne S E-Hybrid')\n",
    "\n",
    "plt.show()\n",
    "\n",
    "count"
   ]
  },
  {
   "cell_type": "code",
   "execution_count": 75,
   "id": "5ab13729",
   "metadata": {},
   "outputs": [
    {
     "data": {
      "image/png": "[encoded data removed]",
      "text/plain": [
       "<Figure size 432x288 with 1 Axes>"
      ]
     },
     "metadata": {
      "needs_background": "light"
     },
     "output_type": "display_data"
    },
    {
     "data": {
      "text/plain": [
       "100"
      ]
     },
     "execution_count": 75,
     "metadata": {},
     "output_type": "execute_result"
    }
   ],
   "source": [
    "filtered_df = data2.loc[(data2['make'] == 'Volkswagen') & (data2['model'] == 'e-Golf')]\n",
    "count = len(filtered_df)\n",
    "fig, ax = plt.subplots()\n",
    "ax.bar(['Volkswagen e-Golf'], [count])\n",
    "ax.set_ylabel('Count')\n",
    "ax.set_title('Count of Volkswagen e-Golf')\n",
    "\n",
    "plt.show()\n",
    "\n",
    "count"
   ]
  },
  {
   "cell_type": "code",
   "execution_count": 76,
   "id": "2bcb16b0",
   "metadata": {},
   "outputs": [
    {
     "data": {
      "text/html": [
       "<div>\n",
       "<style scoped>\n",
       "    .dataframe tbody tr th:only-of-type {\n",
       "        vertical-align: middle;\n",
       "    }\n",
       "\n",
       "    .dataframe tbody tr th {\n",
       "        vertical-align: top;\n",
       "    }\n",
       "\n",
       "    .dataframe thead th {\n",
       "        text-align: right;\n",
       "    }\n",
       "</style>\n",
       "<table border=\"1\" class=\"dataframe\">\n",
       "  <thead>\n",
       "    <tr style=\"text-align: right;\">\n",
       "      <th></th>\n",
       "      <th>data_through_date</th>\n",
       "      <th>submitted_date</th>\n",
       "      <th>make</th>\n",
       "      <th>model</th>\n",
       "      <th>ev_type</th>\n",
       "      <th>transaction_type</th>\n",
       "      <th>annual_ghg_emissions_reductions_mt_co2e</th>\n",
       "      <th>annual_petroleum_reductions_gallons</th>\n",
       "      <th>rebate_amount_usd</th>\n",
       "    </tr>\n",
       "  </thead>\n",
       "  <tbody>\n",
       "    <tr>\n",
       "      <th>0</th>\n",
       "      <td>2020-02-29</td>\n",
       "      <td>2018-01-13</td>\n",
       "      <td>Ford</td>\n",
       "      <td>Focus</td>\n",
       "      <td>BEV</td>\n",
       "      <td>Lease</td>\n",
       "      <td>2.76</td>\n",
       "      <td>592.89</td>\n",
       "      <td>1700</td>\n",
       "    </tr>\n",
       "    <tr>\n",
       "      <th>1</th>\n",
       "      <td>2020-02-29</td>\n",
       "      <td>2017-09-25</td>\n",
       "      <td>Ford</td>\n",
       "      <td>Focus</td>\n",
       "      <td>BEV</td>\n",
       "      <td>Lease</td>\n",
       "      <td>2.76</td>\n",
       "      <td>592.89</td>\n",
       "      <td>1700</td>\n",
       "    </tr>\n",
       "    <tr>\n",
       "      <th>2</th>\n",
       "      <td>2020-02-29</td>\n",
       "      <td>2018-04-26</td>\n",
       "      <td>Ford</td>\n",
       "      <td>Focus</td>\n",
       "      <td>BEV</td>\n",
       "      <td>Lease</td>\n",
       "      <td>2.76</td>\n",
       "      <td>592.89</td>\n",
       "      <td>1700</td>\n",
       "    </tr>\n",
       "    <tr>\n",
       "      <th>3</th>\n",
       "      <td>2020-02-29</td>\n",
       "      <td>2017-08-30</td>\n",
       "      <td>Ford</td>\n",
       "      <td>Focus</td>\n",
       "      <td>BEV</td>\n",
       "      <td>Lease</td>\n",
       "      <td>2.76</td>\n",
       "      <td>592.89</td>\n",
       "      <td>1700</td>\n",
       "    </tr>\n",
       "    <tr>\n",
       "      <th>4</th>\n",
       "      <td>2020-02-29</td>\n",
       "      <td>2018-05-29</td>\n",
       "      <td>Ford</td>\n",
       "      <td>Focus</td>\n",
       "      <td>BEV</td>\n",
       "      <td>Purchase</td>\n",
       "      <td>2.76</td>\n",
       "      <td>592.89</td>\n",
       "      <td>1700</td>\n",
       "    </tr>\n",
       "    <tr>\n",
       "      <th>...</th>\n",
       "      <td>...</td>\n",
       "      <td>...</td>\n",
       "      <td>...</td>\n",
       "      <td>...</td>\n",
       "      <td>...</td>\n",
       "      <td>...</td>\n",
       "      <td>...</td>\n",
       "      <td>...</td>\n",
       "      <td>...</td>\n",
       "    </tr>\n",
       "    <tr>\n",
       "      <th>23169</th>\n",
       "      <td>2020-02-29</td>\n",
       "      <td>2017-12-27</td>\n",
       "      <td>Volvo</td>\n",
       "      <td>XC60 T8</td>\n",
       "      <td>PHEV</td>\n",
       "      <td>Purchase</td>\n",
       "      <td>0.40</td>\n",
       "      <td>200.58</td>\n",
       "      <td>500</td>\n",
       "    </tr>\n",
       "    <tr>\n",
       "      <th>23170</th>\n",
       "      <td>2020-02-29</td>\n",
       "      <td>2018-05-29</td>\n",
       "      <td>Volvo</td>\n",
       "      <td>XC60 T8</td>\n",
       "      <td>PHEV</td>\n",
       "      <td>Purchase</td>\n",
       "      <td>0.40</td>\n",
       "      <td>200.58</td>\n",
       "      <td>500</td>\n",
       "    </tr>\n",
       "    <tr>\n",
       "      <th>23171</th>\n",
       "      <td>2020-02-29</td>\n",
       "      <td>2017-09-25</td>\n",
       "      <td>Volvo</td>\n",
       "      <td>XC90 T8</td>\n",
       "      <td>PHEV</td>\n",
       "      <td>Purchase</td>\n",
       "      <td>0.68</td>\n",
       "      <td>231.77</td>\n",
       "      <td>500</td>\n",
       "    </tr>\n",
       "    <tr>\n",
       "      <th>23172</th>\n",
       "      <td>2020-02-29</td>\n",
       "      <td>2017-11-01</td>\n",
       "      <td>Volvo</td>\n",
       "      <td>XC90 T8</td>\n",
       "      <td>PHEV</td>\n",
       "      <td>Lease</td>\n",
       "      <td>0.68</td>\n",
       "      <td>231.77</td>\n",
       "      <td>500</td>\n",
       "    </tr>\n",
       "    <tr>\n",
       "      <th>23173</th>\n",
       "      <td>2020-02-29</td>\n",
       "      <td>2017-11-22</td>\n",
       "      <td>Volvo</td>\n",
       "      <td>XC90 T8</td>\n",
       "      <td>PHEV</td>\n",
       "      <td>Lease</td>\n",
       "      <td>0.68</td>\n",
       "      <td>231.77</td>\n",
       "      <td>500</td>\n",
       "    </tr>\n",
       "  </tbody>\n",
       "</table>\n",
       "<p>22888 rows × 9 columns</p>\n",
       "</div>"
      ],
      "text/plain": [
       "      data_through_date submitted_date   make    model ev_type  \\\n",
       "0            2020-02-29     2018-01-13   Ford    Focus     BEV   \n",
       "1            2020-02-29     2017-09-25   Ford    Focus     BEV   \n",
       "2            2020-02-29     2018-04-26   Ford    Focus     BEV   \n",
       "3            2020-02-29     2017-08-30   Ford    Focus     BEV   \n",
       "4            2020-02-29     2018-05-29   Ford    Focus     BEV   \n",
       "...                 ...            ...    ...      ...     ...   \n",
       "23169        2020-02-29     2017-12-27  Volvo  XC60 T8    PHEV   \n",
       "23170        2020-02-29     2018-05-29  Volvo  XC60 T8    PHEV   \n",
       "23171        2020-02-29     2017-09-25  Volvo  XC90 T8    PHEV   \n",
       "23172        2020-02-29     2017-11-01  Volvo  XC90 T8    PHEV   \n",
       "23173        2020-02-29     2017-11-22  Volvo  XC90 T8    PHEV   \n",
       "\n",
       "      transaction_type  annual_ghg_emissions_reductions_mt_co2e  \\\n",
       "0                Lease                                     2.76   \n",
       "1                Lease                                     2.76   \n",
       "2                Lease                                     2.76   \n",
       "3                Lease                                     2.76   \n",
       "4             Purchase                                     2.76   \n",
       "...                ...                                      ...   \n",
       "23169         Purchase                                     0.40   \n",
       "23170         Purchase                                     0.40   \n",
       "23171         Purchase                                     0.68   \n",
       "23172            Lease                                     0.68   \n",
       "23173            Lease                                     0.68   \n",
       "\n",
       "       annual_petroleum_reductions_gallons  rebate_amount_usd  \n",
       "0                                   592.89               1700  \n",
       "1                                   592.89               1700  \n",
       "2                                   592.89               1700  \n",
       "3                                   592.89               1700  \n",
       "4                                   592.89               1700  \n",
       "...                                    ...                ...  \n",
       "23169                               200.58                500  \n",
       "23170                               200.58                500  \n",
       "23171                               231.77                500  \n",
       "23172                               231.77                500  \n",
       "23173                               231.77                500  \n",
       "\n",
       "[22888 rows x 9 columns]"
      ]
     },
     "execution_count": 76,
     "metadata": {},
     "output_type": "execute_result"
    }
   ],
   "source": [
    "data2"
   ]
  },
  {
   "cell_type": "markdown",
   "id": "2feeee38",
   "metadata": {},
   "source": [
    "## Groups that can be made"
   ]
  },
  {
   "cell_type": "code",
   "execution_count": 77,
   "id": "cb8e1b2e",
   "metadata": {},
   "outputs": [
    {
     "data": {
      "text/plain": [
       "<pandas.core.groupby.generic.DataFrameGroupBy object at 0x000002C5CD4D3F40>"
      ]
     },
     "execution_count": 77,
     "metadata": {},
     "output_type": "execute_result"
    }
   ],
   "source": [
    "g = data2.groupby('make')\n",
    "g"
   ]
  },
  {
   "cell_type": "code",
   "execution_count": 78,
   "id": "01dd5c4f",
   "metadata": {},
   "outputs": [
    {
     "data": {
      "text/html": [
       "<div>\n",
       "<style scoped>\n",
       "    .dataframe tbody tr th:only-of-type {\n",
       "        vertical-align: middle;\n",
       "    }\n",
       "\n",
       "    .dataframe tbody tr th {\n",
       "        vertical-align: top;\n",
       "    }\n",
       "\n",
       "    .dataframe thead tr th {\n",
       "        text-align: left;\n",
       "    }\n",
       "\n",
       "    .dataframe thead tr:last-of-type th {\n",
       "        text-align: right;\n",
       "    }\n",
       "</style>\n",
       "<table border=\"1\" class=\"dataframe\">\n",
       "  <thead>\n",
       "    <tr>\n",
       "      <th></th>\n",
       "      <th colspan=\"8\" halign=\"left\">annual_ghg_emissions_reductions_mt_co2e</th>\n",
       "      <th colspan=\"5\" halign=\"left\">annual_petroleum_reductions_gallons</th>\n",
       "      <th colspan=\"8\" halign=\"left\">rebate_amount_usd</th>\n",
       "    </tr>\n",
       "    <tr>\n",
       "      <th></th>\n",
       "      <th>count</th>\n",
       "      <th>mean</th>\n",
       "      <th>std</th>\n",
       "      <th>min</th>\n",
       "      <th>25%</th>\n",
       "      <th>50%</th>\n",
       "      <th>75%</th>\n",
       "      <th>max</th>\n",
       "      <th>count</th>\n",
       "      <th>mean</th>\n",
       "      <th>...</th>\n",
       "      <th>75%</th>\n",
       "      <th>max</th>\n",
       "      <th>count</th>\n",
       "      <th>mean</th>\n",
       "      <th>std</th>\n",
       "      <th>min</th>\n",
       "      <th>25%</th>\n",
       "      <th>50%</th>\n",
       "      <th>75%</th>\n",
       "      <th>max</th>\n",
       "    </tr>\n",
       "    <tr>\n",
       "      <th>make</th>\n",
       "      <th></th>\n",
       "      <th></th>\n",
       "      <th></th>\n",
       "      <th></th>\n",
       "      <th></th>\n",
       "      <th></th>\n",
       "      <th></th>\n",
       "      <th></th>\n",
       "      <th></th>\n",
       "      <th></th>\n",
       "      <th></th>\n",
       "      <th></th>\n",
       "      <th></th>\n",
       "      <th></th>\n",
       "      <th></th>\n",
       "      <th></th>\n",
       "      <th></th>\n",
       "      <th></th>\n",
       "      <th></th>\n",
       "      <th></th>\n",
       "      <th></th>\n",
       "    </tr>\n",
       "  </thead>\n",
       "  <tbody>\n",
       "    <tr>\n",
       "      <th>Audi</th>\n",
       "      <td>41.0</td>\n",
       "      <td>1.650488</td>\n",
       "      <td>2.180848e-03</td>\n",
       "      <td>1.65</td>\n",
       "      <td>1.65</td>\n",
       "      <td>1.65</td>\n",
       "      <td>1.65</td>\n",
       "      <td>1.66</td>\n",
       "      <td>41.0</td>\n",
       "      <td>578.255854</td>\n",
       "      <td>...</td>\n",
       "      <td>592.8900</td>\n",
       "      <td>592.89</td>\n",
       "      <td>41.0</td>\n",
       "      <td>500.000000</td>\n",
       "      <td>0.000000</td>\n",
       "      <td>500.0</td>\n",
       "      <td>500.0</td>\n",
       "      <td>500.0</td>\n",
       "      <td>500.0</td>\n",
       "      <td>500.0</td>\n",
       "    </tr>\n",
       "    <tr>\n",
       "      <th>BMW</th>\n",
       "      <td>827.0</td>\n",
       "      <td>1.411814</td>\n",
       "      <td>9.968029e-01</td>\n",
       "      <td>0.56</td>\n",
       "      <td>0.75</td>\n",
       "      <td>0.75</td>\n",
       "      <td>2.70</td>\n",
       "      <td>3.15</td>\n",
       "      <td>827.0</td>\n",
       "      <td>318.762503</td>\n",
       "      <td>...</td>\n",
       "      <td>575.7400</td>\n",
       "      <td>592.89</td>\n",
       "      <td>827.0</td>\n",
       "      <td>894.316808</td>\n",
       "      <td>595.466416</td>\n",
       "      <td>500.0</td>\n",
       "      <td>500.0</td>\n",
       "      <td>500.0</td>\n",
       "      <td>1700.0</td>\n",
       "      <td>2000.0</td>\n",
       "    </tr>\n",
       "    <tr>\n",
       "      <th>Chevrolet</th>\n",
       "      <td>3105.0</td>\n",
       "      <td>2.873939</td>\n",
       "      <td>1.847385e-01</td>\n",
       "      <td>2.69</td>\n",
       "      <td>2.70</td>\n",
       "      <td>2.70</td>\n",
       "      <td>3.07</td>\n",
       "      <td>3.07</td>\n",
       "      <td>3105.0</td>\n",
       "      <td>556.938406</td>\n",
       "      <td>...</td>\n",
       "      <td>592.8900</td>\n",
       "      <td>592.89</td>\n",
       "      <td>3105.0</td>\n",
       "      <td>1838.743961</td>\n",
       "      <td>156.422947</td>\n",
       "      <td>1100.0</td>\n",
       "      <td>1700.0</td>\n",
       "      <td>1700.0</td>\n",
       "      <td>2000.0</td>\n",
       "      <td>2000.0</td>\n",
       "    </tr>\n",
       "    <tr>\n",
       "      <th>Chrysler</th>\n",
       "      <td>206.0</td>\n",
       "      <td>1.690000</td>\n",
       "      <td>0.000000e+00</td>\n",
       "      <td>1.69</td>\n",
       "      <td>1.69</td>\n",
       "      <td>1.69</td>\n",
       "      <td>1.69</td>\n",
       "      <td>1.69</td>\n",
       "      <td>206.0</td>\n",
       "      <td>391.320000</td>\n",
       "      <td>...</td>\n",
       "      <td>391.3200</td>\n",
       "      <td>391.32</td>\n",
       "      <td>206.0</td>\n",
       "      <td>1100.000000</td>\n",
       "      <td>0.000000</td>\n",
       "      <td>1100.0</td>\n",
       "      <td>1100.0</td>\n",
       "      <td>1100.0</td>\n",
       "      <td>1100.0</td>\n",
       "      <td>1100.0</td>\n",
       "    </tr>\n",
       "    <tr>\n",
       "      <th>Ford</th>\n",
       "      <td>1869.0</td>\n",
       "      <td>2.244767</td>\n",
       "      <td>8.199867e-02</td>\n",
       "      <td>1.97</td>\n",
       "      <td>2.26</td>\n",
       "      <td>2.26</td>\n",
       "      <td>2.26</td>\n",
       "      <td>2.76</td>\n",
       "      <td>1869.0</td>\n",
       "      <td>374.609320</td>\n",
       "      <td>...</td>\n",
       "      <td>375.0300</td>\n",
       "      <td>592.89</td>\n",
       "      <td>1869.0</td>\n",
       "      <td>1106.420546</td>\n",
       "      <td>75.765026</td>\n",
       "      <td>500.0</td>\n",
       "      <td>1100.0</td>\n",
       "      <td>1100.0</td>\n",
       "      <td>1100.0</td>\n",
       "      <td>1700.0</td>\n",
       "    </tr>\n",
       "    <tr>\n",
       "      <th>Honda</th>\n",
       "      <td>2087.0</td>\n",
       "      <td>2.650000</td>\n",
       "      <td>4.441956e-16</td>\n",
       "      <td>2.65</td>\n",
       "      <td>2.65</td>\n",
       "      <td>2.65</td>\n",
       "      <td>2.65</td>\n",
       "      <td>2.65</td>\n",
       "      <td>2087.0</td>\n",
       "      <td>503.600000</td>\n",
       "      <td>...</td>\n",
       "      <td>503.6000</td>\n",
       "      <td>503.60</td>\n",
       "      <td>2087.0</td>\n",
       "      <td>1700.000000</td>\n",
       "      <td>0.000000</td>\n",
       "      <td>1700.0</td>\n",
       "      <td>1700.0</td>\n",
       "      <td>1700.0</td>\n",
       "      <td>1700.0</td>\n",
       "      <td>1700.0</td>\n",
       "    </tr>\n",
       "    <tr>\n",
       "      <th>Hyundai</th>\n",
       "      <td>1115.0</td>\n",
       "      <td>3.030529</td>\n",
       "      <td>2.016289e-01</td>\n",
       "      <td>2.26</td>\n",
       "      <td>2.89</td>\n",
       "      <td>2.89</td>\n",
       "      <td>3.31</td>\n",
       "      <td>3.31</td>\n",
       "      <td>1115.0</td>\n",
       "      <td>515.091300</td>\n",
       "      <td>...</td>\n",
       "      <td>592.8900</td>\n",
       "      <td>592.89</td>\n",
       "      <td>1115.0</td>\n",
       "      <td>1509.237668</td>\n",
       "      <td>448.351110</td>\n",
       "      <td>1100.0</td>\n",
       "      <td>1100.0</td>\n",
       "      <td>1100.0</td>\n",
       "      <td>2000.0</td>\n",
       "      <td>2000.0</td>\n",
       "    </tr>\n",
       "    <tr>\n",
       "      <th>Jaguar</th>\n",
       "      <td>35.0</td>\n",
       "      <td>1.810000</td>\n",
       "      <td>2.252863e-16</td>\n",
       "      <td>1.81</td>\n",
       "      <td>1.81</td>\n",
       "      <td>1.81</td>\n",
       "      <td>1.81</td>\n",
       "      <td>1.81</td>\n",
       "      <td>35.0</td>\n",
       "      <td>592.890000</td>\n",
       "      <td>...</td>\n",
       "      <td>592.8900</td>\n",
       "      <td>592.89</td>\n",
       "      <td>35.0</td>\n",
       "      <td>500.000000</td>\n",
       "      <td>0.000000</td>\n",
       "      <td>500.0</td>\n",
       "      <td>500.0</td>\n",
       "      <td>500.0</td>\n",
       "      <td>500.0</td>\n",
       "      <td>500.0</td>\n",
       "    </tr>\n",
       "    <tr>\n",
       "      <th>Kia</th>\n",
       "      <td>1016.0</td>\n",
       "      <td>2.615138</td>\n",
       "      <td>1.976507e-01</td>\n",
       "      <td>2.32</td>\n",
       "      <td>2.32</td>\n",
       "      <td>2.76</td>\n",
       "      <td>2.76</td>\n",
       "      <td>2.91</td>\n",
       "      <td>1016.0</td>\n",
       "      <td>511.867087</td>\n",
       "      <td>...</td>\n",
       "      <td>592.8900</td>\n",
       "      <td>592.89</td>\n",
       "      <td>1016.0</td>\n",
       "      <td>1449.015748</td>\n",
       "      <td>322.763644</td>\n",
       "      <td>1100.0</td>\n",
       "      <td>1100.0</td>\n",
       "      <td>1700.0</td>\n",
       "      <td>1700.0</td>\n",
       "      <td>2000.0</td>\n",
       "    </tr>\n",
       "    <tr>\n",
       "      <th>MINI</th>\n",
       "      <td>17.0</td>\n",
       "      <td>0.540000</td>\n",
       "      <td>0.000000e+00</td>\n",
       "      <td>0.54</td>\n",
       "      <td>0.54</td>\n",
       "      <td>0.54</td>\n",
       "      <td>0.54</td>\n",
       "      <td>0.54</td>\n",
       "      <td>17.0</td>\n",
       "      <td>165.110000</td>\n",
       "      <td>...</td>\n",
       "      <td>165.1100</td>\n",
       "      <td>165.11</td>\n",
       "      <td>17.0</td>\n",
       "      <td>500.000000</td>\n",
       "      <td>0.000000</td>\n",
       "      <td>500.0</td>\n",
       "      <td>500.0</td>\n",
       "      <td>500.0</td>\n",
       "      <td>500.0</td>\n",
       "      <td>500.0</td>\n",
       "    </tr>\n",
       "    <tr>\n",
       "      <th>Mercedes-Benz</th>\n",
       "      <td>29.0</td>\n",
       "      <td>0.326207</td>\n",
       "      <td>6.508643e-01</td>\n",
       "      <td>0.06</td>\n",
       "      <td>0.06</td>\n",
       "      <td>0.06</td>\n",
       "      <td>0.06</td>\n",
       "      <td>2.12</td>\n",
       "      <td>29.0</td>\n",
       "      <td>156.752069</td>\n",
       "      <td>...</td>\n",
       "      <td>100.8900</td>\n",
       "      <td>592.89</td>\n",
       "      <td>29.0</td>\n",
       "      <td>624.137931</td>\n",
       "      <td>371.920856</td>\n",
       "      <td>500.0</td>\n",
       "      <td>500.0</td>\n",
       "      <td>500.0</td>\n",
       "      <td>500.0</td>\n",
       "      <td>1700.0</td>\n",
       "    </tr>\n",
       "    <tr>\n",
       "      <th>Mitsubishi</th>\n",
       "      <td>506.0</td>\n",
       "      <td>0.650000</td>\n",
       "      <td>1.111322e-16</td>\n",
       "      <td>0.65</td>\n",
       "      <td>0.65</td>\n",
       "      <td>0.65</td>\n",
       "      <td>0.65</td>\n",
       "      <td>0.65</td>\n",
       "      <td>506.0</td>\n",
       "      <td>232.890000</td>\n",
       "      <td>...</td>\n",
       "      <td>232.8900</td>\n",
       "      <td>232.89</td>\n",
       "      <td>506.0</td>\n",
       "      <td>1100.000000</td>\n",
       "      <td>0.000000</td>\n",
       "      <td>1100.0</td>\n",
       "      <td>1100.0</td>\n",
       "      <td>1100.0</td>\n",
       "      <td>1100.0</td>\n",
       "      <td>1100.0</td>\n",
       "    </tr>\n",
       "    <tr>\n",
       "      <th>Nissan</th>\n",
       "      <td>759.0</td>\n",
       "      <td>2.910000</td>\n",
       "      <td>4.443820e-16</td>\n",
       "      <td>2.91</td>\n",
       "      <td>2.91</td>\n",
       "      <td>2.91</td>\n",
       "      <td>2.91</td>\n",
       "      <td>2.91</td>\n",
       "      <td>759.0</td>\n",
       "      <td>592.890000</td>\n",
       "      <td>...</td>\n",
       "      <td>592.8900</td>\n",
       "      <td>592.89</td>\n",
       "      <td>759.0</td>\n",
       "      <td>1928.063241</td>\n",
       "      <td>128.170880</td>\n",
       "      <td>1700.0</td>\n",
       "      <td>2000.0</td>\n",
       "      <td>2000.0</td>\n",
       "      <td>2000.0</td>\n",
       "      <td>2000.0</td>\n",
       "    </tr>\n",
       "    <tr>\n",
       "      <th>Porsche</th>\n",
       "      <td>1.0</td>\n",
       "      <td>1.410000</td>\n",
       "      <td>NaN</td>\n",
       "      <td>1.41</td>\n",
       "      <td>1.41</td>\n",
       "      <td>1.41</td>\n",
       "      <td>1.41</td>\n",
       "      <td>1.41</td>\n",
       "      <td>1.0</td>\n",
       "      <td>592.890000</td>\n",
       "      <td>...</td>\n",
       "      <td>592.8900</td>\n",
       "      <td>592.89</td>\n",
       "      <td>1.0</td>\n",
       "      <td>500.000000</td>\n",
       "      <td>NaN</td>\n",
       "      <td>500.0</td>\n",
       "      <td>500.0</td>\n",
       "      <td>500.0</td>\n",
       "      <td>500.0</td>\n",
       "      <td>500.0</td>\n",
       "    </tr>\n",
       "    <tr>\n",
       "      <th>Smart</th>\n",
       "      <td>94.0</td>\n",
       "      <td>2.760000</td>\n",
       "      <td>8.929408e-16</td>\n",
       "      <td>2.76</td>\n",
       "      <td>2.76</td>\n",
       "      <td>2.76</td>\n",
       "      <td>2.76</td>\n",
       "      <td>2.76</td>\n",
       "      <td>94.0</td>\n",
       "      <td>592.890000</td>\n",
       "      <td>...</td>\n",
       "      <td>592.8900</td>\n",
       "      <td>592.89</td>\n",
       "      <td>94.0</td>\n",
       "      <td>1700.000000</td>\n",
       "      <td>0.000000</td>\n",
       "      <td>1700.0</td>\n",
       "      <td>1700.0</td>\n",
       "      <td>1700.0</td>\n",
       "      <td>1700.0</td>\n",
       "      <td>1700.0</td>\n",
       "    </tr>\n",
       "    <tr>\n",
       "      <th>Subaru</th>\n",
       "      <td>131.0</td>\n",
       "      <td>1.730000</td>\n",
       "      <td>4.457940e-16</td>\n",
       "      <td>1.73</td>\n",
       "      <td>1.73</td>\n",
       "      <td>1.73</td>\n",
       "      <td>1.73</td>\n",
       "      <td>1.73</td>\n",
       "      <td>131.0</td>\n",
       "      <td>301.460000</td>\n",
       "      <td>...</td>\n",
       "      <td>301.4600</td>\n",
       "      <td>301.46</td>\n",
       "      <td>131.0</td>\n",
       "      <td>500.000000</td>\n",
       "      <td>0.000000</td>\n",
       "      <td>500.0</td>\n",
       "      <td>500.0</td>\n",
       "      <td>500.0</td>\n",
       "      <td>500.0</td>\n",
       "      <td>500.0</td>\n",
       "    </tr>\n",
       "    <tr>\n",
       "      <th>Tesla</th>\n",
       "      <td>5128.0</td>\n",
       "      <td>2.949803</td>\n",
       "      <td>2.980283e-01</td>\n",
       "      <td>1.89</td>\n",
       "      <td>2.91</td>\n",
       "      <td>2.99</td>\n",
       "      <td>3.23</td>\n",
       "      <td>3.31</td>\n",
       "      <td>5128.0</td>\n",
       "      <td>592.890000</td>\n",
       "      <td>...</td>\n",
       "      <td>592.8900</td>\n",
       "      <td>592.89</td>\n",
       "      <td>5128.0</td>\n",
       "      <td>1590.776131</td>\n",
       "      <td>668.175644</td>\n",
       "      <td>500.0</td>\n",
       "      <td>500.0</td>\n",
       "      <td>2000.0</td>\n",
       "      <td>2000.0</td>\n",
       "      <td>2000.0</td>\n",
       "    </tr>\n",
       "    <tr>\n",
       "      <th>Toyota</th>\n",
       "      <td>5804.0</td>\n",
       "      <td>3.030000</td>\n",
       "      <td>4.441275e-16</td>\n",
       "      <td>3.03</td>\n",
       "      <td>3.03</td>\n",
       "      <td>3.03</td>\n",
       "      <td>3.03</td>\n",
       "      <td>3.03</td>\n",
       "      <td>5804.0</td>\n",
       "      <td>440.110000</td>\n",
       "      <td>...</td>\n",
       "      <td>440.1100</td>\n",
       "      <td>440.11</td>\n",
       "      <td>5804.0</td>\n",
       "      <td>1100.000000</td>\n",
       "      <td>0.000000</td>\n",
       "      <td>1100.0</td>\n",
       "      <td>1100.0</td>\n",
       "      <td>1100.0</td>\n",
       "      <td>1100.0</td>\n",
       "      <td>1100.0</td>\n",
       "    </tr>\n",
       "    <tr>\n",
       "      <th>Volkswagen</th>\n",
       "      <td>100.0</td>\n",
       "      <td>3.067600</td>\n",
       "      <td>1.371573e-02</td>\n",
       "      <td>2.99</td>\n",
       "      <td>3.07</td>\n",
       "      <td>3.07</td>\n",
       "      <td>3.07</td>\n",
       "      <td>3.07</td>\n",
       "      <td>100.0</td>\n",
       "      <td>592.890000</td>\n",
       "      <td>...</td>\n",
       "      <td>592.8900</td>\n",
       "      <td>592.89</td>\n",
       "      <td>100.0</td>\n",
       "      <td>1991.000000</td>\n",
       "      <td>51.433982</td>\n",
       "      <td>1700.0</td>\n",
       "      <td>2000.0</td>\n",
       "      <td>2000.0</td>\n",
       "      <td>2000.0</td>\n",
       "      <td>2000.0</td>\n",
       "    </tr>\n",
       "    <tr>\n",
       "      <th>Volvo</th>\n",
       "      <td>18.0</td>\n",
       "      <td>0.500000</td>\n",
       "      <td>2.504349e-01</td>\n",
       "      <td>0.26</td>\n",
       "      <td>0.40</td>\n",
       "      <td>0.40</td>\n",
       "      <td>0.61</td>\n",
       "      <td>1.09</td>\n",
       "      <td>18.0</td>\n",
       "      <td>211.695556</td>\n",
       "      <td>...</td>\n",
       "      <td>223.9725</td>\n",
       "      <td>277.37</td>\n",
       "      <td>18.0</td>\n",
       "      <td>500.000000</td>\n",
       "      <td>0.000000</td>\n",
       "      <td>500.0</td>\n",
       "      <td>500.0</td>\n",
       "      <td>500.0</td>\n",
       "      <td>500.0</td>\n",
       "      <td>500.0</td>\n",
       "    </tr>\n",
       "  </tbody>\n",
       "</table>\n",
       "<p>20 rows × 24 columns</p>\n",
       "</div>"
      ],
      "text/plain": [
       "              annual_ghg_emissions_reductions_mt_co2e                          \\\n",
       "                                                count      mean           std   \n",
       "make                                                                            \n",
       "Audi                                             41.0  1.650488  2.180848e-03   \n",
       "BMW                                             827.0  1.411814  9.968029e-01   \n",
       "Chevrolet                                      3105.0  2.873939  1.847385e-01   \n",
       "Chrysler                                        206.0  1.690000  0.000000e+00   \n",
       "Ford                                           1869.0  2.244767  8.199867e-02   \n",
       "Honda                                          2087.0  2.650000  4.441956e-16   \n",
       "Hyundai                                        1115.0  3.030529  2.016289e-01   \n",
       "Jaguar                                           35.0  1.810000  2.252863e-16   \n",
       "Kia                                            1016.0  2.615138  1.976507e-01   \n",
       "MINI                                             17.0  0.540000  0.000000e+00   \n",
       "Mercedes-Benz                                    29.0  0.326207  6.508643e-01   \n",
       "Mitsubishi                                      506.0  0.650000  1.111322e-16   \n",
       "Nissan                                          759.0  2.910000  4.443820e-16   \n",
       "Porsche                                           1.0  1.410000           NaN   \n",
       "Smart                                            94.0  2.760000  8.929408e-16   \n",
       "Subaru                                          131.0  1.730000  4.457940e-16   \n",
       "Tesla                                          5128.0  2.949803  2.980283e-01   \n",
       "Toyota                                         5804.0  3.030000  4.441275e-16   \n",
       "Volkswagen                                      100.0  3.067600  1.371573e-02   \n",
       "Volvo                                            18.0  0.500000  2.504349e-01   \n",
       "\n",
       "                                             \\\n",
       "                min   25%   50%   75%   max   \n",
       "make                                          \n",
       "Audi           1.65  1.65  1.65  1.65  1.66   \n",
       "BMW            0.56  0.75  0.75  2.70  3.15   \n",
       "Chevrolet      2.69  2.70  2.70  3.07  3.07   \n",
       "Chrysler       1.69  1.69  1.69  1.69  1.69   \n",
       "Ford           1.97  2.26  2.26  2.26  2.76   \n",
       "Honda          2.65  2.65  2.65  2.65  2.65   \n",
       "Hyundai        2.26  2.89  2.89  3.31  3.31   \n",
       "Jaguar         1.81  1.81  1.81  1.81  1.81   \n",
       "Kia            2.32  2.32  2.76  2.76  2.91   \n",
       "MINI           0.54  0.54  0.54  0.54  0.54   \n",
       "Mercedes-Benz  0.06  0.06  0.06  0.06  2.12   \n",
       "Mitsubishi     0.65  0.65  0.65  0.65  0.65   \n",
       "Nissan         2.91  2.91  2.91  2.91  2.91   \n",
       "Porsche        1.41  1.41  1.41  1.41  1.41   \n",
       "Smart          2.76  2.76  2.76  2.76  2.76   \n",
       "Subaru         1.73  1.73  1.73  1.73  1.73   \n",
       "Tesla          1.89  2.91  2.99  3.23  3.31   \n",
       "Toyota         3.03  3.03  3.03  3.03  3.03   \n",
       "Volkswagen     2.99  3.07  3.07  3.07  3.07   \n",
       "Volvo          0.26  0.40  0.40  0.61  1.09   \n",
       "\n",
       "              annual_petroleum_reductions_gallons              ...            \\\n",
       "                                            count        mean  ...       75%   \n",
       "make                                                           ...             \n",
       "Audi                                         41.0  578.255854  ...  592.8900   \n",
       "BMW                                         827.0  318.762503  ...  575.7400   \n",
       "Chevrolet                                  3105.0  556.938406  ...  592.8900   \n",
       "Chrysler                                    206.0  391.320000  ...  391.3200   \n",
       "Ford                                       1869.0  374.609320  ...  375.0300   \n",
       "Honda                                      2087.0  503.600000  ...  503.6000   \n",
       "Hyundai                                    1115.0  515.091300  ...  592.8900   \n",
       "Jaguar                                       35.0  592.890000  ...  592.8900   \n",
       "Kia                                        1016.0  511.867087  ...  592.8900   \n",
       "MINI                                         17.0  165.110000  ...  165.1100   \n",
       "Mercedes-Benz                                29.0  156.752069  ...  100.8900   \n",
       "Mitsubishi                                  506.0  232.890000  ...  232.8900   \n",
       "Nissan                                      759.0  592.890000  ...  592.8900   \n",
       "Porsche                                       1.0  592.890000  ...  592.8900   \n",
       "Smart                                        94.0  592.890000  ...  592.8900   \n",
       "Subaru                                      131.0  301.460000  ...  301.4600   \n",
       "Tesla                                      5128.0  592.890000  ...  592.8900   \n",
       "Toyota                                     5804.0  440.110000  ...  440.1100   \n",
       "Volkswagen                                  100.0  592.890000  ...  592.8900   \n",
       "Volvo                                        18.0  211.695556  ...  223.9725   \n",
       "\n",
       "                      rebate_amount_usd                                   \\\n",
       "                  max             count         mean         std     min   \n",
       "make                                                                       \n",
       "Audi           592.89              41.0   500.000000    0.000000   500.0   \n",
       "BMW            592.89             827.0   894.316808  595.466416   500.0   \n",
       "Chevrolet      592.89            3105.0  1838.743961  156.422947  1100.0   \n",
       "Chrysler       391.32             206.0  1100.000000    0.000000  1100.0   \n",
       "Ford           592.89            1869.0  1106.420546   75.765026   500.0   \n",
       "Honda          503.60            2087.0  1700.000000    0.000000  1700.0   \n",
       "Hyundai        592.89            1115.0  1509.237668  448.351110  1100.0   \n",
       "Jaguar         592.89              35.0   500.000000    0.000000   500.0   \n",
       "Kia            592.89            1016.0  1449.015748  322.763644  1100.0   \n",
       "MINI           165.11              17.0   500.000000    0.000000   500.0   \n",
       "Mercedes-Benz  592.89              29.0   624.137931  371.920856   500.0   \n",
       "Mitsubishi     232.89             506.0  1100.000000    0.000000  1100.0   \n",
       "Nissan         592.89             759.0  1928.063241  128.170880  1700.0   \n",
       "Porsche        592.89               1.0   500.000000         NaN   500.0   \n",
       "Smart          592.89              94.0  1700.000000    0.000000  1700.0   \n",
       "Subaru         301.46             131.0   500.000000    0.000000   500.0   \n",
       "Tesla          592.89            5128.0  1590.776131  668.175644   500.0   \n",
       "Toyota         440.11            5804.0  1100.000000    0.000000  1100.0   \n",
       "Volkswagen     592.89             100.0  1991.000000   51.433982  1700.0   \n",
       "Volvo          277.37              18.0   500.000000    0.000000   500.0   \n",
       "\n",
       "                                               \n",
       "                  25%     50%     75%     max  \n",
       "make                                           \n",
       "Audi            500.0   500.0   500.0   500.0  \n",
       "BMW             500.0   500.0  1700.0  2000.0  \n",
       "Chevrolet      1700.0  1700.0  2000.0  2000.0  \n",
       "Chrysler       1100.0  1100.0  1100.0  1100.0  \n",
       "Ford           1100.0  1100.0  1100.0  1700.0  \n",
       "Honda          1700.0  1700.0  1700.0  1700.0  \n",
       "Hyundai        1100.0  1100.0  2000.0  2000.0  \n",
       "Jaguar          500.0   500.0   500.0   500.0  \n",
       "Kia            1100.0  1700.0  1700.0  2000.0  \n",
       "MINI            500.0   500.0   500.0   500.0  \n",
       "Mercedes-Benz   500.0   500.0   500.0  1700.0  \n",
       "Mitsubishi     1100.0  1100.0  1100.0  1100.0  \n",
       "Nissan         2000.0  2000.0  2000.0  2000.0  \n",
       "Porsche         500.0   500.0   500.0   500.0  \n",
       "Smart          1700.0  1700.0  1700.0  1700.0  \n",
       "Subaru          500.0   500.0   500.0   500.0  \n",
       "Tesla           500.0  2000.0  2000.0  2000.0  \n",
       "Toyota         1100.0  1100.0  1100.0  1100.0  \n",
       "Volkswagen     2000.0  2000.0  2000.0  2000.0  \n",
       "Volvo           500.0   500.0   500.0   500.0  \n",
       "\n",
       "[20 rows x 24 columns]"
      ]
     },
     "execution_count": 78,
     "metadata": {},
     "output_type": "execute_result"
    }
   ],
   "source": [
    "g.describe()"
   ]
  },
  {
   "cell_type": "markdown",
   "id": "5f5fc0ff",
   "metadata": {},
   "source": [
    "We see that there are 20 groups in the dataset based on the attribute **make**"
   ]
  },
  {
   "cell_type": "code",
   "execution_count": 79,
   "id": "cdb28226",
   "metadata": {},
   "outputs": [],
   "source": [
    "data3=data2.copy()"
   ]
  },
  {
   "cell_type": "code",
   "execution_count": 80,
   "id": "15077cb1",
   "metadata": {},
   "outputs": [
    {
     "data": {
      "text/plain": [
       "<pandas.core.groupby.generic.DataFrameGroupBy object at 0x000002C5CD6561C0>"
      ]
     },
     "execution_count": 80,
     "metadata": {},
     "output_type": "execute_result"
    }
   ],
   "source": [
    "g2 = data3.groupby(['make','model'])\n",
    "g2"
   ]
  },
  {
   "cell_type": "code",
   "execution_count": 81,
   "id": "d1a25f6e",
   "metadata": {},
   "outputs": [
    {
     "data": {
      "text/html": [
       "<div>\n",
       "<style scoped>\n",
       "    .dataframe tbody tr th:only-of-type {\n",
       "        vertical-align: middle;\n",
       "    }\n",
       "\n",
       "    .dataframe tbody tr th {\n",
       "        vertical-align: top;\n",
       "    }\n",
       "\n",
       "    .dataframe thead tr th {\n",
       "        text-align: left;\n",
       "    }\n",
       "\n",
       "    .dataframe thead tr:last-of-type th {\n",
       "        text-align: right;\n",
       "    }\n",
       "</style>\n",
       "<table border=\"1\" class=\"dataframe\">\n",
       "  <thead>\n",
       "    <tr>\n",
       "      <th></th>\n",
       "      <th></th>\n",
       "      <th colspan=\"8\" halign=\"left\">annual_ghg_emissions_reductions_mt_co2e</th>\n",
       "      <th colspan=\"5\" halign=\"left\">annual_petroleum_reductions_gallons</th>\n",
       "      <th colspan=\"8\" halign=\"left\">rebate_amount_usd</th>\n",
       "    </tr>\n",
       "    <tr>\n",
       "      <th></th>\n",
       "      <th></th>\n",
       "      <th>count</th>\n",
       "      <th>mean</th>\n",
       "      <th>std</th>\n",
       "      <th>min</th>\n",
       "      <th>25%</th>\n",
       "      <th>50%</th>\n",
       "      <th>75%</th>\n",
       "      <th>max</th>\n",
       "      <th>count</th>\n",
       "      <th>mean</th>\n",
       "      <th>...</th>\n",
       "      <th>75%</th>\n",
       "      <th>max</th>\n",
       "      <th>count</th>\n",
       "      <th>mean</th>\n",
       "      <th>std</th>\n",
       "      <th>min</th>\n",
       "      <th>25%</th>\n",
       "      <th>50%</th>\n",
       "      <th>75%</th>\n",
       "      <th>max</th>\n",
       "    </tr>\n",
       "    <tr>\n",
       "      <th>make</th>\n",
       "      <th>model</th>\n",
       "      <th></th>\n",
       "      <th></th>\n",
       "      <th></th>\n",
       "      <th></th>\n",
       "      <th></th>\n",
       "      <th></th>\n",
       "      <th></th>\n",
       "      <th></th>\n",
       "      <th></th>\n",
       "      <th></th>\n",
       "      <th></th>\n",
       "      <th></th>\n",
       "      <th></th>\n",
       "      <th></th>\n",
       "      <th></th>\n",
       "      <th></th>\n",
       "      <th></th>\n",
       "      <th></th>\n",
       "      <th></th>\n",
       "      <th></th>\n",
       "      <th></th>\n",
       "    </tr>\n",
       "  </thead>\n",
       "  <tbody>\n",
       "    <tr>\n",
       "      <th rowspan=\"2\" valign=\"top\">Audi</th>\n",
       "      <th>A3 e-tron</th>\n",
       "      <td>2.0</td>\n",
       "      <td>1.660000</td>\n",
       "      <td>0.000000e+00</td>\n",
       "      <td>1.66</td>\n",
       "      <td>1.66</td>\n",
       "      <td>1.66</td>\n",
       "      <td>1.66</td>\n",
       "      <td>1.66</td>\n",
       "      <td>2.0</td>\n",
       "      <td>292.890000</td>\n",
       "      <td>...</td>\n",
       "      <td>292.89</td>\n",
       "      <td>292.89</td>\n",
       "      <td>2.0</td>\n",
       "      <td>500.000000</td>\n",
       "      <td>0.000000</td>\n",
       "      <td>500.0</td>\n",
       "      <td>500.0</td>\n",
       "      <td>500.0</td>\n",
       "      <td>500.0</td>\n",
       "      <td>500.0</td>\n",
       "    </tr>\n",
       "    <tr>\n",
       "      <th>e-tron</th>\n",
       "      <td>39.0</td>\n",
       "      <td>1.650000</td>\n",
       "      <td>0.000000e+00</td>\n",
       "      <td>1.65</td>\n",
       "      <td>1.65</td>\n",
       "      <td>1.65</td>\n",
       "      <td>1.65</td>\n",
       "      <td>1.65</td>\n",
       "      <td>39.0</td>\n",
       "      <td>592.890000</td>\n",
       "      <td>...</td>\n",
       "      <td>592.89</td>\n",
       "      <td>592.89</td>\n",
       "      <td>39.0</td>\n",
       "      <td>500.000000</td>\n",
       "      <td>0.000000</td>\n",
       "      <td>500.0</td>\n",
       "      <td>500.0</td>\n",
       "      <td>500.0</td>\n",
       "      <td>500.0</td>\n",
       "      <td>500.0</td>\n",
       "    </tr>\n",
       "    <tr>\n",
       "      <th rowspan=\"6\" valign=\"top\">BMW</th>\n",
       "      <th>330e</th>\n",
       "      <td>16.0</td>\n",
       "      <td>1.130000</td>\n",
       "      <td>0.000000e+00</td>\n",
       "      <td>1.13</td>\n",
       "      <td>1.13</td>\n",
       "      <td>1.13</td>\n",
       "      <td>1.13</td>\n",
       "      <td>1.13</td>\n",
       "      <td>16.0</td>\n",
       "      <td>239.660000</td>\n",
       "      <td>...</td>\n",
       "      <td>239.66</td>\n",
       "      <td>239.66</td>\n",
       "      <td>16.0</td>\n",
       "      <td>500.000000</td>\n",
       "      <td>0.000000</td>\n",
       "      <td>500.0</td>\n",
       "      <td>500.0</td>\n",
       "      <td>500.0</td>\n",
       "      <td>500.0</td>\n",
       "      <td>500.0</td>\n",
       "    </tr>\n",
       "    <tr>\n",
       "      <th>530e</th>\n",
       "      <td>494.0</td>\n",
       "      <td>0.750364</td>\n",
       "      <td>5.720752e-03</td>\n",
       "      <td>0.75</td>\n",
       "      <td>0.75</td>\n",
       "      <td>0.75</td>\n",
       "      <td>0.75</td>\n",
       "      <td>0.84</td>\n",
       "      <td>494.0</td>\n",
       "      <td>201.853401</td>\n",
       "      <td>...</td>\n",
       "      <td>201.81</td>\n",
       "      <td>212.53</td>\n",
       "      <td>494.0</td>\n",
       "      <td>500.000000</td>\n",
       "      <td>0.000000</td>\n",
       "      <td>500.0</td>\n",
       "      <td>500.0</td>\n",
       "      <td>500.0</td>\n",
       "      <td>500.0</td>\n",
       "      <td>500.0</td>\n",
       "    </tr>\n",
       "    <tr>\n",
       "      <th>740e</th>\n",
       "      <td>34.0</td>\n",
       "      <td>0.560000</td>\n",
       "      <td>1.126919e-16</td>\n",
       "      <td>0.56</td>\n",
       "      <td>0.56</td>\n",
       "      <td>0.56</td>\n",
       "      <td>0.56</td>\n",
       "      <td>0.56</td>\n",
       "      <td>34.0</td>\n",
       "      <td>187.330000</td>\n",
       "      <td>...</td>\n",
       "      <td>187.33</td>\n",
       "      <td>187.33</td>\n",
       "      <td>34.0</td>\n",
       "      <td>500.000000</td>\n",
       "      <td>0.000000</td>\n",
       "      <td>500.0</td>\n",
       "      <td>500.0</td>\n",
       "      <td>500.0</td>\n",
       "      <td>500.0</td>\n",
       "      <td>500.0</td>\n",
       "    </tr>\n",
       "    <tr>\n",
       "      <th>i3</th>\n",
       "      <td>38.0</td>\n",
       "      <td>2.969211</td>\n",
       "      <td>1.579494e-01</td>\n",
       "      <td>2.78</td>\n",
       "      <td>2.78</td>\n",
       "      <td>2.91</td>\n",
       "      <td>3.15</td>\n",
       "      <td>3.15</td>\n",
       "      <td>38.0</td>\n",
       "      <td>587.925526</td>\n",
       "      <td>...</td>\n",
       "      <td>592.89</td>\n",
       "      <td>592.89</td>\n",
       "      <td>38.0</td>\n",
       "      <td>1778.947368</td>\n",
       "      <td>133.877505</td>\n",
       "      <td>1700.0</td>\n",
       "      <td>1700.0</td>\n",
       "      <td>1700.0</td>\n",
       "      <td>1925.0</td>\n",
       "      <td>2000.0</td>\n",
       "    </tr>\n",
       "    <tr>\n",
       "      <th>i3 REx</th>\n",
       "      <td>217.0</td>\n",
       "      <td>2.884332</td>\n",
       "      <td>1.102759e-01</td>\n",
       "      <td>2.70</td>\n",
       "      <td>2.70</td>\n",
       "      <td>2.95</td>\n",
       "      <td>2.95</td>\n",
       "      <td>2.95</td>\n",
       "      <td>217.0</td>\n",
       "      <td>577.037696</td>\n",
       "      <td>...</td>\n",
       "      <td>577.50</td>\n",
       "      <td>577.50</td>\n",
       "      <td>217.0</td>\n",
       "      <td>1778.801843</td>\n",
       "      <td>132.331103</td>\n",
       "      <td>1700.0</td>\n",
       "      <td>1700.0</td>\n",
       "      <td>1700.0</td>\n",
       "      <td>2000.0</td>\n",
       "      <td>2000.0</td>\n",
       "    </tr>\n",
       "    <tr>\n",
       "      <th>i8</th>\n",
       "      <td>28.0</td>\n",
       "      <td>0.751429</td>\n",
       "      <td>8.280787e-02</td>\n",
       "      <td>0.70</td>\n",
       "      <td>0.70</td>\n",
       "      <td>0.70</td>\n",
       "      <td>0.88</td>\n",
       "      <td>0.88</td>\n",
       "      <td>28.0</td>\n",
       "      <td>219.245714</td>\n",
       "      <td>...</td>\n",
       "      <td>226.22</td>\n",
       "      <td>226.22</td>\n",
       "      <td>28.0</td>\n",
       "      <td>500.000000</td>\n",
       "      <td>0.000000</td>\n",
       "      <td>500.0</td>\n",
       "      <td>500.0</td>\n",
       "      <td>500.0</td>\n",
       "      <td>500.0</td>\n",
       "      <td>500.0</td>\n",
       "    </tr>\n",
       "    <tr>\n",
       "      <th rowspan=\"2\" valign=\"top\">Chevrolet</th>\n",
       "      <th>Bolt</th>\n",
       "      <td>1460.0</td>\n",
       "      <td>3.070000</td>\n",
       "      <td>4.442414e-16</td>\n",
       "      <td>3.07</td>\n",
       "      <td>3.07</td>\n",
       "      <td>3.07</td>\n",
       "      <td>3.07</td>\n",
       "      <td>3.07</td>\n",
       "      <td>1460.0</td>\n",
       "      <td>592.890000</td>\n",
       "      <td>...</td>\n",
       "      <td>592.89</td>\n",
       "      <td>592.89</td>\n",
       "      <td>1460.0</td>\n",
       "      <td>2000.000000</td>\n",
       "      <td>0.000000</td>\n",
       "      <td>2000.0</td>\n",
       "      <td>2000.0</td>\n",
       "      <td>2000.0</td>\n",
       "      <td>2000.0</td>\n",
       "      <td>2000.0</td>\n",
       "    </tr>\n",
       "    <tr>\n",
       "      <th>Volt</th>\n",
       "      <td>1645.0</td>\n",
       "      <td>2.699927</td>\n",
       "      <td>8.512358e-04</td>\n",
       "      <td>2.69</td>\n",
       "      <td>2.70</td>\n",
       "      <td>2.70</td>\n",
       "      <td>2.70</td>\n",
       "      <td>2.70</td>\n",
       "      <td>1645.0</td>\n",
       "      <td>525.030000</td>\n",
       "      <td>...</td>\n",
       "      <td>525.03</td>\n",
       "      <td>525.03</td>\n",
       "      <td>1645.0</td>\n",
       "      <td>1695.623100</td>\n",
       "      <td>51.074145</td>\n",
       "      <td>1100.0</td>\n",
       "      <td>1700.0</td>\n",
       "      <td>1700.0</td>\n",
       "      <td>1700.0</td>\n",
       "      <td>1700.0</td>\n",
       "    </tr>\n",
       "    <tr>\n",
       "      <th>Chrysler</th>\n",
       "      <th>Pacifica</th>\n",
       "      <td>206.0</td>\n",
       "      <td>1.690000</td>\n",
       "      <td>0.000000e+00</td>\n",
       "      <td>1.69</td>\n",
       "      <td>1.69</td>\n",
       "      <td>1.69</td>\n",
       "      <td>1.69</td>\n",
       "      <td>1.69</td>\n",
       "      <td>206.0</td>\n",
       "      <td>391.320000</td>\n",
       "      <td>...</td>\n",
       "      <td>391.32</td>\n",
       "      <td>391.32</td>\n",
       "      <td>206.0</td>\n",
       "      <td>1100.000000</td>\n",
       "      <td>0.000000</td>\n",
       "      <td>1100.0</td>\n",
       "      <td>1100.0</td>\n",
       "      <td>1100.0</td>\n",
       "      <td>1100.0</td>\n",
       "      <td>1100.0</td>\n",
       "    </tr>\n",
       "    <tr>\n",
       "      <th rowspan=\"3\" valign=\"top\">Ford</th>\n",
       "      <th>C-MAX Energi</th>\n",
       "      <td>250.0</td>\n",
       "      <td>2.098440</td>\n",
       "      <td>1.418348e-02</td>\n",
       "      <td>1.97</td>\n",
       "      <td>2.10</td>\n",
       "      <td>2.10</td>\n",
       "      <td>2.10</td>\n",
       "      <td>2.10</td>\n",
       "      <td>250.0</td>\n",
       "      <td>350.408760</td>\n",
       "      <td>...</td>\n",
       "      <td>350.58</td>\n",
       "      <td>350.58</td>\n",
       "      <td>250.0</td>\n",
       "      <td>1092.800000</td>\n",
       "      <td>65.462212</td>\n",
       "      <td>500.0</td>\n",
       "      <td>1100.0</td>\n",
       "      <td>1100.0</td>\n",
       "      <td>1100.0</td>\n",
       "      <td>1100.0</td>\n",
       "    </tr>\n",
       "    <tr>\n",
       "      <th>Focus</th>\n",
       "      <td>25.0</td>\n",
       "      <td>2.760000</td>\n",
       "      <td>0.000000e+00</td>\n",
       "      <td>2.76</td>\n",
       "      <td>2.76</td>\n",
       "      <td>2.76</td>\n",
       "      <td>2.76</td>\n",
       "      <td>2.76</td>\n",
       "      <td>25.0</td>\n",
       "      <td>592.890000</td>\n",
       "      <td>...</td>\n",
       "      <td>592.89</td>\n",
       "      <td>592.89</td>\n",
       "      <td>25.0</td>\n",
       "      <td>1700.000000</td>\n",
       "      <td>0.000000</td>\n",
       "      <td>1700.0</td>\n",
       "      <td>1700.0</td>\n",
       "      <td>1700.0</td>\n",
       "      <td>1700.0</td>\n",
       "      <td>1700.0</td>\n",
       "    </tr>\n",
       "    <tr>\n",
       "      <th>Fusion Energi</th>\n",
       "      <td>1594.0</td>\n",
       "      <td>2.259636</td>\n",
       "      <td>1.026910e-02</td>\n",
       "      <td>1.97</td>\n",
       "      <td>2.26</td>\n",
       "      <td>2.26</td>\n",
       "      <td>2.26</td>\n",
       "      <td>2.26</td>\n",
       "      <td>1594.0</td>\n",
       "      <td>374.981418</td>\n",
       "      <td>...</td>\n",
       "      <td>375.03</td>\n",
       "      <td>375.03</td>\n",
       "      <td>1594.0</td>\n",
       "      <td>1099.247177</td>\n",
       "      <td>21.246419</td>\n",
       "      <td>500.0</td>\n",
       "      <td>1100.0</td>\n",
       "      <td>1100.0</td>\n",
       "      <td>1100.0</td>\n",
       "      <td>1100.0</td>\n",
       "    </tr>\n",
       "    <tr>\n",
       "      <th>Honda</th>\n",
       "      <th>Clarity</th>\n",
       "      <td>2087.0</td>\n",
       "      <td>2.650000</td>\n",
       "      <td>4.441956e-16</td>\n",
       "      <td>2.65</td>\n",
       "      <td>2.65</td>\n",
       "      <td>2.65</td>\n",
       "      <td>2.65</td>\n",
       "      <td>2.65</td>\n",
       "      <td>2087.0</td>\n",
       "      <td>503.600000</td>\n",
       "      <td>...</td>\n",
       "      <td>503.60</td>\n",
       "      <td>503.60</td>\n",
       "      <td>2087.0</td>\n",
       "      <td>1700.000000</td>\n",
       "      <td>0.000000</td>\n",
       "      <td>1700.0</td>\n",
       "      <td>1700.0</td>\n",
       "      <td>1700.0</td>\n",
       "      <td>1700.0</td>\n",
       "      <td>1700.0</td>\n",
       "    </tr>\n",
       "    <tr>\n",
       "      <th rowspan=\"4\" valign=\"top\">Hyundai</th>\n",
       "      <th>Ionic Plug-In Hybrid</th>\n",
       "      <td>593.0</td>\n",
       "      <td>2.890000</td>\n",
       "      <td>0.000000e+00</td>\n",
       "      <td>2.89</td>\n",
       "      <td>2.89</td>\n",
       "      <td>2.89</td>\n",
       "      <td>2.89</td>\n",
       "      <td>2.89</td>\n",
       "      <td>593.0</td>\n",
       "      <td>451.540000</td>\n",
       "      <td>...</td>\n",
       "      <td>451.54</td>\n",
       "      <td>451.54</td>\n",
       "      <td>593.0</td>\n",
       "      <td>1100.000000</td>\n",
       "      <td>0.000000</td>\n",
       "      <td>1100.0</td>\n",
       "      <td>1100.0</td>\n",
       "      <td>1100.0</td>\n",
       "      <td>1100.0</td>\n",
       "      <td>1100.0</td>\n",
       "    </tr>\n",
       "    <tr>\n",
       "      <th>Ionic_Electric</th>\n",
       "      <td>312.0</td>\n",
       "      <td>3.310000</td>\n",
       "      <td>8.896052e-16</td>\n",
       "      <td>3.31</td>\n",
       "      <td>3.31</td>\n",
       "      <td>3.31</td>\n",
       "      <td>3.31</td>\n",
       "      <td>3.31</td>\n",
       "      <td>312.0</td>\n",
       "      <td>592.890000</td>\n",
       "      <td>...</td>\n",
       "      <td>592.89</td>\n",
       "      <td>592.89</td>\n",
       "      <td>312.0</td>\n",
       "      <td>2000.000000</td>\n",
       "      <td>0.000000</td>\n",
       "      <td>2000.0</td>\n",
       "      <td>2000.0</td>\n",
       "      <td>2000.0</td>\n",
       "      <td>2000.0</td>\n",
       "      <td>2000.0</td>\n",
       "    </tr>\n",
       "    <tr>\n",
       "      <th>Kona Electric</th>\n",
       "      <td>195.0</td>\n",
       "      <td>3.070000</td>\n",
       "      <td>4.452323e-16</td>\n",
       "      <td>3.07</td>\n",
       "      <td>3.07</td>\n",
       "      <td>3.07</td>\n",
       "      <td>3.07</td>\n",
       "      <td>3.07</td>\n",
       "      <td>195.0</td>\n",
       "      <td>592.890000</td>\n",
       "      <td>...</td>\n",
       "      <td>592.89</td>\n",
       "      <td>592.89</td>\n",
       "      <td>195.0</td>\n",
       "      <td>2000.000000</td>\n",
       "      <td>0.000000</td>\n",
       "      <td>2000.0</td>\n",
       "      <td>2000.0</td>\n",
       "      <td>2000.0</td>\n",
       "      <td>2000.0</td>\n",
       "      <td>2000.0</td>\n",
       "    </tr>\n",
       "    <tr>\n",
       "      <th>Sonata Plug-in</th>\n",
       "      <td>15.0</td>\n",
       "      <td>2.260000</td>\n",
       "      <td>9.193520e-16</td>\n",
       "      <td>2.26</td>\n",
       "      <td>2.26</td>\n",
       "      <td>2.26</td>\n",
       "      <td>2.26</td>\n",
       "      <td>2.26</td>\n",
       "      <td>15.0</td>\n",
       "      <td>397.890000</td>\n",
       "      <td>...</td>\n",
       "      <td>397.89</td>\n",
       "      <td>397.89</td>\n",
       "      <td>15.0</td>\n",
       "      <td>1100.000000</td>\n",
       "      <td>0.000000</td>\n",
       "      <td>1100.0</td>\n",
       "      <td>1100.0</td>\n",
       "      <td>1100.0</td>\n",
       "      <td>1100.0</td>\n",
       "      <td>1100.0</td>\n",
       "    </tr>\n",
       "    <tr>\n",
       "      <th>Jaguar</th>\n",
       "      <th>I-PACE</th>\n",
       "      <td>35.0</td>\n",
       "      <td>1.810000</td>\n",
       "      <td>2.252863e-16</td>\n",
       "      <td>1.81</td>\n",
       "      <td>1.81</td>\n",
       "      <td>1.81</td>\n",
       "      <td>1.81</td>\n",
       "      <td>1.81</td>\n",
       "      <td>35.0</td>\n",
       "      <td>592.890000</td>\n",
       "      <td>...</td>\n",
       "      <td>592.89</td>\n",
       "      <td>592.89</td>\n",
       "      <td>35.0</td>\n",
       "      <td>500.000000</td>\n",
       "      <td>0.000000</td>\n",
       "      <td>500.0</td>\n",
       "      <td>500.0</td>\n",
       "      <td>500.0</td>\n",
       "      <td>500.0</td>\n",
       "      <td>500.0</td>\n",
       "    </tr>\n",
       "    <tr>\n",
       "      <th rowspan=\"3\" valign=\"top\">Kia</th>\n",
       "      <th>Niro</th>\n",
       "      <td>254.0</td>\n",
       "      <td>2.637874</td>\n",
       "      <td>1.549430e-01</td>\n",
       "      <td>2.55</td>\n",
       "      <td>2.55</td>\n",
       "      <td>2.55</td>\n",
       "      <td>2.55</td>\n",
       "      <td>2.91</td>\n",
       "      <td>254.0</td>\n",
       "      <td>459.782598</td>\n",
       "      <td>...</td>\n",
       "      <td>416.80</td>\n",
       "      <td>592.89</td>\n",
       "      <td>254.0</td>\n",
       "      <td>1319.685039</td>\n",
       "      <td>387.357393</td>\n",
       "      <td>1100.0</td>\n",
       "      <td>1100.0</td>\n",
       "      <td>1100.0</td>\n",
       "      <td>1100.0</td>\n",
       "      <td>2000.0</td>\n",
       "    </tr>\n",
       "    <tr>\n",
       "      <th>Optima Plug-in</th>\n",
       "      <td>264.0</td>\n",
       "      <td>2.320000</td>\n",
       "      <td>4.449327e-16</td>\n",
       "      <td>2.32</td>\n",
       "      <td>2.32</td>\n",
       "      <td>2.32</td>\n",
       "      <td>2.32</td>\n",
       "      <td>2.32</td>\n",
       "      <td>264.0</td>\n",
       "      <td>409.140000</td>\n",
       "      <td>...</td>\n",
       "      <td>409.14</td>\n",
       "      <td>409.14</td>\n",
       "      <td>264.0</td>\n",
       "      <td>1100.000000</td>\n",
       "      <td>0.000000</td>\n",
       "      <td>1100.0</td>\n",
       "      <td>1100.0</td>\n",
       "      <td>1100.0</td>\n",
       "      <td>1100.0</td>\n",
       "      <td>1100.0</td>\n",
       "    </tr>\n",
       "    <tr>\n",
       "      <th>Soul EV</th>\n",
       "      <td>498.0</td>\n",
       "      <td>2.760000</td>\n",
       "      <td>4.445358e-16</td>\n",
       "      <td>2.76</td>\n",
       "      <td>2.76</td>\n",
       "      <td>2.76</td>\n",
       "      <td>2.76</td>\n",
       "      <td>2.76</td>\n",
       "      <td>498.0</td>\n",
       "      <td>592.890000</td>\n",
       "      <td>...</td>\n",
       "      <td>592.89</td>\n",
       "      <td>592.89</td>\n",
       "      <td>498.0</td>\n",
       "      <td>1700.000000</td>\n",
       "      <td>0.000000</td>\n",
       "      <td>1700.0</td>\n",
       "      <td>1700.0</td>\n",
       "      <td>1700.0</td>\n",
       "      <td>1700.0</td>\n",
       "      <td>1700.0</td>\n",
       "    </tr>\n",
       "    <tr>\n",
       "      <th>MINI</th>\n",
       "      <th>Cooper</th>\n",
       "      <td>17.0</td>\n",
       "      <td>0.540000</td>\n",
       "      <td>0.000000e+00</td>\n",
       "      <td>0.54</td>\n",
       "      <td>0.54</td>\n",
       "      <td>0.54</td>\n",
       "      <td>0.54</td>\n",
       "      <td>0.54</td>\n",
       "      <td>17.0</td>\n",
       "      <td>165.110000</td>\n",
       "      <td>...</td>\n",
       "      <td>165.11</td>\n",
       "      <td>165.11</td>\n",
       "      <td>17.0</td>\n",
       "      <td>500.000000</td>\n",
       "      <td>0.000000</td>\n",
       "      <td>500.0</td>\n",
       "      <td>500.0</td>\n",
       "      <td>500.0</td>\n",
       "      <td>500.0</td>\n",
       "      <td>500.0</td>\n",
       "    </tr>\n",
       "    <tr>\n",
       "      <th rowspan=\"3\" valign=\"top\">Mercedes-Benz</th>\n",
       "      <th>B250e</th>\n",
       "      <td>3.0</td>\n",
       "      <td>2.120000</td>\n",
       "      <td>0.000000e+00</td>\n",
       "      <td>2.12</td>\n",
       "      <td>2.12</td>\n",
       "      <td>2.12</td>\n",
       "      <td>2.12</td>\n",
       "      <td>2.12</td>\n",
       "      <td>3.0</td>\n",
       "      <td>592.890000</td>\n",
       "      <td>...</td>\n",
       "      <td>592.89</td>\n",
       "      <td>592.89</td>\n",
       "      <td>3.0</td>\n",
       "      <td>1700.000000</td>\n",
       "      <td>0.000000</td>\n",
       "      <td>1700.0</td>\n",
       "      <td>1700.0</td>\n",
       "      <td>1700.0</td>\n",
       "      <td>1700.0</td>\n",
       "      <td>1700.0</td>\n",
       "    </tr>\n",
       "    <tr>\n",
       "      <th>C350e</th>\n",
       "      <td>2.0</td>\n",
       "      <td>0.830000</td>\n",
       "      <td>0.000000e+00</td>\n",
       "      <td>0.83</td>\n",
       "      <td>0.83</td>\n",
       "      <td>0.83</td>\n",
       "      <td>0.83</td>\n",
       "      <td>0.83</td>\n",
       "      <td>2.0</td>\n",
       "      <td>172.890000</td>\n",
       "      <td>...</td>\n",
       "      <td>172.89</td>\n",
       "      <td>172.89</td>\n",
       "      <td>2.0</td>\n",
       "      <td>500.000000</td>\n",
       "      <td>0.000000</td>\n",
       "      <td>500.0</td>\n",
       "      <td>500.0</td>\n",
       "      <td>500.0</td>\n",
       "      <td>500.0</td>\n",
       "      <td>500.0</td>\n",
       "    </tr>\n",
       "    <tr>\n",
       "      <th>GLC350e</th>\n",
       "      <td>24.0</td>\n",
       "      <td>0.060000</td>\n",
       "      <td>0.000000e+00</td>\n",
       "      <td>0.06</td>\n",
       "      <td>0.06</td>\n",
       "      <td>0.06</td>\n",
       "      <td>0.06</td>\n",
       "      <td>0.06</td>\n",
       "      <td>24.0</td>\n",
       "      <td>100.890000</td>\n",
       "      <td>...</td>\n",
       "      <td>100.89</td>\n",
       "      <td>100.89</td>\n",
       "      <td>24.0</td>\n",
       "      <td>500.000000</td>\n",
       "      <td>0.000000</td>\n",
       "      <td>500.0</td>\n",
       "      <td>500.0</td>\n",
       "      <td>500.0</td>\n",
       "      <td>500.0</td>\n",
       "      <td>500.0</td>\n",
       "    </tr>\n",
       "    <tr>\n",
       "      <th>Mitsubishi</th>\n",
       "      <th>Outlander</th>\n",
       "      <td>506.0</td>\n",
       "      <td>0.650000</td>\n",
       "      <td>1.111322e-16</td>\n",
       "      <td>0.65</td>\n",
       "      <td>0.65</td>\n",
       "      <td>0.65</td>\n",
       "      <td>0.65</td>\n",
       "      <td>0.65</td>\n",
       "      <td>506.0</td>\n",
       "      <td>232.890000</td>\n",
       "      <td>...</td>\n",
       "      <td>232.89</td>\n",
       "      <td>232.89</td>\n",
       "      <td>506.0</td>\n",
       "      <td>1100.000000</td>\n",
       "      <td>0.000000</td>\n",
       "      <td>1100.0</td>\n",
       "      <td>1100.0</td>\n",
       "      <td>1100.0</td>\n",
       "      <td>1100.0</td>\n",
       "      <td>1100.0</td>\n",
       "    </tr>\n",
       "    <tr>\n",
       "      <th>Nissan</th>\n",
       "      <th>LEAF</th>\n",
       "      <td>759.0</td>\n",
       "      <td>2.910000</td>\n",
       "      <td>4.443820e-16</td>\n",
       "      <td>2.91</td>\n",
       "      <td>2.91</td>\n",
       "      <td>2.91</td>\n",
       "      <td>2.91</td>\n",
       "      <td>2.91</td>\n",
       "      <td>759.0</td>\n",
       "      <td>592.890000</td>\n",
       "      <td>...</td>\n",
       "      <td>592.89</td>\n",
       "      <td>592.89</td>\n",
       "      <td>759.0</td>\n",
       "      <td>1928.063241</td>\n",
       "      <td>128.170880</td>\n",
       "      <td>1700.0</td>\n",
       "      <td>2000.0</td>\n",
       "      <td>2000.0</td>\n",
       "      <td>2000.0</td>\n",
       "      <td>2000.0</td>\n",
       "    </tr>\n",
       "    <tr>\n",
       "      <th>Porsche</th>\n",
       "      <th>Taycan</th>\n",
       "      <td>1.0</td>\n",
       "      <td>1.410000</td>\n",
       "      <td>NaN</td>\n",
       "      <td>1.41</td>\n",
       "      <td>1.41</td>\n",
       "      <td>1.41</td>\n",
       "      <td>1.41</td>\n",
       "      <td>1.41</td>\n",
       "      <td>1.0</td>\n",
       "      <td>592.890000</td>\n",
       "      <td>...</td>\n",
       "      <td>592.89</td>\n",
       "      <td>592.89</td>\n",
       "      <td>1.0</td>\n",
       "      <td>500.000000</td>\n",
       "      <td>NaN</td>\n",
       "      <td>500.0</td>\n",
       "      <td>500.0</td>\n",
       "      <td>500.0</td>\n",
       "      <td>500.0</td>\n",
       "      <td>500.0</td>\n",
       "    </tr>\n",
       "    <tr>\n",
       "      <th rowspan=\"2\" valign=\"top\">Smart</th>\n",
       "      <th>Electric Fortwo Cabriolet</th>\n",
       "      <td>8.0</td>\n",
       "      <td>2.760000</td>\n",
       "      <td>0.000000e+00</td>\n",
       "      <td>2.76</td>\n",
       "      <td>2.76</td>\n",
       "      <td>2.76</td>\n",
       "      <td>2.76</td>\n",
       "      <td>2.76</td>\n",
       "      <td>8.0</td>\n",
       "      <td>592.890000</td>\n",
       "      <td>...</td>\n",
       "      <td>592.89</td>\n",
       "      <td>592.89</td>\n",
       "      <td>8.0</td>\n",
       "      <td>1700.000000</td>\n",
       "      <td>0.000000</td>\n",
       "      <td>1700.0</td>\n",
       "      <td>1700.0</td>\n",
       "      <td>1700.0</td>\n",
       "      <td>1700.0</td>\n",
       "      <td>1700.0</td>\n",
       "    </tr>\n",
       "    <tr>\n",
       "      <th>Electric Fortwo Coupe</th>\n",
       "      <td>86.0</td>\n",
       "      <td>2.760000</td>\n",
       "      <td>8.933877e-16</td>\n",
       "      <td>2.76</td>\n",
       "      <td>2.76</td>\n",
       "      <td>2.76</td>\n",
       "      <td>2.76</td>\n",
       "      <td>2.76</td>\n",
       "      <td>86.0</td>\n",
       "      <td>592.890000</td>\n",
       "      <td>...</td>\n",
       "      <td>592.89</td>\n",
       "      <td>592.89</td>\n",
       "      <td>86.0</td>\n",
       "      <td>1700.000000</td>\n",
       "      <td>0.000000</td>\n",
       "      <td>1700.0</td>\n",
       "      <td>1700.0</td>\n",
       "      <td>1700.0</td>\n",
       "      <td>1700.0</td>\n",
       "      <td>1700.0</td>\n",
       "    </tr>\n",
       "    <tr>\n",
       "      <th>Subaru</th>\n",
       "      <th>Crosstrek PHEV</th>\n",
       "      <td>131.0</td>\n",
       "      <td>1.730000</td>\n",
       "      <td>4.457940e-16</td>\n",
       "      <td>1.73</td>\n",
       "      <td>1.73</td>\n",
       "      <td>1.73</td>\n",
       "      <td>1.73</td>\n",
       "      <td>1.73</td>\n",
       "      <td>131.0</td>\n",
       "      <td>301.460000</td>\n",
       "      <td>...</td>\n",
       "      <td>301.46</td>\n",
       "      <td>301.46</td>\n",
       "      <td>131.0</td>\n",
       "      <td>500.000000</td>\n",
       "      <td>0.000000</td>\n",
       "      <td>500.0</td>\n",
       "      <td>500.0</td>\n",
       "      <td>500.0</td>\n",
       "      <td>500.0</td>\n",
       "      <td>500.0</td>\n",
       "    </tr>\n",
       "    <tr>\n",
       "      <th rowspan=\"3\" valign=\"top\">Tesla</th>\n",
       "      <th>Model 3</th>\n",
       "      <td>3823.0</td>\n",
       "      <td>3.093500</td>\n",
       "      <td>1.376129e-01</td>\n",
       "      <td>2.99</td>\n",
       "      <td>2.99</td>\n",
       "      <td>2.99</td>\n",
       "      <td>3.23</td>\n",
       "      <td>3.31</td>\n",
       "      <td>3823.0</td>\n",
       "      <td>592.890000</td>\n",
       "      <td>...</td>\n",
       "      <td>592.89</td>\n",
       "      <td>592.89</td>\n",
       "      <td>3823.0</td>\n",
       "      <td>1963.117970</td>\n",
       "      <td>232.329248</td>\n",
       "      <td>500.0</td>\n",
       "      <td>2000.0</td>\n",
       "      <td>2000.0</td>\n",
       "      <td>2000.0</td>\n",
       "      <td>2000.0</td>\n",
       "    </tr>\n",
       "    <tr>\n",
       "      <th>Model S</th>\n",
       "      <td>611.0</td>\n",
       "      <td>2.719804</td>\n",
       "      <td>1.192599e-01</td>\n",
       "      <td>2.52</td>\n",
       "      <td>2.68</td>\n",
       "      <td>2.68</td>\n",
       "      <td>2.76</td>\n",
       "      <td>2.91</td>\n",
       "      <td>611.0</td>\n",
       "      <td>592.890000</td>\n",
       "      <td>...</td>\n",
       "      <td>592.89</td>\n",
       "      <td>592.89</td>\n",
       "      <td>611.0</td>\n",
       "      <td>500.000000</td>\n",
       "      <td>0.000000</td>\n",
       "      <td>500.0</td>\n",
       "      <td>500.0</td>\n",
       "      <td>500.0</td>\n",
       "      <td>500.0</td>\n",
       "      <td>500.0</td>\n",
       "    </tr>\n",
       "    <tr>\n",
       "      <th>Model X</th>\n",
       "      <td>694.0</td>\n",
       "      <td>2.360720</td>\n",
       "      <td>1.791331e-01</td>\n",
       "      <td>1.89</td>\n",
       "      <td>2.20</td>\n",
       "      <td>2.44</td>\n",
       "      <td>2.52</td>\n",
       "      <td>2.52</td>\n",
       "      <td>694.0</td>\n",
       "      <td>592.890000</td>\n",
       "      <td>...</td>\n",
       "      <td>592.89</td>\n",
       "      <td>592.89</td>\n",
       "      <td>694.0</td>\n",
       "      <td>500.000000</td>\n",
       "      <td>0.000000</td>\n",
       "      <td>500.0</td>\n",
       "      <td>500.0</td>\n",
       "      <td>500.0</td>\n",
       "      <td>500.0</td>\n",
       "      <td>500.0</td>\n",
       "    </tr>\n",
       "    <tr>\n",
       "      <th>Toyota</th>\n",
       "      <th>Prius Prime</th>\n",
       "      <td>5804.0</td>\n",
       "      <td>3.030000</td>\n",
       "      <td>4.441275e-16</td>\n",
       "      <td>3.03</td>\n",
       "      <td>3.03</td>\n",
       "      <td>3.03</td>\n",
       "      <td>3.03</td>\n",
       "      <td>3.03</td>\n",
       "      <td>5804.0</td>\n",
       "      <td>440.110000</td>\n",
       "      <td>...</td>\n",
       "      <td>440.11</td>\n",
       "      <td>440.11</td>\n",
       "      <td>5804.0</td>\n",
       "      <td>1100.000000</td>\n",
       "      <td>0.000000</td>\n",
       "      <td>1100.0</td>\n",
       "      <td>1100.0</td>\n",
       "      <td>1100.0</td>\n",
       "      <td>1100.0</td>\n",
       "      <td>1100.0</td>\n",
       "    </tr>\n",
       "    <tr>\n",
       "      <th>Volkswagen</th>\n",
       "      <th>e-Golf</th>\n",
       "      <td>100.0</td>\n",
       "      <td>3.067600</td>\n",
       "      <td>1.371573e-02</td>\n",
       "      <td>2.99</td>\n",
       "      <td>3.07</td>\n",
       "      <td>3.07</td>\n",
       "      <td>3.07</td>\n",
       "      <td>3.07</td>\n",
       "      <td>100.0</td>\n",
       "      <td>592.890000</td>\n",
       "      <td>...</td>\n",
       "      <td>592.89</td>\n",
       "      <td>592.89</td>\n",
       "      <td>100.0</td>\n",
       "      <td>1991.000000</td>\n",
       "      <td>51.433982</td>\n",
       "      <td>1700.0</td>\n",
       "      <td>2000.0</td>\n",
       "      <td>2000.0</td>\n",
       "      <td>2000.0</td>\n",
       "      <td>2000.0</td>\n",
       "    </tr>\n",
       "    <tr>\n",
       "      <th rowspan=\"3\" valign=\"top\">Volvo</th>\n",
       "      <th>S90 T8</th>\n",
       "      <td>2.0</td>\n",
       "      <td>1.090000</td>\n",
       "      <td>0.000000e+00</td>\n",
       "      <td>1.09</td>\n",
       "      <td>1.09</td>\n",
       "      <td>1.09</td>\n",
       "      <td>1.09</td>\n",
       "      <td>1.09</td>\n",
       "      <td>2.0</td>\n",
       "      <td>277.370000</td>\n",
       "      <td>...</td>\n",
       "      <td>277.37</td>\n",
       "      <td>277.37</td>\n",
       "      <td>2.0</td>\n",
       "      <td>500.000000</td>\n",
       "      <td>0.000000</td>\n",
       "      <td>500.0</td>\n",
       "      <td>500.0</td>\n",
       "      <td>500.0</td>\n",
       "      <td>500.0</td>\n",
       "      <td>500.0</td>\n",
       "    </tr>\n",
       "    <tr>\n",
       "      <th>XC60 T8</th>\n",
       "      <td>10.0</td>\n",
       "      <td>0.400000</td>\n",
       "      <td>0.000000e+00</td>\n",
       "      <td>0.40</td>\n",
       "      <td>0.40</td>\n",
       "      <td>0.40</td>\n",
       "      <td>0.40</td>\n",
       "      <td>0.40</td>\n",
       "      <td>10.0</td>\n",
       "      <td>200.580000</td>\n",
       "      <td>...</td>\n",
       "      <td>200.58</td>\n",
       "      <td>200.58</td>\n",
       "      <td>10.0</td>\n",
       "      <td>500.000000</td>\n",
       "      <td>0.000000</td>\n",
       "      <td>500.0</td>\n",
       "      <td>500.0</td>\n",
       "      <td>500.0</td>\n",
       "      <td>500.0</td>\n",
       "      <td>500.0</td>\n",
       "    </tr>\n",
       "    <tr>\n",
       "      <th>XC90 T8</th>\n",
       "      <td>6.0</td>\n",
       "      <td>0.470000</td>\n",
       "      <td>2.300435e-01</td>\n",
       "      <td>0.26</td>\n",
       "      <td>0.26</td>\n",
       "      <td>0.47</td>\n",
       "      <td>0.68</td>\n",
       "      <td>0.68</td>\n",
       "      <td>6.0</td>\n",
       "      <td>208.330000</td>\n",
       "      <td>...</td>\n",
       "      <td>231.77</td>\n",
       "      <td>231.77</td>\n",
       "      <td>6.0</td>\n",
       "      <td>500.000000</td>\n",
       "      <td>0.000000</td>\n",
       "      <td>500.0</td>\n",
       "      <td>500.0</td>\n",
       "      <td>500.0</td>\n",
       "      <td>500.0</td>\n",
       "      <td>500.0</td>\n",
       "    </tr>\n",
       "  </tbody>\n",
       "</table>\n",
       "<p>41 rows × 24 columns</p>\n",
       "</div>"
      ],
      "text/plain": [
       "                                        annual_ghg_emissions_reductions_mt_co2e  \\\n",
       "                                                                          count   \n",
       "make          model                                                               \n",
       "Audi          A3 e-tron                                                     2.0   \n",
       "              e-tron                                                       39.0   \n",
       "BMW           330e                                                         16.0   \n",
       "              530e                                                        494.0   \n",
       "              740e                                                         34.0   \n",
       "              i3                                                           38.0   \n",
       "              i3 REx                                                      217.0   \n",
       "              i8                                                           28.0   \n",
       "Chevrolet     Bolt                                                       1460.0   \n",
       "              Volt                                                       1645.0   \n",
       "Chrysler      Pacifica                                                    206.0   \n",
       "Ford          C-MAX Energi                                                250.0   \n",
       "              Focus                                                        25.0   \n",
       "              Fusion Energi                                              1594.0   \n",
       "Honda         Clarity                                                    2087.0   \n",
       "Hyundai       Ionic Plug-In Hybrid                                        593.0   \n",
       "              Ionic_Electric                                              312.0   \n",
       "              Kona Electric                                               195.0   \n",
       "              Sonata Plug-in                                               15.0   \n",
       "Jaguar        I-PACE                                                       35.0   \n",
       "Kia           Niro                                                        254.0   \n",
       "              Optima Plug-in                                              264.0   \n",
       "              Soul EV                                                     498.0   \n",
       "MINI          Cooper                                                       17.0   \n",
       "Mercedes-Benz B250e                                                         3.0   \n",
       "              C350e                                                         2.0   \n",
       "              GLC350e                                                      24.0   \n",
       "Mitsubishi    Outlander                                                   506.0   \n",
       "Nissan        LEAF                                                        759.0   \n",
       "Porsche       Taycan                                                        1.0   \n",
       "Smart         Electric Fortwo Cabriolet                                     8.0   \n",
       "              Electric Fortwo Coupe                                        86.0   \n",
       "Subaru        Crosstrek PHEV                                              131.0   \n",
       "Tesla         Model 3                                                    3823.0   \n",
       "              Model S                                                     611.0   \n",
       "              Model X                                                     694.0   \n",
       "Toyota        Prius Prime                                                5804.0   \n",
       "Volkswagen    e-Golf                                                      100.0   \n",
       "Volvo         S90 T8                                                        2.0   \n",
       "              XC60 T8                                                      10.0   \n",
       "              XC90 T8                                                       6.0   \n",
       "\n",
       "                                                                             \\\n",
       "                                             mean           std   min   25%   \n",
       "make          model                                                           \n",
       "Audi          A3 e-tron                  1.660000  0.000000e+00  1.66  1.66   \n",
       "              e-tron                     1.650000  0.000000e+00  1.65  1.65   \n",
       "BMW           330e                       1.130000  0.000000e+00  1.13  1.13   \n",
       "              530e                       0.750364  5.720752e-03  0.75  0.75   \n",
       "              740e                       0.560000  1.126919e-16  0.56  0.56   \n",
       "              i3                         2.969211  1.579494e-01  2.78  2.78   \n",
       "              i3 REx                     2.884332  1.102759e-01  2.70  2.70   \n",
       "              i8                         0.751429  8.280787e-02  0.70  0.70   \n",
       "Chevrolet     Bolt                       3.070000  4.442414e-16  3.07  3.07   \n",
       "              Volt                       2.699927  8.512358e-04  2.69  2.70   \n",
       "Chrysler      Pacifica                   1.690000  0.000000e+00  1.69  1.69   \n",
       "Ford          C-MAX Energi               2.098440  1.418348e-02  1.97  2.10   \n",
       "              Focus                      2.760000  0.000000e+00  2.76  2.76   \n",
       "              Fusion Energi              2.259636  1.026910e-02  1.97  2.26   \n",
       "Honda         Clarity                    2.650000  4.441956e-16  2.65  2.65   \n",
       "Hyundai       Ionic Plug-In Hybrid       2.890000  0.000000e+00  2.89  2.89   \n",
       "              Ionic_Electric             3.310000  8.896052e-16  3.31  3.31   \n",
       "              Kona Electric              3.070000  4.452323e-16  3.07  3.07   \n",
       "              Sonata Plug-in             2.260000  9.193520e-16  2.26  2.26   \n",
       "Jaguar        I-PACE                     1.810000  2.252863e-16  1.81  1.81   \n",
       "Kia           Niro                       2.637874  1.549430e-01  2.55  2.55   \n",
       "              Optima Plug-in             2.320000  4.449327e-16  2.32  2.32   \n",
       "              Soul EV                    2.760000  4.445358e-16  2.76  2.76   \n",
       "MINI          Cooper                     0.540000  0.000000e+00  0.54  0.54   \n",
       "Mercedes-Benz B250e                      2.120000  0.000000e+00  2.12  2.12   \n",
       "              C350e                      0.830000  0.000000e+00  0.83  0.83   \n",
       "              GLC350e                    0.060000  0.000000e+00  0.06  0.06   \n",
       "Mitsubishi    Outlander                  0.650000  1.111322e-16  0.65  0.65   \n",
       "Nissan        LEAF                       2.910000  4.443820e-16  2.91  2.91   \n",
       "Porsche       Taycan                     1.410000           NaN  1.41  1.41   \n",
       "Smart         Electric Fortwo Cabriolet  2.760000  0.000000e+00  2.76  2.76   \n",
       "              Electric Fortwo Coupe      2.760000  8.933877e-16  2.76  2.76   \n",
       "Subaru        Crosstrek PHEV             1.730000  4.457940e-16  1.73  1.73   \n",
       "Tesla         Model 3                    3.093500  1.376129e-01  2.99  2.99   \n",
       "              Model S                    2.719804  1.192599e-01  2.52  2.68   \n",
       "              Model X                    2.360720  1.791331e-01  1.89  2.20   \n",
       "Toyota        Prius Prime                3.030000  4.441275e-16  3.03  3.03   \n",
       "Volkswagen    e-Golf                     3.067600  1.371573e-02  2.99  3.07   \n",
       "Volvo         S90 T8                     1.090000  0.000000e+00  1.09  1.09   \n",
       "              XC60 T8                    0.400000  0.000000e+00  0.40  0.40   \n",
       "              XC90 T8                    0.470000  2.300435e-01  0.26  0.26   \n",
       "\n",
       "                                                           \\\n",
       "                                          50%   75%   max   \n",
       "make          model                                         \n",
       "Audi          A3 e-tron                  1.66  1.66  1.66   \n",
       "              e-tron                     1.65  1.65  1.65   \n",
       "BMW           330e                       1.13  1.13  1.13   \n",
       "              530e                       0.75  0.75  0.84   \n",
       "              740e                       0.56  0.56  0.56   \n",
       "              i3                         2.91  3.15  3.15   \n",
       "              i3 REx                     2.95  2.95  2.95   \n",
       "              i8                         0.70  0.88  0.88   \n",
       "Chevrolet     Bolt                       3.07  3.07  3.07   \n",
       "              Volt                       2.70  2.70  2.70   \n",
       "Chrysler      Pacifica                   1.69  1.69  1.69   \n",
       "Ford          C-MAX Energi               2.10  2.10  2.10   \n",
       "              Focus                      2.76  2.76  2.76   \n",
       "              Fusion Energi              2.26  2.26  2.26   \n",
       "Honda         Clarity                    2.65  2.65  2.65   \n",
       "Hyundai       Ionic Plug-In Hybrid       2.89  2.89  2.89   \n",
       "              Ionic_Electric             3.31  3.31  3.31   \n",
       "              Kona Electric              3.07  3.07  3.07   \n",
       "              Sonata Plug-in             2.26  2.26  2.26   \n",
       "Jaguar        I-PACE                     1.81  1.81  1.81   \n",
       "Kia           Niro                       2.55  2.55  2.91   \n",
       "              Optima Plug-in             2.32  2.32  2.32   \n",
       "              Soul EV                    2.76  2.76  2.76   \n",
       "MINI          Cooper                     0.54  0.54  0.54   \n",
       "Mercedes-Benz B250e                      2.12  2.12  2.12   \n",
       "              C350e                      0.83  0.83  0.83   \n",
       "              GLC350e                    0.06  0.06  0.06   \n",
       "Mitsubishi    Outlander                  0.65  0.65  0.65   \n",
       "Nissan        LEAF                       2.91  2.91  2.91   \n",
       "Porsche       Taycan                     1.41  1.41  1.41   \n",
       "Smart         Electric Fortwo Cabriolet  2.76  2.76  2.76   \n",
       "              Electric Fortwo Coupe      2.76  2.76  2.76   \n",
       "Subaru        Crosstrek PHEV             1.73  1.73  1.73   \n",
       "Tesla         Model 3                    2.99  3.23  3.31   \n",
       "              Model S                    2.68  2.76  2.91   \n",
       "              Model X                    2.44  2.52  2.52   \n",
       "Toyota        Prius Prime                3.03  3.03  3.03   \n",
       "Volkswagen    e-Golf                     3.07  3.07  3.07   \n",
       "Volvo         S90 T8                     1.09  1.09  1.09   \n",
       "              XC60 T8                    0.40  0.40  0.40   \n",
       "              XC90 T8                    0.47  0.68  0.68   \n",
       "\n",
       "                                        annual_petroleum_reductions_gallons  \\\n",
       "                                                                      count   \n",
       "make          model                                                           \n",
       "Audi          A3 e-tron                                                 2.0   \n",
       "              e-tron                                                   39.0   \n",
       "BMW           330e                                                     16.0   \n",
       "              530e                                                    494.0   \n",
       "              740e                                                     34.0   \n",
       "              i3                                                       38.0   \n",
       "              i3 REx                                                  217.0   \n",
       "              i8                                                       28.0   \n",
       "Chevrolet     Bolt                                                   1460.0   \n",
       "              Volt                                                   1645.0   \n",
       "Chrysler      Pacifica                                                206.0   \n",
       "Ford          C-MAX Energi                                            250.0   \n",
       "              Focus                                                    25.0   \n",
       "              Fusion Energi                                          1594.0   \n",
       "Honda         Clarity                                                2087.0   \n",
       "Hyundai       Ionic Plug-In Hybrid                                    593.0   \n",
       "              Ionic_Electric                                          312.0   \n",
       "              Kona Electric                                           195.0   \n",
       "              Sonata Plug-in                                           15.0   \n",
       "Jaguar        I-PACE                                                   35.0   \n",
       "Kia           Niro                                                    254.0   \n",
       "              Optima Plug-in                                          264.0   \n",
       "              Soul EV                                                 498.0   \n",
       "MINI          Cooper                                                   17.0   \n",
       "Mercedes-Benz B250e                                                     3.0   \n",
       "              C350e                                                     2.0   \n",
       "              GLC350e                                                  24.0   \n",
       "Mitsubishi    Outlander                                               506.0   \n",
       "Nissan        LEAF                                                    759.0   \n",
       "Porsche       Taycan                                                    1.0   \n",
       "Smart         Electric Fortwo Cabriolet                                 8.0   \n",
       "              Electric Fortwo Coupe                                    86.0   \n",
       "Subaru        Crosstrek PHEV                                          131.0   \n",
       "Tesla         Model 3                                                3823.0   \n",
       "              Model S                                                 611.0   \n",
       "              Model X                                                 694.0   \n",
       "Toyota        Prius Prime                                            5804.0   \n",
       "Volkswagen    e-Golf                                                  100.0   \n",
       "Volvo         S90 T8                                                    2.0   \n",
       "              XC60 T8                                                  10.0   \n",
       "              XC90 T8                                                   6.0   \n",
       "\n",
       "                                                     ...                  \\\n",
       "                                               mean  ...     75%     max   \n",
       "make          model                                  ...                   \n",
       "Audi          A3 e-tron                  292.890000  ...  292.89  292.89   \n",
       "              e-tron                     592.890000  ...  592.89  592.89   \n",
       "BMW           330e                       239.660000  ...  239.66  239.66   \n",
       "              530e                       201.853401  ...  201.81  212.53   \n",
       "              740e                       187.330000  ...  187.33  187.33   \n",
       "              i3                         587.925526  ...  592.89  592.89   \n",
       "              i3 REx                     577.037696  ...  577.50  577.50   \n",
       "              i8                         219.245714  ...  226.22  226.22   \n",
       "Chevrolet     Bolt                       592.890000  ...  592.89  592.89   \n",
       "              Volt                       525.030000  ...  525.03  525.03   \n",
       "Chrysler      Pacifica                   391.320000  ...  391.32  391.32   \n",
       "Ford          C-MAX Energi               350.408760  ...  350.58  350.58   \n",
       "              Focus                      592.890000  ...  592.89  592.89   \n",
       "              Fusion Energi              374.981418  ...  375.03  375.03   \n",
       "Honda         Clarity                    503.600000  ...  503.60  503.60   \n",
       "Hyundai       Ionic Plug-In Hybrid       451.540000  ...  451.54  451.54   \n",
       "              Ionic_Electric             592.890000  ...  592.89  592.89   \n",
       "              Kona Electric              592.890000  ...  592.89  592.89   \n",
       "              Sonata Plug-in             397.890000  ...  397.89  397.89   \n",
       "Jaguar        I-PACE                     592.890000  ...  592.89  592.89   \n",
       "Kia           Niro                       459.782598  ...  416.80  592.89   \n",
       "              Optima Plug-in             409.140000  ...  409.14  409.14   \n",
       "              Soul EV                    592.890000  ...  592.89  592.89   \n",
       "MINI          Cooper                     165.110000  ...  165.11  165.11   \n",
       "Mercedes-Benz B250e                      592.890000  ...  592.89  592.89   \n",
       "              C350e                      172.890000  ...  172.89  172.89   \n",
       "              GLC350e                    100.890000  ...  100.89  100.89   \n",
       "Mitsubishi    Outlander                  232.890000  ...  232.89  232.89   \n",
       "Nissan        LEAF                       592.890000  ...  592.89  592.89   \n",
       "Porsche       Taycan                     592.890000  ...  592.89  592.89   \n",
       "Smart         Electric Fortwo Cabriolet  592.890000  ...  592.89  592.89   \n",
       "              Electric Fortwo Coupe      592.890000  ...  592.89  592.89   \n",
       "Subaru        Crosstrek PHEV             301.460000  ...  301.46  301.46   \n",
       "Tesla         Model 3                    592.890000  ...  592.89  592.89   \n",
       "              Model S                    592.890000  ...  592.89  592.89   \n",
       "              Model X                    592.890000  ...  592.89  592.89   \n",
       "Toyota        Prius Prime                440.110000  ...  440.11  440.11   \n",
       "Volkswagen    e-Golf                     592.890000  ...  592.89  592.89   \n",
       "Volvo         S90 T8                     277.370000  ...  277.37  277.37   \n",
       "              XC60 T8                    200.580000  ...  200.58  200.58   \n",
       "              XC90 T8                    208.330000  ...  231.77  231.77   \n",
       "\n",
       "                                        rebate_amount_usd               \\\n",
       "                                                    count         mean   \n",
       "make          model                                                      \n",
       "Audi          A3 e-tron                               2.0   500.000000   \n",
       "              e-tron                                 39.0   500.000000   \n",
       "BMW           330e                                   16.0   500.000000   \n",
       "              530e                                  494.0   500.000000   \n",
       "              740e                                   34.0   500.000000   \n",
       "              i3                                     38.0  1778.947368   \n",
       "              i3 REx                                217.0  1778.801843   \n",
       "              i8                                     28.0   500.000000   \n",
       "Chevrolet     Bolt                                 1460.0  2000.000000   \n",
       "              Volt                                 1645.0  1695.623100   \n",
       "Chrysler      Pacifica                              206.0  1100.000000   \n",
       "Ford          C-MAX Energi                          250.0  1092.800000   \n",
       "              Focus                                  25.0  1700.000000   \n",
       "              Fusion Energi                        1594.0  1099.247177   \n",
       "Honda         Clarity                              2087.0  1700.000000   \n",
       "Hyundai       Ionic Plug-In Hybrid                  593.0  1100.000000   \n",
       "              Ionic_Electric                        312.0  2000.000000   \n",
       "              Kona Electric                         195.0  2000.000000   \n",
       "              Sonata Plug-in                         15.0  1100.000000   \n",
       "Jaguar        I-PACE                                 35.0   500.000000   \n",
       "Kia           Niro                                  254.0  1319.685039   \n",
       "              Optima Plug-in                        264.0  1100.000000   \n",
       "              Soul EV                               498.0  1700.000000   \n",
       "MINI          Cooper                                 17.0   500.000000   \n",
       "Mercedes-Benz B250e                                   3.0  1700.000000   \n",
       "              C350e                                   2.0   500.000000   \n",
       "              GLC350e                                24.0   500.000000   \n",
       "Mitsubishi    Outlander                             506.0  1100.000000   \n",
       "Nissan        LEAF                                  759.0  1928.063241   \n",
       "Porsche       Taycan                                  1.0   500.000000   \n",
       "Smart         Electric Fortwo Cabriolet               8.0  1700.000000   \n",
       "              Electric Fortwo Coupe                  86.0  1700.000000   \n",
       "Subaru        Crosstrek PHEV                        131.0   500.000000   \n",
       "Tesla         Model 3                              3823.0  1963.117970   \n",
       "              Model S                               611.0   500.000000   \n",
       "              Model X                               694.0   500.000000   \n",
       "Toyota        Prius Prime                          5804.0  1100.000000   \n",
       "Volkswagen    e-Golf                                100.0  1991.000000   \n",
       "Volvo         S90 T8                                  2.0   500.000000   \n",
       "              XC60 T8                                10.0   500.000000   \n",
       "              XC90 T8                                 6.0   500.000000   \n",
       "\n",
       "                                                                             \\\n",
       "                                                std     min     25%     50%   \n",
       "make          model                                                           \n",
       "Audi          A3 e-tron                    0.000000   500.0   500.0   500.0   \n",
       "              e-tron                       0.000000   500.0   500.0   500.0   \n",
       "BMW           330e                         0.000000   500.0   500.0   500.0   \n",
       "              530e                         0.000000   500.0   500.0   500.0   \n",
       "              740e                         0.000000   500.0   500.0   500.0   \n",
       "              i3                         133.877505  1700.0  1700.0  1700.0   \n",
       "              i3 REx                     132.331103  1700.0  1700.0  1700.0   \n",
       "              i8                           0.000000   500.0   500.0   500.0   \n",
       "Chevrolet     Bolt                         0.000000  2000.0  2000.0  2000.0   \n",
       "              Volt                        51.074145  1100.0  1700.0  1700.0   \n",
       "Chrysler      Pacifica                     0.000000  1100.0  1100.0  1100.0   \n",
       "Ford          C-MAX Energi                65.462212   500.0  1100.0  1100.0   \n",
       "              Focus                        0.000000  1700.0  1700.0  1700.0   \n",
       "              Fusion Energi               21.246419   500.0  1100.0  1100.0   \n",
       "Honda         Clarity                      0.000000  1700.0  1700.0  1700.0   \n",
       "Hyundai       Ionic Plug-In Hybrid         0.000000  1100.0  1100.0  1100.0   \n",
       "              Ionic_Electric               0.000000  2000.0  2000.0  2000.0   \n",
       "              Kona Electric                0.000000  2000.0  2000.0  2000.0   \n",
       "              Sonata Plug-in               0.000000  1100.0  1100.0  1100.0   \n",
       "Jaguar        I-PACE                       0.000000   500.0   500.0   500.0   \n",
       "Kia           Niro                       387.357393  1100.0  1100.0  1100.0   \n",
       "              Optima Plug-in               0.000000  1100.0  1100.0  1100.0   \n",
       "              Soul EV                      0.000000  1700.0  1700.0  1700.0   \n",
       "MINI          Cooper                       0.000000   500.0   500.0   500.0   \n",
       "Mercedes-Benz B250e                        0.000000  1700.0  1700.0  1700.0   \n",
       "              C350e                        0.000000   500.0   500.0   500.0   \n",
       "              GLC350e                      0.000000   500.0   500.0   500.0   \n",
       "Mitsubishi    Outlander                    0.000000  1100.0  1100.0  1100.0   \n",
       "Nissan        LEAF                       128.170880  1700.0  2000.0  2000.0   \n",
       "Porsche       Taycan                            NaN   500.0   500.0   500.0   \n",
       "Smart         Electric Fortwo Cabriolet    0.000000  1700.0  1700.0  1700.0   \n",
       "              Electric Fortwo Coupe        0.000000  1700.0  1700.0  1700.0   \n",
       "Subaru        Crosstrek PHEV               0.000000   500.0   500.0   500.0   \n",
       "Tesla         Model 3                    232.329248   500.0  2000.0  2000.0   \n",
       "              Model S                      0.000000   500.0   500.0   500.0   \n",
       "              Model X                      0.000000   500.0   500.0   500.0   \n",
       "Toyota        Prius Prime                  0.000000  1100.0  1100.0  1100.0   \n",
       "Volkswagen    e-Golf                      51.433982  1700.0  2000.0  2000.0   \n",
       "Volvo         S90 T8                       0.000000   500.0   500.0   500.0   \n",
       "              XC60 T8                      0.000000   500.0   500.0   500.0   \n",
       "              XC90 T8                      0.000000   500.0   500.0   500.0   \n",
       "\n",
       "                                                         \n",
       "                                            75%     max  \n",
       "make          model                                      \n",
       "Audi          A3 e-tron                   500.0   500.0  \n",
       "              e-tron                      500.0   500.0  \n",
       "BMW           330e                        500.0   500.0  \n",
       "              530e                        500.0   500.0  \n",
       "              740e                        500.0   500.0  \n",
       "              i3                         1925.0  2000.0  \n",
       "              i3 REx                     2000.0  2000.0  \n",
       "              i8                          500.0   500.0  \n",
       "Chevrolet     Bolt                       2000.0  2000.0  \n",
       "              Volt                       1700.0  1700.0  \n",
       "Chrysler      Pacifica                   1100.0  1100.0  \n",
       "Ford          C-MAX Energi               1100.0  1100.0  \n",
       "              Focus                      1700.0  1700.0  \n",
       "              Fusion Energi              1100.0  1100.0  \n",
       "Honda         Clarity                    1700.0  1700.0  \n",
       "Hyundai       Ionic Plug-In Hybrid       1100.0  1100.0  \n",
       "              Ionic_Electric             2000.0  2000.0  \n",
       "              Kona Electric              2000.0  2000.0  \n",
       "              Sonata Plug-in             1100.0  1100.0  \n",
       "Jaguar        I-PACE                      500.0   500.0  \n",
       "Kia           Niro                       1100.0  2000.0  \n",
       "              Optima Plug-in             1100.0  1100.0  \n",
       "              Soul EV                    1700.0  1700.0  \n",
       "MINI          Cooper                      500.0   500.0  \n",
       "Mercedes-Benz B250e                      1700.0  1700.0  \n",
       "              C350e                       500.0   500.0  \n",
       "              GLC350e                     500.0   500.0  \n",
       "Mitsubishi    Outlander                  1100.0  1100.0  \n",
       "Nissan        LEAF                       2000.0  2000.0  \n",
       "Porsche       Taycan                      500.0   500.0  \n",
       "Smart         Electric Fortwo Cabriolet  1700.0  1700.0  \n",
       "              Electric Fortwo Coupe      1700.0  1700.0  \n",
       "Subaru        Crosstrek PHEV              500.0   500.0  \n",
       "Tesla         Model 3                    2000.0  2000.0  \n",
       "              Model S                     500.0   500.0  \n",
       "              Model X                     500.0   500.0  \n",
       "Toyota        Prius Prime                1100.0  1100.0  \n",
       "Volkswagen    e-Golf                     2000.0  2000.0  \n",
       "Volvo         S90 T8                      500.0   500.0  \n",
       "              XC60 T8                     500.0   500.0  \n",
       "              XC90 T8                     500.0   500.0  \n",
       "\n",
       "[41 rows x 24 columns]"
      ]
     },
     "execution_count": 81,
     "metadata": {},
     "output_type": "execute_result"
    }
   ],
   "source": [
    "g2.describe()"
   ]
  },
  {
   "cell_type": "markdown",
   "id": "190604b0",
   "metadata": {},
   "source": [
    "\n",
    "We see that there from the 20 car manufactures, there is a total of 41 unique car model"
   ]
  },
  {
   "cell_type": "code",
   "execution_count": 82,
   "id": "32abf4a7",
   "metadata": {},
   "outputs": [],
   "source": [
    "data4=data2.copy()"
   ]
  },
  {
   "cell_type": "code",
   "execution_count": 83,
   "id": "f6a94fbd",
   "metadata": {},
   "outputs": [
    {
     "data": {
      "text/plain": [
       "<pandas.core.groupby.generic.DataFrameGroupBy object at 0x000002C5CD52DF10>"
      ]
     },
     "execution_count": 83,
     "metadata": {},
     "output_type": "execute_result"
    }
   ],
   "source": [
    "g3 = data4.groupby('ev_type')\n",
    "g3"
   ]
  },
  {
   "cell_type": "code",
   "execution_count": 84,
   "id": "92ba6dea",
   "metadata": {},
   "outputs": [
    {
     "data": {
      "text/html": [
       "<div>\n",
       "<style scoped>\n",
       "    .dataframe tbody tr th:only-of-type {\n",
       "        vertical-align: middle;\n",
       "    }\n",
       "\n",
       "    .dataframe tbody tr th {\n",
       "        vertical-align: top;\n",
       "    }\n",
       "\n",
       "    .dataframe thead tr th {\n",
       "        text-align: left;\n",
       "    }\n",
       "\n",
       "    .dataframe thead tr:last-of-type th {\n",
       "        text-align: right;\n",
       "    }\n",
       "</style>\n",
       "<table border=\"1\" class=\"dataframe\">\n",
       "  <thead>\n",
       "    <tr>\n",
       "      <th></th>\n",
       "      <th colspan=\"8\" halign=\"left\">annual_ghg_emissions_reductions_mt_co2e</th>\n",
       "      <th colspan=\"5\" halign=\"left\">annual_petroleum_reductions_gallons</th>\n",
       "      <th colspan=\"8\" halign=\"left\">rebate_amount_usd</th>\n",
       "    </tr>\n",
       "    <tr>\n",
       "      <th></th>\n",
       "      <th>count</th>\n",
       "      <th>mean</th>\n",
       "      <th>std</th>\n",
       "      <th>min</th>\n",
       "      <th>25%</th>\n",
       "      <th>50%</th>\n",
       "      <th>75%</th>\n",
       "      <th>max</th>\n",
       "      <th>count</th>\n",
       "      <th>mean</th>\n",
       "      <th>...</th>\n",
       "      <th>75%</th>\n",
       "      <th>max</th>\n",
       "      <th>count</th>\n",
       "      <th>mean</th>\n",
       "      <th>std</th>\n",
       "      <th>min</th>\n",
       "      <th>25%</th>\n",
       "      <th>50%</th>\n",
       "      <th>75%</th>\n",
       "      <th>max</th>\n",
       "    </tr>\n",
       "    <tr>\n",
       "      <th>ev_type</th>\n",
       "      <th></th>\n",
       "      <th></th>\n",
       "      <th></th>\n",
       "      <th></th>\n",
       "      <th></th>\n",
       "      <th></th>\n",
       "      <th></th>\n",
       "      <th></th>\n",
       "      <th></th>\n",
       "      <th></th>\n",
       "      <th></th>\n",
       "      <th></th>\n",
       "      <th></th>\n",
       "      <th></th>\n",
       "      <th></th>\n",
       "      <th></th>\n",
       "      <th></th>\n",
       "      <th></th>\n",
       "      <th></th>\n",
       "      <th></th>\n",
       "      <th></th>\n",
       "    </tr>\n",
       "  </thead>\n",
       "  <tbody>\n",
       "    <tr>\n",
       "      <th>BEV</th>\n",
       "      <td>8738.0</td>\n",
       "      <td>2.959106</td>\n",
       "      <td>0.274924</td>\n",
       "      <td>1.41</td>\n",
       "      <td>2.91</td>\n",
       "      <td>2.99</td>\n",
       "      <td>3.07</td>\n",
       "      <td>3.31</td>\n",
       "      <td>8738.0</td>\n",
       "      <td>592.890000</td>\n",
       "      <td>...</td>\n",
       "      <td>592.89</td>\n",
       "      <td>592.89</td>\n",
       "      <td>8738.0</td>\n",
       "      <td>1718.745708</td>\n",
       "      <td>555.82996</td>\n",
       "      <td>500.0</td>\n",
       "      <td>1700.0</td>\n",
       "      <td>2000.0</td>\n",
       "      <td>2000.0</td>\n",
       "      <td>2000.0</td>\n",
       "    </tr>\n",
       "    <tr>\n",
       "      <th>PHEV</th>\n",
       "      <td>14150.0</td>\n",
       "      <td>2.582888</td>\n",
       "      <td>0.645913</td>\n",
       "      <td>0.06</td>\n",
       "      <td>2.32</td>\n",
       "      <td>2.70</td>\n",
       "      <td>3.03</td>\n",
       "      <td>3.03</td>\n",
       "      <td>14150.0</td>\n",
       "      <td>431.922479</td>\n",
       "      <td>...</td>\n",
       "      <td>503.60</td>\n",
       "      <td>577.50</td>\n",
       "      <td>14150.0</td>\n",
       "      <td>1235.922261</td>\n",
       "      <td>321.56575</td>\n",
       "      <td>500.0</td>\n",
       "      <td>1100.0</td>\n",
       "      <td>1100.0</td>\n",
       "      <td>1700.0</td>\n",
       "      <td>2000.0</td>\n",
       "    </tr>\n",
       "  </tbody>\n",
       "</table>\n",
       "<p>2 rows × 24 columns</p>\n",
       "</div>"
      ],
      "text/plain": [
       "        annual_ghg_emissions_reductions_mt_co2e                            \\\n",
       "                                          count      mean       std   min   \n",
       "ev_type                                                                     \n",
       "BEV                                      8738.0  2.959106  0.274924  1.41   \n",
       "PHEV                                    14150.0  2.582888  0.645913  0.06   \n",
       "\n",
       "                                annual_petroleum_reductions_gallons  \\\n",
       "          25%   50%   75%   max                               count   \n",
       "ev_type                                                               \n",
       "BEV      2.91  2.99  3.07  3.31                              8738.0   \n",
       "PHEV     2.32  2.70  3.03  3.03                             14150.0   \n",
       "\n",
       "                     ...                 rebate_amount_usd               \\\n",
       "               mean  ...     75%     max             count         mean   \n",
       "ev_type              ...                                                  \n",
       "BEV      592.890000  ...  592.89  592.89            8738.0  1718.745708   \n",
       "PHEV     431.922479  ...  503.60  577.50           14150.0  1235.922261   \n",
       "\n",
       "                                                           \n",
       "               std    min     25%     50%     75%     max  \n",
       "ev_type                                                    \n",
       "BEV      555.82996  500.0  1700.0  2000.0  2000.0  2000.0  \n",
       "PHEV     321.56575  500.0  1100.0  1100.0  1700.0  2000.0  \n",
       "\n",
       "[2 rows x 24 columns]"
      ]
     },
     "execution_count": 84,
     "metadata": {},
     "output_type": "execute_result"
    }
   ],
   "source": [
    "g3.describe()"
   ]
  },
  {
   "cell_type": "markdown",
   "id": "27d9eb33",
   "metadata": {},
   "source": [
    "\n",
    "We see that there are 2 groups in the dataset based on the attribute **ev_type**"
   ]
  },
  {
   "cell_type": "code",
   "execution_count": 85,
   "id": "cf4f38d7",
   "metadata": {},
   "outputs": [],
   "source": [
    "data5=data2.copy()"
   ]
  },
  {
   "cell_type": "code",
   "execution_count": 86,
   "id": "7d1f45f1",
   "metadata": {},
   "outputs": [
    {
     "data": {
      "text/plain": [
       "<pandas.core.groupby.generic.DataFrameGroupBy object at 0x000002C5CCB90FD0>"
      ]
     },
     "execution_count": 86,
     "metadata": {},
     "output_type": "execute_result"
    }
   ],
   "source": [
    "g4 = data5.groupby('transaction_type')\n",
    "g4"
   ]
  },
  {
   "cell_type": "code",
   "execution_count": 87,
   "id": "f3b4482d",
   "metadata": {},
   "outputs": [
    {
     "data": {
      "text/html": [
       "<div>\n",
       "<style scoped>\n",
       "    .dataframe tbody tr th:only-of-type {\n",
       "        vertical-align: middle;\n",
       "    }\n",
       "\n",
       "    .dataframe tbody tr th {\n",
       "        vertical-align: top;\n",
       "    }\n",
       "\n",
       "    .dataframe thead tr th {\n",
       "        text-align: left;\n",
       "    }\n",
       "\n",
       "    .dataframe thead tr:last-of-type th {\n",
       "        text-align: right;\n",
       "    }\n",
       "</style>\n",
       "<table border=\"1\" class=\"dataframe\">\n",
       "  <thead>\n",
       "    <tr>\n",
       "      <th></th>\n",
       "      <th colspan=\"8\" halign=\"left\">annual_ghg_emissions_reductions_mt_co2e</th>\n",
       "      <th colspan=\"5\" halign=\"left\">annual_petroleum_reductions_gallons</th>\n",
       "      <th colspan=\"8\" halign=\"left\">rebate_amount_usd</th>\n",
       "    </tr>\n",
       "    <tr>\n",
       "      <th></th>\n",
       "      <th>count</th>\n",
       "      <th>mean</th>\n",
       "      <th>std</th>\n",
       "      <th>min</th>\n",
       "      <th>25%</th>\n",
       "      <th>50%</th>\n",
       "      <th>75%</th>\n",
       "      <th>max</th>\n",
       "      <th>count</th>\n",
       "      <th>mean</th>\n",
       "      <th>...</th>\n",
       "      <th>75%</th>\n",
       "      <th>max</th>\n",
       "      <th>count</th>\n",
       "      <th>mean</th>\n",
       "      <th>std</th>\n",
       "      <th>min</th>\n",
       "      <th>25%</th>\n",
       "      <th>50%</th>\n",
       "      <th>75%</th>\n",
       "      <th>max</th>\n",
       "    </tr>\n",
       "    <tr>\n",
       "      <th>transaction_type</th>\n",
       "      <th></th>\n",
       "      <th></th>\n",
       "      <th></th>\n",
       "      <th></th>\n",
       "      <th></th>\n",
       "      <th></th>\n",
       "      <th></th>\n",
       "      <th></th>\n",
       "      <th></th>\n",
       "      <th></th>\n",
       "      <th></th>\n",
       "      <th></th>\n",
       "      <th></th>\n",
       "      <th></th>\n",
       "      <th></th>\n",
       "      <th></th>\n",
       "      <th></th>\n",
       "      <th></th>\n",
       "      <th></th>\n",
       "      <th></th>\n",
       "      <th></th>\n",
       "    </tr>\n",
       "  </thead>\n",
       "  <tbody>\n",
       "    <tr>\n",
       "      <th>Lease</th>\n",
       "      <td>9564.0</td>\n",
       "      <td>2.569185</td>\n",
       "      <td>0.593237</td>\n",
       "      <td>0.06</td>\n",
       "      <td>2.26</td>\n",
       "      <td>2.70</td>\n",
       "      <td>2.95</td>\n",
       "      <td>3.31</td>\n",
       "      <td>9564.0</td>\n",
       "      <td>477.011410</td>\n",
       "      <td>...</td>\n",
       "      <td>592.89</td>\n",
       "      <td>592.89</td>\n",
       "      <td>9564.0</td>\n",
       "      <td>1422.49059</td>\n",
       "      <td>454.996805</td>\n",
       "      <td>500.0</td>\n",
       "      <td>1100.0</td>\n",
       "      <td>1700.0</td>\n",
       "      <td>1700.0</td>\n",
       "      <td>2000.0</td>\n",
       "    </tr>\n",
       "    <tr>\n",
       "      <th>Purchase</th>\n",
       "      <td>13324.0</td>\n",
       "      <td>2.839451</td>\n",
       "      <td>0.516616</td>\n",
       "      <td>0.06</td>\n",
       "      <td>2.91</td>\n",
       "      <td>3.03</td>\n",
       "      <td>3.03</td>\n",
       "      <td>3.31</td>\n",
       "      <td>13324.0</td>\n",
       "      <td>505.121493</td>\n",
       "      <td>...</td>\n",
       "      <td>592.89</td>\n",
       "      <td>592.89</td>\n",
       "      <td>13324.0</td>\n",
       "      <td>1418.64305</td>\n",
       "      <td>508.269015</td>\n",
       "      <td>500.0</td>\n",
       "      <td>1100.0</td>\n",
       "      <td>1100.0</td>\n",
       "      <td>2000.0</td>\n",
       "      <td>2000.0</td>\n",
       "    </tr>\n",
       "  </tbody>\n",
       "</table>\n",
       "<p>2 rows × 24 columns</p>\n",
       "</div>"
      ],
      "text/plain": [
       "                 annual_ghg_emissions_reductions_mt_co2e                      \\\n",
       "                                                   count      mean       std   \n",
       "transaction_type                                                               \n",
       "Lease                                             9564.0  2.569185  0.593237   \n",
       "Purchase                                         13324.0  2.839451  0.516616   \n",
       "\n",
       "                                                \\\n",
       "                   min   25%   50%   75%   max   \n",
       "transaction_type                                 \n",
       "Lease             0.06  2.26  2.70  2.95  3.31   \n",
       "Purchase          0.06  2.91  3.03  3.03  3.31   \n",
       "\n",
       "                 annual_petroleum_reductions_gallons              ...          \\\n",
       "                                               count        mean  ...     75%   \n",
       "transaction_type                                                  ...           \n",
       "Lease                                         9564.0  477.011410  ...  592.89   \n",
       "Purchase                                     13324.0  505.121493  ...  592.89   \n",
       "\n",
       "                         rebate_amount_usd                                 \\\n",
       "                     max             count        mean         std    min   \n",
       "transaction_type                                                            \n",
       "Lease             592.89            9564.0  1422.49059  454.996805  500.0   \n",
       "Purchase          592.89           13324.0  1418.64305  508.269015  500.0   \n",
       "\n",
       "                                                  \n",
       "                     25%     50%     75%     max  \n",
       "transaction_type                                  \n",
       "Lease             1100.0  1700.0  1700.0  2000.0  \n",
       "Purchase          1100.0  1100.0  2000.0  2000.0  \n",
       "\n",
       "[2 rows x 24 columns]"
      ]
     },
     "execution_count": 87,
     "metadata": {},
     "output_type": "execute_result"
    }
   ],
   "source": [
    "g4.describe()"
   ]
  },
  {
   "cell_type": "markdown",
   "id": "bfa3fc50",
   "metadata": {},
   "source": [
    "\n",
    "We see that there are 2 groups in the dataset based on the attribute **transaction_type**"
   ]
  },
  {
   "cell_type": "code",
   "execution_count": 88,
   "id": "f4e2b321",
   "metadata": {},
   "outputs": [],
   "source": [
    "data6=data2.copy()"
   ]
  },
  {
   "cell_type": "code",
   "execution_count": 89,
   "id": "ce64a484",
   "metadata": {},
   "outputs": [
    {
     "data": {
      "text/plain": [
       "<pandas.core.groupby.generic.DataFrameGroupBy object at 0x000002C5CCB5ACD0>"
      ]
     },
     "execution_count": 89,
     "metadata": {},
     "output_type": "execute_result"
    }
   ],
   "source": [
    "g5 = data6.groupby(['make','model','ev_type','transaction_type'])\n",
    "g5"
   ]
  },
  {
   "cell_type": "code",
   "execution_count": 90,
   "id": "ead44e38",
   "metadata": {},
   "outputs": [
    {
     "data": {
      "text/html": [
       "<div>\n",
       "<style scoped>\n",
       "    .dataframe tbody tr th:only-of-type {\n",
       "        vertical-align: middle;\n",
       "    }\n",
       "\n",
       "    .dataframe tbody tr th {\n",
       "        vertical-align: top;\n",
       "    }\n",
       "\n",
       "    .dataframe thead tr th {\n",
       "        text-align: left;\n",
       "    }\n",
       "\n",
       "    .dataframe thead tr:last-of-type th {\n",
       "        text-align: right;\n",
       "    }\n",
       "</style>\n",
       "<table border=\"1\" class=\"dataframe\">\n",
       "  <thead>\n",
       "    <tr>\n",
       "      <th></th>\n",
       "      <th></th>\n",
       "      <th></th>\n",
       "      <th></th>\n",
       "      <th colspan=\"8\" halign=\"left\">annual_ghg_emissions_reductions_mt_co2e</th>\n",
       "      <th colspan=\"5\" halign=\"left\">annual_petroleum_reductions_gallons</th>\n",
       "      <th colspan=\"8\" halign=\"left\">rebate_amount_usd</th>\n",
       "    </tr>\n",
       "    <tr>\n",
       "      <th></th>\n",
       "      <th></th>\n",
       "      <th></th>\n",
       "      <th></th>\n",
       "      <th>count</th>\n",
       "      <th>mean</th>\n",
       "      <th>std</th>\n",
       "      <th>min</th>\n",
       "      <th>25%</th>\n",
       "      <th>50%</th>\n",
       "      <th>75%</th>\n",
       "      <th>max</th>\n",
       "      <th>count</th>\n",
       "      <th>mean</th>\n",
       "      <th>...</th>\n",
       "      <th>75%</th>\n",
       "      <th>max</th>\n",
       "      <th>count</th>\n",
       "      <th>mean</th>\n",
       "      <th>std</th>\n",
       "      <th>min</th>\n",
       "      <th>25%</th>\n",
       "      <th>50%</th>\n",
       "      <th>75%</th>\n",
       "      <th>max</th>\n",
       "    </tr>\n",
       "    <tr>\n",
       "      <th>make</th>\n",
       "      <th>model</th>\n",
       "      <th>ev_type</th>\n",
       "      <th>transaction_type</th>\n",
       "      <th></th>\n",
       "      <th></th>\n",
       "      <th></th>\n",
       "      <th></th>\n",
       "      <th></th>\n",
       "      <th></th>\n",
       "      <th></th>\n",
       "      <th></th>\n",
       "      <th></th>\n",
       "      <th></th>\n",
       "      <th></th>\n",
       "      <th></th>\n",
       "      <th></th>\n",
       "      <th></th>\n",
       "      <th></th>\n",
       "      <th></th>\n",
       "      <th></th>\n",
       "      <th></th>\n",
       "      <th></th>\n",
       "      <th></th>\n",
       "      <th></th>\n",
       "    </tr>\n",
       "  </thead>\n",
       "  <tbody>\n",
       "    <tr>\n",
       "      <th rowspan=\"3\" valign=\"top\">Audi</th>\n",
       "      <th>A3 e-tron</th>\n",
       "      <th>PHEV</th>\n",
       "      <th>Purchase</th>\n",
       "      <td>2.0</td>\n",
       "      <td>1.66</td>\n",
       "      <td>0.000000e+00</td>\n",
       "      <td>1.66</td>\n",
       "      <td>1.66</td>\n",
       "      <td>1.66</td>\n",
       "      <td>1.66</td>\n",
       "      <td>1.66</td>\n",
       "      <td>2.0</td>\n",
       "      <td>292.890000</td>\n",
       "      <td>...</td>\n",
       "      <td>292.89</td>\n",
       "      <td>292.89</td>\n",
       "      <td>2.0</td>\n",
       "      <td>500.0</td>\n",
       "      <td>0.0</td>\n",
       "      <td>500.0</td>\n",
       "      <td>500.0</td>\n",
       "      <td>500.0</td>\n",
       "      <td>500.0</td>\n",
       "      <td>500.0</td>\n",
       "    </tr>\n",
       "    <tr>\n",
       "      <th rowspan=\"2\" valign=\"top\">e-tron</th>\n",
       "      <th rowspan=\"2\" valign=\"top\">BEV</th>\n",
       "      <th>Lease</th>\n",
       "      <td>20.0</td>\n",
       "      <td>1.65</td>\n",
       "      <td>2.278130e-16</td>\n",
       "      <td>1.65</td>\n",
       "      <td>1.65</td>\n",
       "      <td>1.65</td>\n",
       "      <td>1.65</td>\n",
       "      <td>1.65</td>\n",
       "      <td>20.0</td>\n",
       "      <td>592.890000</td>\n",
       "      <td>...</td>\n",
       "      <td>592.89</td>\n",
       "      <td>592.89</td>\n",
       "      <td>20.0</td>\n",
       "      <td>500.0</td>\n",
       "      <td>0.0</td>\n",
       "      <td>500.0</td>\n",
       "      <td>500.0</td>\n",
       "      <td>500.0</td>\n",
       "      <td>500.0</td>\n",
       "      <td>500.0</td>\n",
       "    </tr>\n",
       "    <tr>\n",
       "      <th>Purchase</th>\n",
       "      <td>19.0</td>\n",
       "      <td>1.65</td>\n",
       "      <td>2.281291e-16</td>\n",
       "      <td>1.65</td>\n",
       "      <td>1.65</td>\n",
       "      <td>1.65</td>\n",
       "      <td>1.65</td>\n",
       "      <td>1.65</td>\n",
       "      <td>19.0</td>\n",
       "      <td>592.890000</td>\n",
       "      <td>...</td>\n",
       "      <td>592.89</td>\n",
       "      <td>592.89</td>\n",
       "      <td>19.0</td>\n",
       "      <td>500.0</td>\n",
       "      <td>0.0</td>\n",
       "      <td>500.0</td>\n",
       "      <td>500.0</td>\n",
       "      <td>500.0</td>\n",
       "      <td>500.0</td>\n",
       "      <td>500.0</td>\n",
       "    </tr>\n",
       "    <tr>\n",
       "      <th rowspan=\"2\" valign=\"top\">BMW</th>\n",
       "      <th rowspan=\"2\" valign=\"top\">330e</th>\n",
       "      <th rowspan=\"2\" valign=\"top\">PHEV</th>\n",
       "      <th>Lease</th>\n",
       "      <td>15.0</td>\n",
       "      <td>1.13</td>\n",
       "      <td>4.596760e-16</td>\n",
       "      <td>1.13</td>\n",
       "      <td>1.13</td>\n",
       "      <td>1.13</td>\n",
       "      <td>1.13</td>\n",
       "      <td>1.13</td>\n",
       "      <td>15.0</td>\n",
       "      <td>239.660000</td>\n",
       "      <td>...</td>\n",
       "      <td>239.66</td>\n",
       "      <td>239.66</td>\n",
       "      <td>15.0</td>\n",
       "      <td>500.0</td>\n",
       "      <td>0.0</td>\n",
       "      <td>500.0</td>\n",
       "      <td>500.0</td>\n",
       "      <td>500.0</td>\n",
       "      <td>500.0</td>\n",
       "      <td>500.0</td>\n",
       "    </tr>\n",
       "    <tr>\n",
       "      <th>Purchase</th>\n",
       "      <td>1.0</td>\n",
       "      <td>1.13</td>\n",
       "      <td>NaN</td>\n",
       "      <td>1.13</td>\n",
       "      <td>1.13</td>\n",
       "      <td>1.13</td>\n",
       "      <td>1.13</td>\n",
       "      <td>1.13</td>\n",
       "      <td>1.0</td>\n",
       "      <td>239.660000</td>\n",
       "      <td>...</td>\n",
       "      <td>239.66</td>\n",
       "      <td>239.66</td>\n",
       "      <td>1.0</td>\n",
       "      <td>500.0</td>\n",
       "      <td>NaN</td>\n",
       "      <td>500.0</td>\n",
       "      <td>500.0</td>\n",
       "      <td>500.0</td>\n",
       "      <td>500.0</td>\n",
       "      <td>500.0</td>\n",
       "    </tr>\n",
       "    <tr>\n",
       "      <th>...</th>\n",
       "      <th>...</th>\n",
       "      <th>...</th>\n",
       "      <th>...</th>\n",
       "      <td>...</td>\n",
       "      <td>...</td>\n",
       "      <td>...</td>\n",
       "      <td>...</td>\n",
       "      <td>...</td>\n",
       "      <td>...</td>\n",
       "      <td>...</td>\n",
       "      <td>...</td>\n",
       "      <td>...</td>\n",
       "      <td>...</td>\n",
       "      <td>...</td>\n",
       "      <td>...</td>\n",
       "      <td>...</td>\n",
       "      <td>...</td>\n",
       "      <td>...</td>\n",
       "      <td>...</td>\n",
       "      <td>...</td>\n",
       "      <td>...</td>\n",
       "      <td>...</td>\n",
       "      <td>...</td>\n",
       "      <td>...</td>\n",
       "    </tr>\n",
       "    <tr>\n",
       "      <th rowspan=\"5\" valign=\"top\">Volvo</th>\n",
       "      <th>S90 T8</th>\n",
       "      <th>PHEV</th>\n",
       "      <th>Purchase</th>\n",
       "      <td>1.0</td>\n",
       "      <td>1.09</td>\n",
       "      <td>NaN</td>\n",
       "      <td>1.09</td>\n",
       "      <td>1.09</td>\n",
       "      <td>1.09</td>\n",
       "      <td>1.09</td>\n",
       "      <td>1.09</td>\n",
       "      <td>1.0</td>\n",
       "      <td>277.370000</td>\n",
       "      <td>...</td>\n",
       "      <td>277.37</td>\n",
       "      <td>277.37</td>\n",
       "      <td>1.0</td>\n",
       "      <td>500.0</td>\n",
       "      <td>NaN</td>\n",
       "      <td>500.0</td>\n",
       "      <td>500.0</td>\n",
       "      <td>500.0</td>\n",
       "      <td>500.0</td>\n",
       "      <td>500.0</td>\n",
       "    </tr>\n",
       "    <tr>\n",
       "      <th rowspan=\"2\" valign=\"top\">XC60 T8</th>\n",
       "      <th rowspan=\"2\" valign=\"top\">PHEV</th>\n",
       "      <th>Lease</th>\n",
       "      <td>2.0</td>\n",
       "      <td>0.40</td>\n",
       "      <td>0.000000e+00</td>\n",
       "      <td>0.40</td>\n",
       "      <td>0.40</td>\n",
       "      <td>0.40</td>\n",
       "      <td>0.40</td>\n",
       "      <td>0.40</td>\n",
       "      <td>2.0</td>\n",
       "      <td>200.580000</td>\n",
       "      <td>...</td>\n",
       "      <td>200.58</td>\n",
       "      <td>200.58</td>\n",
       "      <td>2.0</td>\n",
       "      <td>500.0</td>\n",
       "      <td>0.0</td>\n",
       "      <td>500.0</td>\n",
       "      <td>500.0</td>\n",
       "      <td>500.0</td>\n",
       "      <td>500.0</td>\n",
       "      <td>500.0</td>\n",
       "    </tr>\n",
       "    <tr>\n",
       "      <th>Purchase</th>\n",
       "      <td>8.0</td>\n",
       "      <td>0.40</td>\n",
       "      <td>0.000000e+00</td>\n",
       "      <td>0.40</td>\n",
       "      <td>0.40</td>\n",
       "      <td>0.40</td>\n",
       "      <td>0.40</td>\n",
       "      <td>0.40</td>\n",
       "      <td>8.0</td>\n",
       "      <td>200.580000</td>\n",
       "      <td>...</td>\n",
       "      <td>200.58</td>\n",
       "      <td>200.58</td>\n",
       "      <td>8.0</td>\n",
       "      <td>500.0</td>\n",
       "      <td>0.0</td>\n",
       "      <td>500.0</td>\n",
       "      <td>500.0</td>\n",
       "      <td>500.0</td>\n",
       "      <td>500.0</td>\n",
       "      <td>500.0</td>\n",
       "    </tr>\n",
       "    <tr>\n",
       "      <th rowspan=\"2\" valign=\"top\">XC90 T8</th>\n",
       "      <th rowspan=\"2\" valign=\"top\">PHEV</th>\n",
       "      <th>Lease</th>\n",
       "      <td>3.0</td>\n",
       "      <td>0.54</td>\n",
       "      <td>2.424871e-01</td>\n",
       "      <td>0.26</td>\n",
       "      <td>0.47</td>\n",
       "      <td>0.68</td>\n",
       "      <td>0.68</td>\n",
       "      <td>0.68</td>\n",
       "      <td>3.0</td>\n",
       "      <td>216.143333</td>\n",
       "      <td>...</td>\n",
       "      <td>231.77</td>\n",
       "      <td>231.77</td>\n",
       "      <td>3.0</td>\n",
       "      <td>500.0</td>\n",
       "      <td>0.0</td>\n",
       "      <td>500.0</td>\n",
       "      <td>500.0</td>\n",
       "      <td>500.0</td>\n",
       "      <td>500.0</td>\n",
       "      <td>500.0</td>\n",
       "    </tr>\n",
       "    <tr>\n",
       "      <th>Purchase</th>\n",
       "      <td>3.0</td>\n",
       "      <td>0.40</td>\n",
       "      <td>2.424871e-01</td>\n",
       "      <td>0.26</td>\n",
       "      <td>0.26</td>\n",
       "      <td>0.26</td>\n",
       "      <td>0.47</td>\n",
       "      <td>0.68</td>\n",
       "      <td>3.0</td>\n",
       "      <td>200.516667</td>\n",
       "      <td>...</td>\n",
       "      <td>208.33</td>\n",
       "      <td>231.77</td>\n",
       "      <td>3.0</td>\n",
       "      <td>500.0</td>\n",
       "      <td>0.0</td>\n",
       "      <td>500.0</td>\n",
       "      <td>500.0</td>\n",
       "      <td>500.0</td>\n",
       "      <td>500.0</td>\n",
       "      <td>500.0</td>\n",
       "    </tr>\n",
       "  </tbody>\n",
       "</table>\n",
       "<p>83 rows × 24 columns</p>\n",
       "</div>"
      ],
      "text/plain": [
       "                                         annual_ghg_emissions_reductions_mt_co2e  \\\n",
       "                                                                           count   \n",
       "make  model     ev_type transaction_type                                           \n",
       "Audi  A3 e-tron PHEV    Purchase                                             2.0   \n",
       "      e-tron    BEV     Lease                                               20.0   \n",
       "                        Purchase                                            19.0   \n",
       "BMW   330e      PHEV    Lease                                               15.0   \n",
       "                        Purchase                                             1.0   \n",
       "...                                                                          ...   \n",
       "Volvo S90 T8    PHEV    Purchase                                             1.0   \n",
       "      XC60 T8   PHEV    Lease                                                2.0   \n",
       "                        Purchase                                             8.0   \n",
       "      XC90 T8   PHEV    Lease                                                3.0   \n",
       "                        Purchase                                             3.0   \n",
       "\n",
       "                                                                          \\\n",
       "                                          mean           std   min   25%   \n",
       "make  model     ev_type transaction_type                                   \n",
       "Audi  A3 e-tron PHEV    Purchase          1.66  0.000000e+00  1.66  1.66   \n",
       "      e-tron    BEV     Lease             1.65  2.278130e-16  1.65  1.65   \n",
       "                        Purchase          1.65  2.281291e-16  1.65  1.65   \n",
       "BMW   330e      PHEV    Lease             1.13  4.596760e-16  1.13  1.13   \n",
       "                        Purchase          1.13           NaN  1.13  1.13   \n",
       "...                                        ...           ...   ...   ...   \n",
       "Volvo S90 T8    PHEV    Purchase          1.09           NaN  1.09  1.09   \n",
       "      XC60 T8   PHEV    Lease             0.40  0.000000e+00  0.40  0.40   \n",
       "                        Purchase          0.40  0.000000e+00  0.40  0.40   \n",
       "      XC90 T8   PHEV    Lease             0.54  2.424871e-01  0.26  0.47   \n",
       "                        Purchase          0.40  2.424871e-01  0.26  0.26   \n",
       "\n",
       "                                                            \\\n",
       "                                           50%   75%   max   \n",
       "make  model     ev_type transaction_type                     \n",
       "Audi  A3 e-tron PHEV    Purchase          1.66  1.66  1.66   \n",
       "      e-tron    BEV     Lease             1.65  1.65  1.65   \n",
       "                        Purchase          1.65  1.65  1.65   \n",
       "BMW   330e      PHEV    Lease             1.13  1.13  1.13   \n",
       "                        Purchase          1.13  1.13  1.13   \n",
       "...                                        ...   ...   ...   \n",
       "Volvo S90 T8    PHEV    Purchase          1.09  1.09  1.09   \n",
       "      XC60 T8   PHEV    Lease             0.40  0.40  0.40   \n",
       "                        Purchase          0.40  0.40  0.40   \n",
       "      XC90 T8   PHEV    Lease             0.68  0.68  0.68   \n",
       "                        Purchase          0.26  0.47  0.68   \n",
       "\n",
       "                                         annual_petroleum_reductions_gallons  \\\n",
       "                                                                       count   \n",
       "make  model     ev_type transaction_type                                       \n",
       "Audi  A3 e-tron PHEV    Purchase                                         2.0   \n",
       "      e-tron    BEV     Lease                                           20.0   \n",
       "                        Purchase                                        19.0   \n",
       "BMW   330e      PHEV    Lease                                           15.0   \n",
       "                        Purchase                                         1.0   \n",
       "...                                                                      ...   \n",
       "Volvo S90 T8    PHEV    Purchase                                         1.0   \n",
       "      XC60 T8   PHEV    Lease                                            2.0   \n",
       "                        Purchase                                         8.0   \n",
       "      XC90 T8   PHEV    Lease                                            3.0   \n",
       "                        Purchase                                         3.0   \n",
       "\n",
       "                                                      ...                  \\\n",
       "                                                mean  ...     75%     max   \n",
       "make  model     ev_type transaction_type              ...                   \n",
       "Audi  A3 e-tron PHEV    Purchase          292.890000  ...  292.89  292.89   \n",
       "      e-tron    BEV     Lease             592.890000  ...  592.89  592.89   \n",
       "                        Purchase          592.890000  ...  592.89  592.89   \n",
       "BMW   330e      PHEV    Lease             239.660000  ...  239.66  239.66   \n",
       "                        Purchase          239.660000  ...  239.66  239.66   \n",
       "...                                              ...  ...     ...     ...   \n",
       "Volvo S90 T8    PHEV    Purchase          277.370000  ...  277.37  277.37   \n",
       "      XC60 T8   PHEV    Lease             200.580000  ...  200.58  200.58   \n",
       "                        Purchase          200.580000  ...  200.58  200.58   \n",
       "      XC90 T8   PHEV    Lease             216.143333  ...  231.77  231.77   \n",
       "                        Purchase          200.516667  ...  208.33  231.77   \n",
       "\n",
       "                                         rebate_amount_usd                     \\\n",
       "                                                     count   mean  std    min   \n",
       "make  model     ev_type transaction_type                                        \n",
       "Audi  A3 e-tron PHEV    Purchase                       2.0  500.0  0.0  500.0   \n",
       "      e-tron    BEV     Lease                         20.0  500.0  0.0  500.0   \n",
       "                        Purchase                      19.0  500.0  0.0  500.0   \n",
       "BMW   330e      PHEV    Lease                         15.0  500.0  0.0  500.0   \n",
       "                        Purchase                       1.0  500.0  NaN  500.0   \n",
       "...                                                    ...    ...  ...    ...   \n",
       "Volvo S90 T8    PHEV    Purchase                       1.0  500.0  NaN  500.0   \n",
       "      XC60 T8   PHEV    Lease                          2.0  500.0  0.0  500.0   \n",
       "                        Purchase                       8.0  500.0  0.0  500.0   \n",
       "      XC90 T8   PHEV    Lease                          3.0  500.0  0.0  500.0   \n",
       "                        Purchase                       3.0  500.0  0.0  500.0   \n",
       "\n",
       "                                                                      \n",
       "                                            25%    50%    75%    max  \n",
       "make  model     ev_type transaction_type                              \n",
       "Audi  A3 e-tron PHEV    Purchase          500.0  500.0  500.0  500.0  \n",
       "      e-tron    BEV     Lease             500.0  500.0  500.0  500.0  \n",
       "                        Purchase          500.0  500.0  500.0  500.0  \n",
       "BMW   330e      PHEV    Lease             500.0  500.0  500.0  500.0  \n",
       "                        Purchase          500.0  500.0  500.0  500.0  \n",
       "...                                         ...    ...    ...    ...  \n",
       "Volvo S90 T8    PHEV    Purchase          500.0  500.0  500.0  500.0  \n",
       "      XC60 T8   PHEV    Lease             500.0  500.0  500.0  500.0  \n",
       "                        Purchase          500.0  500.0  500.0  500.0  \n",
       "      XC90 T8   PHEV    Lease             500.0  500.0  500.0  500.0  \n",
       "                        Purchase          500.0  500.0  500.0  500.0  \n",
       "\n",
       "[83 rows x 24 columns]"
      ]
     },
     "execution_count": 90,
     "metadata": {},
     "output_type": "execute_result"
    }
   ],
   "source": [
    "g5.describe()"
   ]
  },
  {
   "cell_type": "markdown",
   "id": "e00c140d",
   "metadata": {},
   "source": [
    "We see that there from the **20** unique car manufactures, **45** unique car models, **2** unique ev types and **2** unique transaction types there is a total of **83** unique combinations for the 4 atrributes of **Model, Make, EV Type and Transaction Type**"
   ]
  },
  {
   "cell_type": "markdown",
   "id": "a161ef31",
   "metadata": {},
   "source": [
    "## Graph Plotting and Conclusion"
   ]
  },
  {
   "cell_type": "code",
   "execution_count": 91,
   "id": "6dfb0c16",
   "metadata": {},
   "outputs": [],
   "source": [
    "import seaborn as sns"
   ]
  },
  {
   "cell_type": "code",
   "execution_count": 92,
   "id": "872a5b95",
   "metadata": {},
   "outputs": [
    {
     "data": {
      "text/plain": [
       "<AxesSubplot:xlabel='annual_ghg_emissions_reductions_mt_co2e', ylabel='Count'>"
      ]
     },
     "execution_count": 92,
     "metadata": {},
     "output_type": "execute_result"
    },
    {
     "data": {
      "image/png": "[encoded data removed]",
      "text/plain": [
       "<Figure size 432x288 with 1 Axes>"
      ]
     },
     "metadata": {
      "needs_background": "light"
     },
     "output_type": "display_data"
    }
   ],
   "source": [
    "sns.histplot(data2['annual_ghg_emissions_reductions_mt_co2e'])"
   ]
  },
  {
   "cell_type": "markdown",
   "id": "64cae27e",
   "metadata": {},
   "source": [
    "## Conclusion 1\n",
    "\n",
    "\"annual_ghg_emissions_reductions_mt_co2e\" refers to the amount of annual greenhouse gas (GHG) emissions that have been reduced or avoided, measured in metric tons of carbon dioxide equivalent (MT CO2e). This metric is commonly used to track progress in reducing GHG emissions, which contribute to climate change. The term \"CO2e\" refers to the amount of CO2 that would have the same warming effect as the combination of all other GHGs, such as methane and nitrous oxide.\n",
    "\n",
    "We see that the count of annual_ghg_emissions_reductions_mt_co2e with the value between 2 and 3 is more in the datset which means that the count of total amount of greenhouse gases emissions (measured in metric tons of CO2 equivalent) that have been reduced in a given year is between 2 and 3 is large which is good for the environment.\n",
    "\n",
    "This reduction can be due to various measures taken to mitigate emissions such as the adoption of renewable energy sources, energy efficiency improvements, or carbon capture and storage technologies.\n",
    "\n",
    "Since our dataset is concerned with electric vehicles, this means that if the businesses develop electric cars in India it would be beneficial to the environment since the total amount of greenhouse gases emissions (measured in metric tons of CO2 equivalent) hat have been reduced in a given year is between 2 and 3."
   ]
  },
  {
   "cell_type": "code",
   "execution_count": 93,
   "id": "2d5342e0",
   "metadata": {},
   "outputs": [
    {
     "data": {
      "text/plain": [
       "<AxesSubplot:xlabel='annual_petroleum_reductions_gallons', ylabel='Count'>"
      ]
     },
     "execution_count": 93,
     "metadata": {},
     "output_type": "execute_result"
    },
    {
     "data": {
      "image/png": "[encoded data removed]",
      "text/plain": [
       "<Figure size 432x288 with 1 Axes>"
      ]
     },
     "metadata": {
      "needs_background": "light"
     },
     "output_type": "display_data"
    }
   ],
   "source": [
    "sns.histplot(data2['annual_petroleum_reductions_gallons'])"
   ]
  },
  {
   "cell_type": "markdown",
   "id": "59fcc502",
   "metadata": {},
   "source": [
    "## Conclusion 2\n",
    "\n",
    "Annual petroleum reductions gallons is a measure of the amount of petroleum (usually gasoline or diesel) that is saved or not used due to a particular action or change in behavior. It is usually expressed in gallons per year and is used to quantify the impact of different policies, programs, or technologies that aim to reduce petroleum consumption and dependence.\n",
    "\n",
    "We see that the count of annual_petroleum_reductions_gallons with the value between 400 and 500 and around 600 is more in the datset which means that the count of total amount of petroleum (usually gasoline or diesel) that is saved is more which is good for the environment.\n",
    "\n",
    "Since our dataset is concerned with electric vehicles, this means that if the businesses develop electric cars in India it would be beneficial to the environment since the total amount of petroleum usage(usually gasoline or diesel) is saved."
   ]
  },
  {
   "cell_type": "code",
   "execution_count": 94,
   "id": "2b827338",
   "metadata": {},
   "outputs": [
    {
     "data": {
      "text/plain": [
       "<AxesSubplot:xlabel='annual_ghg_emissions_reductions_mt_co2e', ylabel='annual_petroleum_reductions_gallons'>"
      ]
     },
     "execution_count": 94,
     "metadata": {},
     "output_type": "execute_result"
    },
    {
     "data": {
      "image/png": "[encoded data removed]",
      "text/plain": [
       "<Figure size 432x288 with 1 Axes>"
      ]
     },
     "metadata": {
      "needs_background": "light"
     },
     "output_type": "display_data"
    }
   ],
   "source": [
    "sns.scatterplot(data=data2, x='annual_ghg_emissions_reductions_mt_co2e', y='annual_petroleum_reductions_gallons')"
   ]
  },
  {
   "cell_type": "markdown",
   "id": "26b68040",
   "metadata": {},
   "source": [
    "## Conclusion 3\n",
    "\n",
    "The data plotted in this scatter plot represents a collection of points, where each point represents a specific intervention or action taken to reduce greenhouse gas (GHG) emissions and petroleum usage. The x-axis represents the amount of GHG emissions reduced (in metric tons of CO2 equivalent) as a result of the intervention, while the y-axis represents the amount of petroleum usage reduced (in gallons) due to the intervention.\n",
    "\n",
    "The scatter plot helps visualize any correlation or relationship between the reduction in GHG emissions and petroleum usage.\n",
    "\n",
    "The points are tightly clustered around a diagonal line from the bottom left to the top right, it indicates a strong positive correlation, suggesting that as GHG emissions are reduced, so too is petroleum usage.\n",
    "\n",
    "Since our dataset is concerned with electric vehicles, this means that if the businesses develop electric cars in India it would be beneficial to the environment since the GHG emissions are reduced, so too is petroleum usage. More the amount of GHG emissions reduced , more the reduction in petroleum usage , which is beneficial for the businesses to develop electric cars in India."
   ]
  },
  {
   "cell_type": "code",
   "execution_count": null,
   "id": "e1413eff",
   "metadata": {},
   "outputs": [],
   "source": []
  }
 ],
 "metadata": {
  "kernelspec": {
   "display_name": "Python 3 (ipykernel)",
   "language": "python",
   "name": "python3"
  },
  "language_info": {
   "codemirror_mode": {
    "name": "ipython",
    "version": 3
   },
   "file_extension": ".py",
   "mimetype": "text/x-python",
   "name": "python",
   "nbconvert_exporter": "python",
   "pygments_lexer": "ipython3",
   "version": "3.9.7"
  }
 },
 "nbformat": 4,
 "nbformat_minor": 5
}
